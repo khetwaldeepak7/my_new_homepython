{
 "cells": [
  {
   "cell_type": "code",
   "execution_count": 1,
   "metadata": {},
   "outputs": [],
   "source": [
    "# suppose they have given as a list, in that we havce to calculate the number of 2 in that list"
   ]
  },
  {
   "cell_type": "code",
   "execution_count": 2,
   "metadata": {},
   "outputs": [],
   "source": [
    "a=[\"dee\",2,2,\"deepak2222\"]  # first list they have given.so with the help of the map function,we will convert it into tje str"
   ]
  },
  {
   "cell_type": "code",
   "execution_count": 4,
   "metadata": {},
   "outputs": [
    {
     "name": "stdout",
     "output_type": "stream",
     "text": [
      "['dee', '2', '2', 'deepak2222']\n"
     ]
    }
   ],
   "source": [
    "b=list(map(str,a))\n",
    "print(b)"
   ]
  },
  {
   "cell_type": "code",
   "execution_count": 5,
   "metadata": {},
   "outputs": [],
   "source": [
    "# now we will use join funtion ko join the all list,\n",
    "# join  ka matlab pura list ek sath join hoga and jo , comma tha uske replace mai condition dala,jaise\n",
    "# kahi par , comma ki jagah blanck space matlabh , ki jagah kuch nhi aayega and wah list join ho jayega\n",
    "# kahi par , ki jagah tune jo condition dia hai wah aayega"
   ]
  },
  {
   "cell_type": "code",
   "execution_count": 13,
   "metadata": {},
   "outputs": [
    {
     "name": "stdout",
     "output_type": "stream",
     "text": [
      "dee22deepak2222\n"
     ]
    }
   ],
   "source": [
    "# so idhar mai , ko ''blank sey separted kar rha hu\n",
    "\n",
    "#   c='4'.join(b)  #join hoga 4 sey jidhr jidhr(,)hoga udhr udhr 4 aa jayega \n",
    "#print(c)\n",
    "\n",
    "\n",
    "c=''.join(b)  # mean b mai jidhr jidhr (,) hai usko ('') blank sey separted karle ek jagh sabko leyka ana\n",
    "print(c)"
   ]
  },
  {
   "cell_type": "code",
   "execution_count": 14,
   "metadata": {},
   "outputs": [
    {
     "name": "stdout",
     "output_type": "stream",
     "text": [
      "deedeepak\n"
     ]
    }
   ],
   "source": [
    "#abh pura junk mil gyahai\n",
    "# abh 2 koremove karenge\n",
    "d=c.replace('2','')   # mean a mai sey jidhr jidhr 2 hai usko replace karke do,blank sey\n",
    "print(d)  # abh pura 2 nikal gya"
   ]
  },
  {
   "cell_type": "code",
   "execution_count": 15,
   "metadata": {},
   "outputs": [
    {
     "data": {
      "text/plain": [
       "6"
      ]
     },
     "execution_count": 15,
     "metadata": {},
     "output_type": "execute_result"
    }
   ],
   "source": [
    "# toh abh number of 2 count karne ke lia\n",
    "len(c)-len(d)  "
   ]
  },
  {
   "cell_type": "code",
   "execution_count": 9,
   "metadata": {},
   "outputs": [],
   "source": [
    "a=['deepak',22,'depak2222']\n",
    "dl=list(map(str,a))  # how does map work.map will perform function operation on every element\n",
    "p=''.join(dl)"
   ]
  },
  {
   "cell_type": "code",
   "execution_count": 12,
   "metadata": {},
   "outputs": [
    {
     "name": "stdout",
     "output_type": "stream",
     "text": [
      "deepak22depak2222\n"
     ]
    }
   ],
   "source": [
    "print(p)\n",
    "l=p.replace('2','')"
   ]
  },
  {
   "cell_type": "code",
   "execution_count": null,
   "metadata": {},
   "outputs": [],
   "source": []
  },
  {
   "cell_type": "code",
   "execution_count": null,
   "metadata": {},
   "outputs": [],
   "source": []
  }
 ],
 "metadata": {
  "kernelspec": {
   "display_name": "Python 3",
   "language": "python",
   "name": "python3"
  },
  "language_info": {
   "codemirror_mode": {
    "name": "ipython",
    "version": 3
   },
   "file_extension": ".py",
   "mimetype": "text/x-python",
   "name": "python",
   "nbconvert_exporter": "python",
   "pygments_lexer": "ipython3",
   "version": "3.8.2"
  }
 },
 "nbformat": 4,
 "nbformat_minor": 4
}
