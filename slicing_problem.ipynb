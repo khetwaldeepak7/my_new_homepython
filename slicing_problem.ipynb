{
 "cells": [
  {
   "cell_type": "code",
   "execution_count": 1,
   "metadata": {
    "scrolled": false
   },
   "outputs": [
    {
     "name": "stdout",
     "output_type": "stream",
     "text": [
      "[1, 2, 3, 4, 10, 20, 30]\n"
     ]
    }
   ],
   "source": [
    "s=[1,2,3,4]\n",
    "s.extend([10,20,30])\n",
    "print(s)\n",
    "#len(s)\n",
    "#s[1:4:]    # length 1 sey 3 takh hoga 4 wale ko chhod denge"
   ]
  },
  {
   "cell_type": "code",
   "execution_count": 2,
   "metadata": {},
   "outputs": [
    {
     "data": {
      "text/plain": [
       "[30, 10, 3, 1]"
      ]
     },
     "execution_count": 2,
     "metadata": {},
     "output_type": "execute_result"
    }
   ],
   "source": [
    "s[::-2] # negative slicing mai hamesha pehle index leyga uske baad dia huwe condition ke hisabh sey leyga.jise esmai 2 ka gap hai toh wah v 2 ka gap leyga\n",
    "# pehla index uske baad 1 chhod kar dusra"
   ]
  },
  {
   "cell_type": "code",
   "execution_count": 8,
   "metadata": {},
   "outputs": [
    {
     "name": "stdout",
     "output_type": "stream",
     "text": [
      "[30, 20, 10, 4, 3, 2, 1]\n"
     ]
    }
   ],
   "source": [
    "j=s[::-1]# when we do slicing ,we should stored that in some variable,to perform action on it\n",
    "print(j)"
   ]
  },
  {
   "cell_type": "code",
   "execution_count": 3,
   "metadata": {},
   "outputs": [
    {
     "name": "stdout",
     "output_type": "stream",
     "text": [
      "[30, 4, 1]\n"
     ]
    }
   ],
   "source": [
    "j=s[::-3]\n",
    "print(j)"
   ]
  },
  {
   "cell_type": "code",
   "execution_count": 2,
   "metadata": {},
   "outputs": [
    {
     "name": "stdout",
     "output_type": "stream",
     "text": [
      "4\n",
      "3\n",
      "2\n",
      "1\n"
     ]
    }
   ],
   "source": [
    "a=[1,2,3,4]\n",
    "l=len(a)-1\n",
    "start=0\n",
    "for i in range(l,start-1,-1):   # using this concept ,range 1,argument is the starting point ,2 argu is the ending point and 3 is the differnce between each number\n",
    "    print(a[i])"
   ]
  },
  {
   "cell_type": "code",
   "execution_count": 1,
   "metadata": {},
   "outputs": [],
   "source": []
  },
  {
   "cell_type": "code",
   "execution_count": null,
   "metadata": {},
   "outputs": [],
   "source": []
  }
 ],
 "metadata": {
  "kernelspec": {
   "display_name": "Python 3",
   "language": "python",
   "name": "python3"
  },
  "language_info": {
   "codemirror_mode": {
    "name": "ipython",
    "version": 3
   },
   "file_extension": ".py",
   "mimetype": "text/x-python",
   "name": "python",
   "nbconvert_exporter": "python",
   "pygments_lexer": "ipython3",
   "version": "3.8.2"
  }
 },
 "nbformat": 4,
 "nbformat_minor": 4
}
