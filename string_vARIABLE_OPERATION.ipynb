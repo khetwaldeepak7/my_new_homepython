{
 "cells": [
  {
   "cell_type": "code",
   "execution_count": 3,
   "metadata": {},
   "outputs": [
    {
     "name": "stdout",
     "output_type": "stream",
     "text": [
      "khetwal\n",
      "khetwal\n",
      "khetwal\n",
      "khetwal\n",
      "khetwal\n",
      "\n"
     ]
    }
   ],
   "source": [
    "23 * 'deepak'\n",
    "d=5*\"khetwal\\n\"  # to print the string multiple time\n",
    "print(d)"
   ]
  },
  {
   "cell_type": "code",
   "execution_count": 21,
   "metadata": {},
   "outputs": [
    {
     "name": "stdout",
     "output_type": "stream",
     "text": [
      "kapeed\n"
     ]
    }
   ],
   "source": [
    "d=\"deepak\"\n",
    "h=d[::-1]    # to reverse the string\n",
    "print(h)"
   ]
  },
  {
   "cell_type": "markdown",
   "metadata": {},
   "source": [
    " # how for loop take one one value from the string"
   ]
  },
  {
   "cell_type": "code",
   "execution_count": 3,
   "metadata": {},
   "outputs": [
    {
     "name": "stdout",
     "output_type": "stream",
     "text": [
      "d\n",
      "e\n",
      "e\n",
      "p\n",
      "a\n",
      "k\n"
     ]
    }
   ],
   "source": [
    "a=\"deepak\"\n",
    "for i in a:\n",
    "    print(i)  # this is how one by one value or element will be passed to i from a"
   ]
  },
  {
   "cell_type": "markdown",
   "metadata": {},
   "source": [
    "# how to find the index number of string using 3 variable"
   ]
  },
  {
   "cell_type": "code",
   "execution_count": 2,
   "metadata": {},
   "outputs": [
    {
     "name": "stdout",
     "output_type": "stream",
     "text": [
      "word found at the index number: 4\n"
     ]
    }
   ],
   "source": [
    "a=\"deepak\"\n",
    "count=0\n",
    "for i in a:\n",
    "    if(i=='a'):\n",
    "        print(\"word found at the index number:\",count)\n",
    "        count=count+1\n",
    "    else:\n",
    "        count=count+1"
   ]
  },
  {
   "cell_type": "code",
   "execution_count": null,
   "metadata": {},
   "outputs": [],
   "source": []
  },
  {
   "cell_type": "code",
   "execution_count": 4,
   "metadata": {},
   "outputs": [
    {
     "name": "stdout",
     "output_type": "stream",
     "text": [
      "deepak:\n",
      "avin\n",
      "deepak\\navin\n"
     ]
    }
   ],
   "source": [
    "# if we want to print the string as it is without checking the special character\n",
    "# that time we will use r as a raw \n",
    "a=\"deepak:\\navin\"\n",
    "print(a)   #here after slaces it took a \\n a new line characters  ,but if we want to neglect that special characters\n",
    "d=r\"deepak\\navin\"  #in the starting of the string use r as a special character\n",
    "print(d)"
   ]
  },
  {
   "cell_type": "markdown",
   "metadata": {},
   "source": [
    "# directly reversing string"
   ]
  },
  {
   "cell_type": "code",
   "execution_count": 5,
   "metadata": {},
   "outputs": [
    {
     "name": "stdout",
     "output_type": "stream",
     "text": [
      "kapeed\n"
     ]
    }
   ],
   "source": [
    "a='deepak'\n",
    "#d=list(a)\n",
    "#print(d)\n",
    "dl=a[::-1]    #directly reversing string\n",
    "print(dl)\n"
   ]
  },
  {
   "cell_type": "markdown",
   "metadata": {},
   "source": [
    "# printing multiple time"
   ]
  },
  {
   "cell_type": "code",
   "execution_count": 4,
   "metadata": {},
   "outputs": [
    {
     "data": {
      "text/plain": [
       "'deepakdeepakdeepakdeepakdeepakdeepakdeepakdeepakdeepakdeepak'"
      ]
     },
     "execution_count": 4,
     "metadata": {},
     "output_type": "execute_result"
    }
   ],
   "source": [
    "# to print string multiple time\n",
    "a=\"deepak\"   # as we have stored a deepak in a variable\n",
    "10 *a"
   ]
  },
  {
   "cell_type": "markdown",
   "metadata": {},
   "source": [
    "# to convert string to list"
   ]
  },
  {
   "cell_type": "code",
   "execution_count": 4,
   "metadata": {},
   "outputs": [
    {
     "data": {
      "text/plain": [
       "['d', 'e', 'e', 'p', 'a', 'k']"
      ]
     },
     "execution_count": 4,
     "metadata": {},
     "output_type": "execute_result"
    }
   ],
   "source": [
    "# to convert string to list\n",
    "a='deepak'\n",
    "list(a)    #so it will tell to convert a string of name a to list"
   ]
  },
  {
   "cell_type": "markdown",
   "metadata": {},
   "source": [
    "# string to list and than performing slicing and reversing it "
   ]
  },
  {
   "cell_type": "code",
   "execution_count": 7,
   "metadata": {},
   "outputs": [
    {
     "data": {
      "text/plain": [
       "['k', 'a', 'p', 'e', 'e', 'd']"
      ]
     },
     "execution_count": 7,
     "metadata": {},
     "output_type": "execute_result"
    }
   ],
   "source": [
    "# performing slicing operation in string ,\n",
    "#first convert into list n than perform slicing on that list\n",
    "a='deepak'\n",
    "dk=list(a) \n",
    "dk[::-1]"
   ]
  },
  {
   "cell_type": "markdown",
   "metadata": {},
   "source": [
    "# to convert list to array\n",
    "# array is a inbuild function in python.so we just have to import it"
   ]
  },
  {
   "cell_type": "code",
   "execution_count": 69,
   "metadata": {},
   "outputs": [
    {
     "name": "stdout",
     "output_type": "stream",
     "text": [
      "<class 'list'>\n",
      "array('i', [1, 2, 3, 4, 5])\n"
     ]
    }
   ],
   "source": [
    "from array import array\n",
    "d=[1,2,3,4,5]\n",
    "print(type(d))\n",
    "ar=array(\"i\",d)   #for integer\n",
    "#ar=array(\"u\",a)   #for string\n",
    "print(ar)\n"
   ]
  },
  {
   "cell_type": "code",
   "execution_count": 75,
   "metadata": {},
   "outputs": [
    {
     "name": "stdout",
     "output_type": "stream",
     "text": [
      "d:\\navin:\\nhello\n"
     ]
    }
   ],
   "source": [
    "a=r\"d:\\navin:\\nhello\"     #to escape the special characters    #we should used (r)\n",
    "print(a)"
   ]
  },
  {
   "cell_type": "code",
   "execution_count": 108,
   "metadata": {},
   "outputs": [
    {
     "data": {
      "text/plain": [
       "'deepak  khetwal'"
      ]
     },
     "execution_count": 108,
     "metadata": {},
     "output_type": "execute_result"
    }
   ],
   "source": [
    "\n",
    "name=\"khetwal\"\n",
    "\"deepak  \"+name  # add new string it into variable"
   ]
  },
  {
   "cell_type": "code",
   "execution_count": 118,
   "metadata": {},
   "outputs": [
    {
     "name": "stdout",
     "output_type": "stream",
     "text": [
      "6\n",
      "5\n",
      "4\n",
      "3\n",
      "2\n",
      "1\n"
     ]
    }
   ],
   "source": [
    "# to know the length of string we can used inbuild function\n",
    "for i in range(1,7):\n",
    "    b=len(name)-i\n",
    "    print(b)\n",
    "    #print(i)\n",
    "    "
   ]
  },
  {
   "cell_type": "code",
   "execution_count": 120,
   "metadata": {},
   "outputs": [
    {
     "data": {
      "text/plain": [
       "7"
      ]
     },
     "execution_count": 120,
     "metadata": {},
     "output_type": "execute_result"
    }
   ],
   "source": [
    "# to check the length of string we can used the length function\n",
    "d=\"youtube\"\n",
    "len(d)   #to calculate the length of string"
   ]
  },
  {
   "cell_type": "markdown",
   "metadata": {},
   "source": [
    "# check the slicing form in string"
   ]
  },
  {
   "cell_type": "code",
   "execution_count": 2,
   "metadata": {},
   "outputs": [
    {
     "data": {
      "text/plain": [
       "'gis'"
      ]
     },
     "execution_count": 2,
     "metadata": {},
     "output_type": "execute_result"
    }
   ],
   "source": [
    "a=\"sring\"\n",
    "a[::-2]   # pehla index hamesha raheyga fir uske baad ek number chhod kar dusra number leyga .. jaise humne usko condition dia hai"
   ]
  },
  {
   "cell_type": "code",
   "execution_count": 1,
   "metadata": {},
   "outputs": [],
   "source": [
    "# upar ka output condition ke based par hai,, -2 mean pehle toh -1 leyga than -2 ko chodeyga and -3 leyta fir 4 chhodeyga n -5 leyga\n",
    "# mean pehle ke baad 1 chhod kar dusra aise leyga"
   ]
  },
  {
   "cell_type": "code",
   "execution_count": 2,
   "metadata": {},
   "outputs": [
    {
     "data": {
      "text/plain": [
       "'dee'"
      ]
     },
     "execution_count": 2,
     "metadata": {},
     "output_type": "execute_result"
    }
   ],
   "source": [
    "dk=\"deepak\" # slicing in list\n",
    "dk[0:3]"
   ]
  },
  {
   "cell_type": "markdown",
   "metadata": {},
   "source": [
    "#  performing sorting in a string"
   ]
  },
  {
   "cell_type": "code",
   "execution_count": 2,
   "metadata": {},
   "outputs": [
    {
     "data": {
      "text/plain": [
       "['a', 'd', 'e', 'e', 'k', 'p']"
      ]
     },
     "execution_count": 2,
     "metadata": {},
     "output_type": "execute_result"
    }
   ],
   "source": [
    "tu=\"deepak\"\n",
    "sorted(tu)"
   ]
  },
  {
   "cell_type": "code",
   "execution_count": 7,
   "metadata": {},
   "outputs": [
    {
     "data": {
      "text/plain": [
       "'kapeed'"
      ]
     },
     "execution_count": 7,
     "metadata": {},
     "output_type": "execute_result"
    }
   ],
   "source": [
    "  #012345\n",
    "d='deepak'\n",
    "  #-6-5-4-3-2-1\n",
    "d[::-1]"
   ]
  },
  {
   "cell_type": "markdown",
   "metadata": {},
   "source": [
    "# we can convert string to set ,to get only the unique element"
   ]
  },
  {
   "cell_type": "code",
   "execution_count": 5,
   "metadata": {},
   "outputs": [
    {
     "name": "stdout",
     "output_type": "stream",
     "text": [
      "{'a', 'k', 'p', 'd', 'e'}\n"
     ]
    }
   ],
   "source": [
    "a=\"deepak\"\n",
    "p=set(a)  -#--#---#>> but the problem while convert into set is that is index is not so the value will get  changed  <#<<--#---\n",
    "print(p)   #--->>now it become set\n",
    "d=list(p)"
   ]
  },
  {
   "cell_type": "code",
   "execution_count": 8,
   "metadata": {},
   "outputs": [
    {
     "name": "stdout",
     "output_type": "stream",
     "text": [
      "['a', 'k', 'p', 'd', 'e']\n"
     ]
    }
   ],
   "source": [
    "print(d)"
   ]
  },
  {
   "cell_type": "code",
   "execution_count": 13,
   "metadata": {},
   "outputs": [
    {
     "data": {
      "text/plain": [
       "(1, 2, 3)"
      ]
     },
     "execution_count": 13,
     "metadata": {},
     "output_type": "execute_result"
    }
   ],
   "source": [
    "a={1,2,3}\n",
    "tuple(a)"
   ]
  },
  {
   "cell_type": "code",
   "execution_count": null,
   "metadata": {},
   "outputs": [],
   "source": []
  }
 ],
 "metadata": {
  "kernelspec": {
   "display_name": "Python 3",
   "language": "python",
   "name": "python3"
  },
  "language_info": {
   "codemirror_mode": {
    "name": "ipython",
    "version": 3
   },
   "file_extension": ".py",
   "mimetype": "text/x-python",
   "name": "python",
   "nbconvert_exporter": "python",
   "pygments_lexer": "ipython3",
   "version": "3.8.2"
  }
 },
 "nbformat": 4,
 "nbformat_minor": 4
}
