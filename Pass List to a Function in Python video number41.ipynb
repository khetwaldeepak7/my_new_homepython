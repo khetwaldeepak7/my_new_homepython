{
 "cells": [
  {
   "cell_type": "code",
   "execution_count": 1,
   "metadata": {},
   "outputs": [],
   "source": [
    "# passing a list to the function\n",
    "# returning 2 result"
   ]
  },
  {
   "cell_type": "code",
   "execution_count": 3,
   "metadata": {},
   "outputs": [
    {
     "name": "stdout",
     "output_type": "stream",
     "text": [
      "lis [1, 2, 3, 4, 5, 6, 7, 8, 9]\n",
      "number of even 4\n",
      "odd 5\n"
     ]
    }
   ],
   "source": [
    "def fun(li1):\n",
    "    counteve=0\n",
    "    countodd=0\n",
    "    for i in li1:\n",
    "        \n",
    "        if(i%2==0):\n",
    "            counteve=counteve+1\n",
    "    \n",
    "        else:\n",
    "            countodd=countodd+1\n",
    "        \n",
    "    return counteve,countodd   # at the end here i will return two values,so jidhr call kia hai function ko udhr yeh value rerun kareyga\n",
    "\n",
    "\n",
    "lis=[1,2,3,4,5,6,7,8,9]\n",
    "print(\"lis\",lis)\n",
    "even,odd=fun(lis)  # here we are calling function and storing that function value into 2 variable.because while returning the value it will return 2\n",
    "print(\"number of even\",even)\n",
    "print(\"odd\",odd)"
   ]
  },
  {
   "cell_type": "markdown",
   "metadata": {},
   "source": [
    "# take a list of name from the user ,and print the name whose has more than 5 character length"
   ]
  },
  {
   "cell_type": "code",
   "execution_count": 17,
   "metadata": {},
   "outputs": [
    {
     "name": "stdout",
     "output_type": "stream",
     "text": [
      "enter the length of list3\n",
      "de\n",
      "deepak\n",
      "khetwal\n",
      "['de', 'deepak', 'khetwal']\n",
      "the name which have more than 5 charactes  ['deepak', 'khetwal']\n"
     ]
    }
   ],
   "source": [
    "def name1(name):# function bnaya,\n",
    "    name_count=[]   #list lenge jismai wah ,n uslist ke value ke sth return kar denge\n",
    "    length=len(name)  # here the value of length is 3\n",
    "    \n",
    "   # print(length)     #printing the length\n",
    "    \n",
    "    for i in range(length):\n",
    "        if(len(name[i])<=5):      #this is the condition/kaisa hoga,i mai aya length o ,to check karyega name[0]index ki value\n",
    "            continue\n",
    "        else:\n",
    "            name_count.append(name[i])\n",
    "    \n",
    "    return name_count \n",
    "\n",
    "\n",
    "name=[]   #taking input from the list\n",
    "length=int(input(\"enter the length of list\"))\n",
    "for i in range(length):\n",
    "    y=input(\"\")\n",
    "    name.append(y)  #this is how we insert the value in the list\n",
    "    \n",
    "\n",
    "print(name)\n",
    "\n",
    "result=name1(name)  #function ko callkia n function value ko return karyega.\n",
    "print(\"the name which have more than 5 charactes \",result)            \n",
    "    "
   ]
  },
  {
   "cell_type": "code",
   "execution_count": null,
   "metadata": {},
   "outputs": [],
   "source": []
  },
  {
   "cell_type": "code",
   "execution_count": 19,
   "metadata": {},
   "outputs": [
    {
     "data": {
      "text/plain": [
       "6"
      ]
     },
     "execution_count": 19,
     "metadata": {},
     "output_type": "execute_result"
    }
   ],
   "source": [
    "a=\"deepak\"  # simply explaining.jaise a lia usmai.\"deepak\"ek stribg lia .so string kalength nikalunga.\n",
    "len(a)   # lengh mila n than operation perform karunga "
   ]
  },
  {
   "cell_type": "code",
   "execution_count": 1,
   "metadata": {},
   "outputs": [
    {
     "name": "stdout",
     "output_type": "stream",
     "text": [
      "20\n",
      "10\n",
      "c 110\n",
      "100\n"
     ]
    }
   ],
   "source": [
    "\n",
    "a=20  # global variable a\n",
    "b=30\n",
    "def glo():\n",
    "    a=10\n",
    "    print(a)\n",
    "   # x=globals()['a']\n",
    "    globals()['a']=100\n",
    "    x=globals()['a']\n",
    "    c=a+x\n",
    "    print(\"c\",c)\n",
    "    \n",
    "print(a)\n",
    "glo()\n",
    "print(a)"
   ]
  },
  {
   "cell_type": "code",
   "execution_count": null,
   "metadata": {},
   "outputs": [],
   "source": []
  },
  {
   "cell_type": "code",
   "execution_count": null,
   "metadata": {},
   "outputs": [],
   "source": []
  },
  {
   "cell_type": "code",
   "execution_count": null,
   "metadata": {},
   "outputs": [],
   "source": []
  },
  {
   "cell_type": "code",
   "execution_count": null,
   "metadata": {},
   "outputs": [],
   "source": []
  },
  {
   "cell_type": "code",
   "execution_count": null,
   "metadata": {},
   "outputs": [],
   "source": []
  },
  {
   "cell_type": "code",
   "execution_count": null,
   "metadata": {},
   "outputs": [],
   "source": []
  },
  {
   "cell_type": "code",
   "execution_count": null,
   "metadata": {},
   "outputs": [],
   "source": []
  },
  {
   "cell_type": "code",
   "execution_count": null,
   "metadata": {},
   "outputs": [],
   "source": []
  },
  {
   "cell_type": "code",
   "execution_count": null,
   "metadata": {},
   "outputs": [],
   "source": []
  },
  {
   "cell_type": "code",
   "execution_count": null,
   "metadata": {},
   "outputs": [],
   "source": []
  },
  {
   "cell_type": "code",
   "execution_count": null,
   "metadata": {},
   "outputs": [],
   "source": []
  }
 ],
 "metadata": {
  "kernelspec": {
   "display_name": "Python 3",
   "language": "python",
   "name": "python3"
  },
  "language_info": {
   "codemirror_mode": {
    "name": "ipython",
    "version": 3
   },
   "file_extension": ".py",
   "mimetype": "text/x-python",
   "name": "python",
   "nbconvert_exporter": "python",
   "pygments_lexer": "ipython3",
   "version": "3.8.2"
  }
 },
 "nbformat": 4,
 "nbformat_minor": 4
}
