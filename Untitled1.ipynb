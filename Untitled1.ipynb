{
 "cells": [
  {
   "cell_type": "markdown",
   "metadata": {},
   "source": [
    "# passing a list to the function\n",
    "# returning 2 result"
   ]
  },
  {
   "cell_type": "code",
   "execution_count": 3,
   "metadata": {},
   "outputs": [
    {
     "name": "stdout",
     "output_type": "stream",
     "text": [
      "lis [1, 2, 3, 4, 5, 6, 7, 8, 9]\n",
      "number of even 4\n",
      "odd 5\n"
     ]
    }
   ],
   "source": [
    "def fun(li1):\n",
    "    counteve=0\n",
    "    countodd=0\n",
    "    for i in li1:\n",
    "        \n",
    "        if(i%2==0):\n",
    "            counteve=counteve+1\n",
    "    \n",
    "        else:\n",
    "            countodd=countodd+1\n",
    "        \n",
    "    return counteve,countodd   # at the end here i will return two values,so jidhr call kia hai function ko udhr\n",
    "\n",
    "\n",
    "lis=[1,2,3,4,5,6,7,8,9]\n",
    "print(\"lis\",lis)\n",
    "even,odd=fun(lis)  # here we are calling function and storing that function value into 2 variable.because while returning the value it will return 2\n",
    "print(\"number of even\",even)\n",
    "print(\"odd\",odd)"
   ]
  },
  {
   "cell_type": "code",
   "execution_count": null,
   "metadata": {},
   "outputs": [],
   "source": []
  },
  {
   "cell_type": "code",
   "execution_count": null,
   "metadata": {},
   "outputs": [],
   "source": []
  },
  {
   "cell_type": "code",
   "execution_count": null,
   "metadata": {},
   "outputs": [],
   "source": []
  }
 ],
 "metadata": {
  "kernelspec": {
   "display_name": "Python 3",
   "language": "python",
   "name": "python3"
  },
  "language_info": {
   "codemirror_mode": {
    "name": "ipython",
    "version": 3
   },
   "file_extension": ".py",
   "mimetype": "text/x-python",
   "name": "python",
   "nbconvert_exporter": "python",
   "pygments_lexer": "ipython3",
   "version": "3.8.2"
  }
 },
 "nbformat": 4,
 "nbformat_minor": 4
}
