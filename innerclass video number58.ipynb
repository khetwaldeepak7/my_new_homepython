{
 "cells": [
  {
   "cell_type": "code",
   "execution_count": 20,
   "metadata": {},
   "outputs": [
    {
     "name": "stdout",
     "output_type": "stream",
     "text": [
      "deepak 3 24\n",
      "hp 30000\n"
     ]
    }
   ],
   "source": [
    "class Student:\n",
    "    def __init__(self,name,rnum,age):\n",
    "        self.name=name\n",
    "        self.rnum=rnum\n",
    "        self.age=age\n",
    "    def show(self):\n",
    "        print(self.name,self.rnum,self.age)\n",
    "       # print(s1.name,s1.rnum,s1.age)\n",
    "#!!!!!!!!!!!!!!!!!!!!!!!!!!!!!!!!!!!!!!!!!!!!!!!!!!!!!!!!!!!!!!!!!!!\\\\\n",
    "\n",
    "    class Laptop:  #inner class\n",
    "        def __init__(self,brand,price):\n",
    "            self.brand=brand\n",
    "            self.price=price\n",
    "        def show(self):\n",
    "            print(self.brand,self.price)  # self .name of variable.self mai reference aayega .\n",
    "            \n",
    "#%%%%%%%%%%%%%%%%%%%%%%%%%%%%%%%%%%%%%%%%%%%%%%%%%%%%%%%%%%%%%%%%%%%%%    \n",
    "    \n",
    "s=Student(\"deepak\",3,24)\n",
    "s1=Student(\"dk\",4,4)\n",
    "s.show()\n",
    "\n",
    "#@@@@@@@@@@@@@@@@@@@@@@@@@@@@@@@@@@@@@@@@@@@@@@@@@@@@@@@@@@@@@@@@@@@@@@@@@@@@@\n",
    "\n",
    "lp=Student.Laptop(\"hp\",30000)   # this is how the inside clas objece will get called\n",
    "lp.show()  # this is how i will make cal\n",
    "\n",
    "#########################################################\n",
    "#print(s.name,s.rnum,s.age)  # aise ek ek karke cll karne sey acha ek function bna usko just call kar,n wah print kareyga"
   ]
  },
  {
   "cell_type": "markdown",
   "metadata": {},
   "source": [
    "# simple function\n"
   ]
  },
  {
   "cell_type": "code",
   "execution_count": 17,
   "metadata": {},
   "outputs": [
    {
     "name": "stdout",
     "output_type": "stream",
     "text": [
      "dk 4 4\n"
     ]
    }
   ],
   "source": [
    "class Student:\n",
    "    def __init__(self,name,rnum,age):\n",
    "        self.name=name\n",
    "        self.rnum=rnum\n",
    "        self.age=age\n",
    "    def show(self):\n",
    "        print(self.name,self.rnum,self.age)  #this is how to print ,self mai wah aayega jiska refernce value pass karenge\n",
    "s=Student(\"deepak\",3,24)\n",
    "s1=Student(\"dk\",4,4)\n",
    "s1.show()"
   ]
  },
  {
   "cell_type": "code",
   "execution_count": 9,
   "metadata": {},
   "outputs": [
    {
     "name": "stdout",
     "output_type": "stream",
     "text": [
      "deepak 3 24 hp\n",
      "hp 30000\n"
     ]
    }
   ],
   "source": [
    "class Student:\n",
    "    def __init__(self,name,rnum,age,brand):\n",
    "        self.name=name\n",
    "        self.rnum=rnum\n",
    "        self.age=age\n",
    "        self.brand=brand\n",
    "    def show(self):\n",
    "        print(self.name,self.rnum,self.age,self.brand)\n",
    "       # print(s1.name,s1.rnum,s1.age)\n",
    "#!!!!!!!!!!!!!!!!!!!!!!!!!!!!!!!!!!!!!!!!!!!!!!!!!!!!!!!!!!!!!!!!!!!\\\\\n",
    "\n",
    "    class Laptop:  #inner class\n",
    "        def __init__(self,brand,price):\n",
    "            self.brand=brand\n",
    "            self.price=price\n",
    "        def show(self):\n",
    "            print(self.brand,self.price)  # self .name of variable.self mai reference aayega .\n",
    "       \n",
    "            \n",
    "            \n",
    "#%%%%%%%%%%%%%%%%%%%%%%%%%%%%%%%%%%%%%%%%%%%%%%%%%%%%%%%%%%%%%%%%%%%%%%%%%   \n",
    "    \n",
    "s=Student(\"deepak\",3,24,'hp')\n",
    "s1=Student(\"dk\",4,4,'dell')\n",
    "s.show()\n",
    "\n",
    "#@@@@@@@@@@@@@@@@@@@@@@@@@@@@@@@@@@@@@@@@@@@@@@@@@@@@@@@@@@@@@@@@@@@@@@@@@@@@@\n",
    "\n",
    "lp=Student.Laptop(\"hp\",30000)   # this is how the inside clas objece will get called\n",
    "lp.show()  # this is how i will make cal\n",
    "\n",
    "#########################################################\n",
    " \n",
    "#print(s.name,s.rnum,s.age)  # aise ek ek karke cll karne sey acha ek function bna usko just call kar,n wah print kareyga\n",
    "\n",
    "\n",
    "##########perform operation for comparition of two class object #####################\n"
   ]
  },
  {
   "cell_type": "code",
   "execution_count": null,
   "metadata": {},
   "outputs": [],
   "source": []
  },
  {
   "cell_type": "code",
   "execution_count": 8,
   "metadata": {},
   "outputs": [
    {
     "name": "stdout",
     "output_type": "stream",
     "text": [
      "both having different laptop\n"
     ]
    }
   ],
   "source": [
    "class Student:\n",
    "    def __init__(self,name,rnum,age,brand):\n",
    "        self.name=name\n",
    "        self.rnum=rnum\n",
    "        self.age=age\n",
    "        self.brand=brand\n",
    "    def show(self):\n",
    "        print(self.name,self.rnum,self.age,self.brand)\n",
    "    def compared(self,other):\n",
    "            if self.brand==other.brand:\n",
    "                return True\n",
    "            else:\n",
    "                return False\n",
    "s=Student('depak',23,23,'hp')\n",
    "s1=Student('depak',23,23,'dell')\n",
    "if s1.compared(lp):        ###--------->>>>>  comparing the two reference  <<<--------\n",
    "    print(\"both having same laptop\")\n",
    "else:\n",
    "    print(\"both having different laptop\")\n"
   ]
  },
  {
   "cell_type": "code",
   "execution_count": null,
   "metadata": {},
   "outputs": [],
   "source": []
  }
 ],
 "metadata": {
  "kernelspec": {
   "display_name": "Python 3",
   "language": "python",
   "name": "python3"
  },
  "language_info": {
   "codemirror_mode": {
    "name": "ipython",
    "version": 3
   },
   "file_extension": ".py",
   "mimetype": "text/x-python",
   "name": "python",
   "nbconvert_exporter": "python",
   "pygments_lexer": "ipython3",
   "version": "3.8.2"
  }
 },
 "nbformat": 4,
 "nbformat_minor": 4
}
