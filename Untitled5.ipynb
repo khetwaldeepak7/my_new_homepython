{
 "cells": [
  {
   "cell_type": "code",
   "execution_count": 13,
   "metadata": {},
   "outputs": [
    {
     "name": "stdout",
     "output_type": "stream",
     "text": [
      "khetwal\n",
      "khetwal\n",
      "khetwal\n",
      "khetwal\n",
      "khetwal\n",
      "\n"
     ]
    }
   ],
   "source": [
    "23 * 'deepak'\n",
    "d=5*\"khetwal\\n\"  # to print the string multiple time\n",
    "print(d)"
   ]
  },
  {
   "cell_type": "code",
   "execution_count": 21,
   "metadata": {},
   "outputs": [
    {
     "name": "stdout",
     "output_type": "stream",
     "text": [
      "kapeed\n"
     ]
    }
   ],
   "source": [
    "d=\"deepak\"\n",
    "h=d[::-1]    # to reverse the string\n",
    "print(h)"
   ]
  },
  {
   "cell_type": "code",
   "execution_count": 25,
   "metadata": {},
   "outputs": [
    {
     "name": "stdout",
     "output_type": "stream",
     "text": [
      "deepak:\n",
      "avin\n",
      "deepak\\navin\n"
     ]
    }
   ],
   "source": [
    "# if we want to print the string as it is without checking the special character\n",
    "# that time we will use r as a raw \n",
    "a=\"deepak:\\navin\"\n",
    "print(a)   #here after slaces it took a \\n a new line characters  ,but if we want to neglect that special characters\n",
    "d=r\"deepak\\navin\"  #in the starting of the string use r as a special character\n",
    "print(d)"
   ]
  },
  {
   "cell_type": "code",
   "execution_count": 2,
   "metadata": {},
   "outputs": [
    {
     "data": {
      "text/plain": [
       "[1, 2, 3, 1, 2, 3]"
      ]
     },
     "execution_count": 2,
     "metadata": {},
     "output_type": "execute_result"
    }
   ],
   "source": [
    "a=[1,2,3]\n",
    "2 *a"
   ]
  },
  {
   "cell_type": "code",
   "execution_count": 3,
   "metadata": {},
   "outputs": [
    {
     "data": {
      "text/plain": [
       "(1, 2, 3, 1, 2, 3)"
      ]
     },
     "execution_count": 3,
     "metadata": {},
     "output_type": "execute_result"
    }
   ],
   "source": [
    "dk=(1,2,3)\n",
    "2*dk"
   ]
  },
  {
   "cell_type": "code",
   "execution_count": null,
   "metadata": {},
   "outputs": [],
   "source": []
  },
  {
   "cell_type": "code",
   "execution_count": null,
   "metadata": {},
   "outputs": [],
   "source": [
    "# some concept of class method "
   ]
  },
  {
   "cell_type": "code",
   "execution_count": 15,
   "metadata": {},
   "outputs": [
    {
     "name": "stdout",
     "output_type": "stream",
     "text": [
      "enter the name of student: des\n",
      "enter the roll number: 23\n",
      "des 23\n",
      "des 23\n",
      "ABCD\n"
     ]
    }
   ],
   "source": [
    "class Student:\n",
    "    Name_of_school=\"ABCD\"\n",
    "    def __init__(self,name,rollnumber):\n",
    "        self.name=name\n",
    "        self.rollnumber=rollnumber\n",
    "    def show(self):\n",
    "        print(self.name,self.rollnumber)\n",
    "    @classmethod\n",
    "    def clas(cls):\n",
    "        print(cls.Name_of_school)\n",
    "name=input(\"enter the name of student: \")  # useer define input\n",
    "rollnumber=int(input(\"enter the roll number: \"))  # user define input\n",
    "s=Student(name,rollnumber)\n",
    "s2=Student(name,rollnumber)\n",
    "\n",
    "s.show()\n",
    "\n",
    "s2.show()\n",
    "Student.clas()"
   ]
  },
  {
   "cell_type": "code",
   "execution_count": null,
   "metadata": {},
   "outputs": [],
   "source": []
  }
 ],
 "metadata": {
  "kernelspec": {
   "display_name": "Python 3",
   "language": "python",
   "name": "python3"
  },
  "language_info": {
   "codemirror_mode": {
    "name": "ipython",
    "version": 3
   },
   "file_extension": ".py",
   "mimetype": "text/x-python",
   "name": "python",
   "nbconvert_exporter": "python",
   "pygments_lexer": "ipython3",
   "version": "3.8.2"
  }
 },
 "nbformat": 4,
 "nbformat_minor": 4
}
