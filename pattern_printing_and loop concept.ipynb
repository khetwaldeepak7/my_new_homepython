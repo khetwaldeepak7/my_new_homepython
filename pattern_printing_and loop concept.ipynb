{
 "cells": [
  {
   "cell_type": "markdown",
   "metadata": {},
   "source": [
    "# for pattern printing alway wathc the video of youtuber SIRJi.that link is also i have note on my whatappbusines number and the google notes"
   ]
  },
  {
   "cell_type": "code",
   "execution_count": 1,
   "metadata": {},
   "outputs": [],
   "source": [
    "# while loop using "
   ]
  },
  {
   "cell_type": "code",
   "execution_count": 3,
   "metadata": {},
   "outputs": [
    {
     "name": "stdout",
     "output_type": "stream",
     "text": [
      "enter the number of rows and column4\n",
      "# # # # \n",
      "# # # # \n",
      "# # # # \n",
      "# # # # \n"
     ]
    }
   ],
   "source": [
    "n=int(input(\"enter the number of rows and column\"))\n",
    "i=0\n",
    "    \n",
    "while(i<n):\n",
    "    j=0    # agar idhar yeh condition nhi dala toh j value wahi raheyga jo pehle the and uske wajh sey andar wali condition wrong hogi and andar ka loop execute nhi hoga\n",
    "    while(j<n):\n",
    "        print(\"# \",end=\"\")\n",
    "        j=j+1\n",
    "    i=i+1\n",
    "    print()"
   ]
  },
  {
   "cell_type": "code",
   "execution_count": 9,
   "metadata": {},
   "outputs": [
    {
     "name": "stdout",
     "output_type": "stream",
     "text": [
      "enter the row and column4\n",
      "enter the column4\n",
      "####\n",
      "###\n",
      "##\n",
      "#\n"
     ]
    }
   ],
   "source": [
    "n=int(input(\"enter the row and column\"))\n",
    "b=int(input(\"enter the column\"))\n",
    "for i in range(n):\n",
    "    for j in range(b):\n",
    "        print(\"# \", end=\"\")\n",
    "        \n",
    "    print()\n",
    "    b=b-1\n"
   ]
  },
  {
   "cell_type": "markdown",
   "metadata": {},
   "source": [
    "# printing this patteran using 3 variable"
   ]
  },
  {
   "cell_type": "code",
   "execution_count": 16,
   "metadata": {},
   "outputs": [
    {
     "name": "stdout",
     "output_type": "stream",
     "text": [
      "enter the pattern4\n",
      "# \n",
      "# # \n",
      "# # # \n",
      "# # # # \n"
     ]
    }
   ],
   "source": [
    "n=int(input(\"enter the pattern\"))\n",
    "l=1\n",
    "for i in range(n):\n",
    "    for j in range(l):   # ihdar j ki 0 takh hogi first itteration mai,q ki first time i=o,second iteration mai j ki range o-1 hgi. 3 mai 0-2\n",
    "        print(\"# \",end=\"\")\n",
    "    l=l+1\n",
    "    print()"
   ]
  },
  {
   "cell_type": "markdown",
   "metadata": {},
   "source": [
    "# printing this patteran using i variable increment"
   ]
  },
  {
   "cell_type": "code",
   "execution_count": 15,
   "metadata": {},
   "outputs": [
    {
     "name": "stdout",
     "output_type": "stream",
     "text": [
      "enter the pattern4\n",
      "# \n",
      "# # \n",
      "# # # \n",
      "# # # # \n"
     ]
    }
   ],
   "source": [
    "n=int(input(\"enter the pattern\"))\n",
    "\n",
    "for i in range(n):\n",
    "    for j in range(i+1):  # so kya hoga i=0,toh j mai i =0+1 hoga,n the iteration right ghumryga\n",
    "        print(\"# \",end=\"\") \n",
    "    l=l+1\n",
    "    print()"
   ]
  },
  {
   "cell_type": "code",
   "execution_count": 1,
   "metadata": {},
   "outputs": [],
   "source": [
    "# to perform certain action"
   ]
  },
  {
   "cell_type": "code",
   "execution_count": 22,
   "metadata": {},
   "outputs": [
    {
     "name": "stdout",
     "output_type": "stream",
     "text": [
      "1234\n",
      "234\n",
      "34\n",
      "4\n",
      "\n"
     ]
    }
   ],
   "source": [
    "for i in range(5):\n",
    "    for j in range(i+1,5):\n",
    "        print(j,end=\"\")\n",
    "    print()"
   ]
  },
  {
   "cell_type": "code",
   "execution_count": 46,
   "metadata": {},
   "outputs": [
    {
     "name": "stdout",
     "output_type": "stream",
     "text": [
      "APQR\n",
      "ABQR\n",
      "ABCR\n",
      "ABCD\n"
     ]
    }
   ],
   "source": [
    "# now little technical\n",
    "a=65\n",
    "b=80\n",
    "for i  in range(4):\n",
    "    a=65\n",
    "    t=0\n",
    "    for j in range(4):\n",
    "        if(j<=i):\n",
    "            print(chr(a),end=\"\")\n",
    "            a=a+1\n",
    "        else:\n",
    "            d=a+15-1+t\n",
    "            print(chr(d),end=\"\")\n",
    "            t=t+1\n",
    "            \n",
    "    print()"
   ]
  },
  {
   "cell_type": "code",
   "execution_count": 6,
   "metadata": {},
   "outputs": [
    {
     "name": "stdout",
     "output_type": "stream",
     "text": [
      "1 11 12 13 \n",
      "1 2 12 13 \n",
      "1 2 3 13 \n",
      "1 2 3 4 \n"
     ]
    }
   ],
   "source": [
    "a=1\n",
    "k=11\n",
    "for i in range(4):   # rows\n",
    "    a=1\n",
    "    t=0\n",
    "    for j in range(4): #j for column#    #always condition should be inside the j loop.q ki j loop mai hi values assign kareyga\n",
    "        if(j<=i):\n",
    "            print(a,end=\" \")\n",
    "            a=a+1\n",
    "        else:\n",
    "            result=a+10-1+t     # this is the important step,\n",
    "            print(result,end=\" \")\n",
    "            t=t+1\n",
    "    print()"
   ]
  },
  {
   "cell_type": "code",
   "execution_count": null,
   "metadata": {},
   "outputs": [],
   "source": []
  },
  {
   "cell_type": "code",
   "execution_count": null,
   "metadata": {},
   "outputs": [],
   "source": []
  },
  {
   "cell_type": "code",
   "execution_count": 1,
   "metadata": {},
   "outputs": [
    {
     "name": "stdout",
     "output_type": "stream",
     "text": [
      "    *\n",
      "   **\n",
      "  ***\n",
      " ****\n",
      "*****\n"
     ]
    }
   ],
   "source": [
    "a=4\n",
    "for  i in range(5):\n",
    "    for j in range(5):\n",
    "        if(j>=a):\n",
    "            print( \"*\",end=\"\")\n",
    "        else:\n",
    "            print(\" \",end=\"\")\n",
    "    print()    \n",
    "    a=a-1"
   ]
  },
  {
   "cell_type": "code",
   "execution_count": 2,
   "metadata": {},
   "outputs": [
    {
     "name": "stdout",
     "output_type": "stream",
     "text": [
      "****\n",
      "***\n",
      "**\n",
      "*\n",
      "\n"
     ]
    }
   ],
   "source": [
    "a=4\n",
    "for  i in range(5):\n",
    "    for j in range(5):\n",
    "        if(j<a):\n",
    "            print( \"*\",end=\"\")\n",
    "        \n",
    "    print()    \n",
    "    a=a-1"
   ]
  },
  {
   "cell_type": "code",
   "execution_count": 3,
   "metadata": {},
   "outputs": [
    {
     "name": "stdout",
     "output_type": "stream",
     "text": [
      "      *        \n",
      "    * * *      \n",
      "  * * * * *    \n",
      "* * * * * * *  \n"
     ]
    }
   ],
   "source": [
    "\n",
    "l=3\n",
    "t=5\n",
    "for i in range(1,5):\n",
    "    for j in range(1,8):\n",
    "        if(j>=t-i and j<=l+i):\n",
    "             print(\"*\",end=\" \") \n",
    "        else:\n",
    "            print(\" \",end=\" \")\n",
    "    \n",
    "    print(\" \")\n",
    "    \n"
   ]
  },
  {
   "cell_type": "code",
   "execution_count": 11,
   "metadata": {},
   "outputs": [
    {
     "name": "stdout",
     "output_type": "stream",
     "text": [
      "      4        \n",
      "    3 4 5      \n",
      "  2 3 4 5 6    \n",
      "1 2 3 4 5 6 7  \n"
     ]
    }
   ],
   "source": [
    "# simple insted of * use j for printing the number\n",
    "l=3\n",
    "t=5\n",
    "for i in range(1,5):\n",
    "    for j in range(1,8):\n",
    "        if(j>=t-i and j<=l+i):\n",
    "             print(j,end=\" \") \n",
    "        else:\n",
    "            print(\" \",end=\" \")\n",
    "    \n",
    "    print(\" \")\n",
    "    \n"
   ]
  },
  {
   "cell_type": "markdown",
   "metadata": {},
   "source": [
    "# printing heart shape"
   ]
  },
  {
   "cell_type": "code",
   "execution_count": 61,
   "metadata": {},
   "outputs": [
    {
     "name": "stdout",
     "output_type": "stream",
     "text": [
      "     #   #       #   #      \n",
      " #           #           #  \n",
      " #                       #  \n",
      "     #               #      \n",
      "         #       #          \n",
      "             #              \n"
     ]
    }
   ],
   "source": [
    "for i in range(6):\n",
    "    for j in range(7):\n",
    "        if((i==0 and j%3!=0) or (i==1 and j%3==0) or (i-j==2)or (i+j==8)):\n",
    "                print(\" # \",end=' ')\n",
    "        else:\n",
    "            print(\"  \",end=\"  \")\n",
    "    print()      "
   ]
  },
  {
   "cell_type": "code",
   "execution_count": null,
   "metadata": {},
   "outputs": [],
   "source": []
  },
  {
   "cell_type": "code",
   "execution_count": null,
   "metadata": {},
   "outputs": [],
   "source": []
  },
  {
   "cell_type": "code",
   "execution_count": 62,
   "metadata": {},
   "outputs": [],
   "source": [
    "# check the logic,before solving this type of prbl, first solve it inot the paper,\n",
    "# draw horizontal and vertical line"
   ]
  },
  {
   "cell_type": "code",
   "execution_count": 3,
   "metadata": {},
   "outputs": [
    {
     "name": "stdout",
     "output_type": "stream",
     "text": [
      "      1        \n",
      "    2 1 2      \n",
      "  3 2 1 2 3    \n",
      "4 3 2 1 2 3 4  \n"
     ]
    }
   ],
   "source": [
    "for i in range(1,5):\n",
    "    t=i    #----------->>>>>>>> t =i <<<<<<<______>---------\n",
    "    for j in range(1,8):\n",
    "        if(i==1):\n",
    "            if(j>=5-i and j<=3+i): \n",
    "                print(i,end=\" \")\n",
    "            else:\n",
    "                print(\" \",end=\" \")\n",
    "        else:\n",
    "            if(j>=5-i and j<=3+i): \n",
    "                print(t,end=\" \")  # t will conten the value of i\n",
    "                if(t>=1 and j>=4):\n",
    "                    t=t+1\n",
    "                else:\n",
    "                    t=t-1\n",
    "            else:\n",
    "                print(\" \",end=\" \")\n",
    "        \n",
    "    print(\" \")"
   ]
  },
  {
   "cell_type": "markdown",
   "metadata": {},
   "source": [
    "# printing pattern inside the function"
   ]
  },
  {
   "cell_type": "markdown",
   "metadata": {},
   "source": [
    "# yeh wala without using function hai, and eske niche funtion use karke pattern print call kia hai,both are the same pattern"
   ]
  },
  {
   "cell_type": "code",
   "execution_count": 12,
   "metadata": {},
   "outputs": [
    {
     "name": "stdout",
     "output_type": "stream",
     "text": [
      "1         \n",
      "2 6       \n",
      "3 7 10     \n",
      "4 8 11 13   \n",
      "5 9 12 14 15 \n"
     ]
    }
   ],
   "source": [
    "l=3.\n",
    "for i in range(1,6):\n",
    "    k=i+4\n",
    "    l=3\n",
    "    for j in range(1,6):\n",
    "        if(j==1):\n",
    "            print(i,end=\" \")\n",
    "        \n",
    "        else:\n",
    "            if(i>=j):\n",
    "                print(k,end=\" \")\n",
    "                k=k+l\n",
    "                l=l-1\n",
    "            else:\n",
    "                print(\" \",end=\" \")\n",
    "                \n",
    "    print()"
   ]
  },
  {
   "cell_type": "markdown",
   "metadata": {},
   "source": [
    "# two way of performing the operation"
   ]
  },
  {
   "cell_type": "code",
   "execution_count": 13,
   "metadata": {},
   "outputs": [
    {
     "name": "stdout",
     "output_type": "stream",
     "text": [
      "with  the help of function we will declare \n",
      "1      \n",
      "2 6     \n",
      "3 7 10    \n",
      "4 8 11 13   \n",
      "5 9 12 14 15  \n"
     ]
    }
   ],
   "source": [
    "def pattern(a,b):\n",
    "    for i in range(1,a):\n",
    "        k=i\n",
    "        t=4\n",
    "        for j in range(1,b):\n",
    "            if(i>=j):       #####----->>>>logic of the number wiil be i is greater than j.if 1>j.2>1 ,2>2,2>3\n",
    "                print(k,end=\" \")\n",
    "                k=k+t       #------>>>>>>>> k=i,k=2,t=4,2+4=6\n",
    "                t=t-1\n",
    "            else:\n",
    "                print(\" \" ,end=\"\")\n",
    "        print(\" \")\n",
    "                \n",
    "a=6\n",
    "b=6\n",
    "print(\"with  the help of function we will declare \")\n",
    "pattern(a,b)"
   ]
  },
  {
   "cell_type": "code",
   "execution_count": 15,
   "metadata": {},
   "outputs": [
    {
     "name": "stdout",
     "output_type": "stream",
     "text": [
      "1\n",
      "12\n",
      "123\n",
      "1234\n"
     ]
    }
   ],
   "source": [
    "for i in range(1,5):\n",
    "    for j in range(1,5):\n",
    "        if(i>=j):\n",
    "            print(j,end=\"\")\n",
    "        else:\n",
    "            print('',end=\"\")\n",
    "    print(\"\")\n",
    "   "
   ]
  },
  {
   "cell_type": "code",
   "execution_count": 2,
   "metadata": {},
   "outputs": [
    {
     "name": "stdout",
     "output_type": "stream",
     "text": [
      "        1  \n",
      "      2 2  \n",
      "    3 3 3  \n",
      "  4 4 4 4  \n"
     ]
    }
   ],
   "source": [
    "t=5\n",
    "for i in range(1,5):\n",
    "    for j in range(1,6):\n",
    "        if(j>=t):\n",
    "            print(i,end=\" \")\n",
    "            \n",
    "        else:\n",
    "            print(\" \",end=' ')\n",
    "    print(\" \")\n",
    "    t=t-1\n",
    "            "
   ]
  },
  {
   "cell_type": "code",
   "execution_count": 1,
   "metadata": {},
   "outputs": [
    {
     "name": "stdout",
     "output_type": "stream",
     "text": [
      "      1  \n",
      "    2 1  \n",
      "  3 2 1  \n",
      "4 3 2 1  \n"
     ]
    }
   ],
   "source": [
    "t=4\n",
    "for i in range(1,5):\n",
    "    k=i\n",
    "    for j in range(1,5):\n",
    "        if(j>=t):\n",
    "            print(k,end=' ')\n",
    "            k=k-1\n",
    "        else:\n",
    "            print(' ',end=' ')\n",
    "    print(' ')\n",
    "    t=t-1\n",
    "        "
   ]
  },
  {
   "cell_type": "code",
   "execution_count": 2,
   "metadata": {},
   "outputs": [
    {
     "name": "stdout",
     "output_type": "stream",
     "text": [
      "* * * * * * * \n",
      "* * *   * * * \n",
      "* *       * * \n",
      "*           * \n"
     ]
    }
   ],
   "source": [
    "for i in range(1,5):\n",
    "    for j in range(1,8):\n",
    "        if i==1:\n",
    "            print(\"*\",end=' ')\n",
    "        else:\n",
    "            if(j>=6-i and j<=2+i):\n",
    "                 print(\" \",end=' ')\n",
    "            else:\n",
    "                print('*',end=' ')\n",
    "    print()\n",
    "        \n",
    "        \n",
    "        \n",
    "        "
   ]
  },
  {
   "cell_type": "markdown",
   "metadata": {},
   "source": [
    "# another way to print the pattern "
   ]
  },
  {
   "cell_type": "code",
   "execution_count": 2,
   "metadata": {},
   "outputs": [
    {
     "name": "stdout",
     "output_type": "stream",
     "text": [
      "1234\n",
      "234\n",
      "34\n",
      "4\n"
     ]
    }
   ],
   "source": [
    "for i in range(1,5):\n",
    "    for j in range(i,5):\n",
    "        print(j,end='')\n",
    "    \n",
    "    print()"
   ]
  },
  {
   "cell_type": "code",
   "execution_count": null,
   "metadata": {},
   "outputs": [],
   "source": []
  },
  {
   "cell_type": "code",
   "execution_count": null,
   "metadata": {},
   "outputs": [],
   "source": []
  }
 ],
 "metadata": {
  "kernelspec": {
   "display_name": "Python 3",
   "language": "python",
   "name": "python3"
  },
  "language_info": {
   "codemirror_mode": {
    "name": "ipython",
    "version": 3
   },
   "file_extension": ".py",
   "mimetype": "text/x-python",
   "name": "python",
   "nbconvert_exporter": "python",
   "pygments_lexer": "ipython3",
   "version": "3.7.6"
  }
 },
 "nbformat": 4,
 "nbformat_minor": 4
}
