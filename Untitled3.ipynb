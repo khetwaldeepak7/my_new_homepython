{
 "cells": [
  {
   "cell_type": "markdown",
   "metadata": {},
   "source": [
    "# we have created a function in which it will find the number and give the index number of the value which we want"
   ]
  },
  {
   "cell_type": "code",
   "execution_count": 53,
   "metadata": {},
   "outputs": [],
   "source": [
    "def fun(*b):\n",
    "    print(type(b))\n",
    "    a=int(input(\"enter the value which you want to search\"))\n",
    "    for i in range(len(b)):\n",
    "        #print(i)\n",
    "        if(b[i]==a):\n",
    "            print(i)\n",
    "            break\n",
    "        \n",
    "    \n",
    "    "
   ]
  },
  {
   "cell_type": "code",
   "execution_count": 54,
   "metadata": {},
   "outputs": [
    {
     "name": "stdout",
     "output_type": "stream",
     "text": [
      "<class 'tuple'>\n",
      "enter the value which you want to search4\n",
      "3\n"
     ]
    }
   ],
   "source": [
    "fun(1,2,3,4,5,6,7,10)"
   ]
  },
  {
   "cell_type": "code",
   "execution_count": null,
   "metadata": {},
   "outputs": [],
   "source": []
  },
  {
   "cell_type": "code",
   "execution_count": 56,
   "metadata": {},
   "outputs": [],
   "source": [
    "# concept of global and globals()"
   ]
  },
  {
   "cell_type": "code",
   "execution_count": 61,
   "metadata": {},
   "outputs": [
    {
     "name": "stdout",
     "output_type": "stream",
     "text": [
      "this wil get print first khetwal\n",
      "second it will print deepak\n",
      "10\n"
     ]
    }
   ],
   "source": [
    "print(\"this wil get print first khetwal\")\n",
    "def glo():\n",
    "    a=10\n",
    "    print(a)\n",
    "print(\"second it will print deepak\")\n",
    "glo()   #at the last we wil call the function n value wil get the print"
   ]
  },
  {
   "cell_type": "code",
   "execution_count": null,
   "metadata": {},
   "outputs": [],
   "source": []
  },
  {
   "cell_type": "code",
   "execution_count": 66,
   "metadata": {},
   "outputs": [
    {
     "name": "stdout",
     "output_type": "stream",
     "text": [
      "inside 5\n",
      "outside 10\n"
     ]
    }
   ],
   "source": [
    "b=10  # this variable is outside the function ,so it is global varibale\n",
    "def a():\n",
    "    b=5     # it is local variable,this variable scope is till the function only\n",
    "    print(\"inside\",b)\n",
    "a()     # idher sey direct pehle function mai jayega,and uske baad niche wala print hoga.so first \n",
    "print(\"outside\",b)    #here it will print the global variable value"
   ]
  },
  {
   "cell_type": "markdown",
   "metadata": {},
   "source": [
    "# so make any variable global use the keyword global"
   ]
  },
  {
   "cell_type": "code",
   "execution_count": 68,
   "metadata": {},
   "outputs": [
    {
     "name": "stdout",
     "output_type": "stream",
     "text": [
      "inside 5\n",
      "outside 5\n"
     ]
    }
   ],
   "source": [
    "# so make any variable global use the keyword global\n",
    "b=10  # this variable is outside the function ,so it is global varibale\n",
    "def a():\n",
    "    global b     # it is local variable,this variable scope is till the function only\n",
    "    b=5    # now it will effect the globally\n",
    "    print(\"inside\",b)\n",
    "a()     # idher sey direct pehle function mai jayega,and uske baad niche wala print hoga.so first \n",
    "print(\"outside\",b)"
   ]
  },
  {
   "cell_type": "code",
   "execution_count": 70,
   "metadata": {},
   "outputs": [
    {
     "name": "stdout",
     "output_type": "stream",
     "text": [
      "local 20\n",
      "using keyword 10\n",
      "global 30\n"
     ]
    }
   ],
   "source": [
    "# concept of globals()\n",
    "# program aise start hoga upar sey \n",
    "a=10\n",
    "b=20\n",
    "def fun():\n",
    "    \n",
    "    a=20  # it a local variable\n",
    "    \n",
    "    #if we want to change the global value but at the same time we want no changes in the local variable\n",
    "    # means without making local variable to global variable;\n",
    "    \n",
    "    x=globals()['a'] # here inside the []bracket we have to mention the name of variable which we want \n",
    "    \n",
    "    #to change the value of that global variable which we had specify \n",
    "    \n",
    "    globals()['a']=30     # this is how we chnge the value,   we cannot write this x=20 because if w do like this the addres x change\n",
    "    \n",
    "    print(\"local\",a)   #yeh local a leyga\n",
    "    print(\"assign valueto a before changing it,check the step nymber 4 where i had written\",x)  \n",
    "    #before changing it i had assign the value 10 to x,\n",
    "    \n",
    "fun()\n",
    "print(\"global\",a)"
   ]
  },
  {
   "cell_type": "code",
   "execution_count": 15,
   "metadata": {},
   "outputs": [
    {
     "name": "stdout",
     "output_type": "stream",
     "text": [
      "150\n"
     ]
    }
   ],
   "source": [
    "class A:\n",
    "    def sum(self,a,*b):\n",
    "        for i in b:\n",
    "            a=a+i\n",
    "        print(a)\n",
    "        \n",
    "    \n",
    "a=A()\n",
    "a.sum(10,20,30,40,50)"
   ]
  },
  {
   "cell_type": "code",
   "execution_count": 1,
   "metadata": {},
   "outputs": [
    {
     "name": "stdout",
     "output_type": "stream",
     "text": [
      "150\n"
     ]
    }
   ],
   "source": [
    "class A:\n",
    "    def sum(self,*b):\n",
    "        a=0\n",
    "        for i in b:\n",
    "            a=a+i\n",
    "        print(a)\n",
    "        \n",
    "    \n",
    "a=A()\n",
    "a.sum(10,20,30,40,50)"
   ]
  },
  {
   "cell_type": "code",
   "execution_count": null,
   "metadata": {},
   "outputs": [],
   "source": []
  },
  {
   "cell_type": "code",
   "execution_count": null,
   "metadata": {},
   "outputs": [],
   "source": []
  },
  {
   "cell_type": "code",
   "execution_count": null,
   "metadata": {},
   "outputs": [],
   "source": []
  }
 ],
 "metadata": {
  "kernelspec": {
   "display_name": "Python 3",
   "language": "python",
   "name": "python3"
  },
  "language_info": {
   "codemirror_mode": {
    "name": "ipython",
    "version": 3
   },
   "file_extension": ".py",
   "mimetype": "text/x-python",
   "name": "python",
   "nbconvert_exporter": "python",
   "pygments_lexer": "ipython3",
   "version": "3.8.2"
  }
 },
 "nbformat": 4,
 "nbformat_minor": 4
}
