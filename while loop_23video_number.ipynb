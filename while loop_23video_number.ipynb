{
 "cells": [
  {
   "cell_type": "code",
   "execution_count": 3,
   "metadata": {},
   "outputs": [
    {
     "name": "stdout",
     "output_type": "stream",
     "text": [
      "hello deepak deepak deepak deepak\n",
      "hello deepak deepak deepak deepak\n",
      "hello deepak deepak deepak deepak\n",
      "hello deepak deepak deepak deepak\n",
      "hello deepak deepak deepak deepak\n"
     ]
    }
   ],
   "source": [
    "i=5 \n",
    "j=1\n",
    "while i>0:   # checking condition .toh 5>0 rite\n",
    "    j=1\n",
    "    print(\"hello\",end=\"\")# end is used to print the value at same line\n",
    "    while j<=4:  # 1<4  # first it will inner loop condition and than go to the outer loop and than restart the value of inner loop\n",
    "        print(\" deepak\",end=\"\")\n",
    "        j=j+1   \n",
    "    i=i-1  \n",
    "    print()\n",
    "\n"
   ]
  },
  {
   "cell_type": "code",
   "execution_count": null,
   "metadata": {},
   "outputs": [],
   "source": [
    "# simple example ki pehle wala loop number of row hota hai n dures mai number of column\n",
    "# 1 2 3 4\n",
    "#2 3 4 5\n",
    "#3 4 5 6"
   ]
  },
  {
   "cell_type": "code",
   "execution_count": 10,
   "metadata": {},
   "outputs": [
    {
     "name": "stdout",
     "output_type": "stream",
     "text": [
      "1234\n",
      "2345\n",
      "3456\n",
      "4567\n"
     ]
    }
   ],
   "source": [
    "# using while loop,!.while loop mai auto increment nhi hoga,so humko khud sey increment karna hoga\n",
    "i=0\n",
    "j=0\n",
    "k=1\n",
    "while(i<4):\n",
    "    j=0\n",
    "    k=i+1\n",
    "    while(j<4):\n",
    "        print(k,end=\"\")\n",
    "        k=k+1\n",
    "        j=j+1\n",
    "    i=i+1\n",
    "    print()"
   ]
  },
  {
   "cell_type": "code",
   "execution_count": null,
   "metadata": {},
   "outputs": [],
   "source": [
    "1\n",
    "2 3\n",
    "4 5 6\n",
    "7 8 9 10\n"
   ]
  },
  {
   "cell_type": "code",
   "execution_count": 16,
   "metadata": {},
   "outputs": [
    {
     "name": "stdout",
     "output_type": "stream",
     "text": [
      "1  \n",
      "2  3  \n",
      "4  5  6  \n",
      "7  8  9  10  \n"
     ]
    }
   ],
   "source": [
    "count=1\n",
    "for i in range(4):\n",
    "    for j in range(i+1):\n",
    "        print( count,end=\"  \" )\n",
    "        count=count+1\n",
    "    print()\n",
    "        "
   ]
  },
  {
   "cell_type": "code",
   "execution_count": 3,
   "metadata": {},
   "outputs": [
    {
     "name": "stdout",
     "output_type": "stream",
     "text": [
      "1  \n",
      "2 3  \n",
      "4 5 6  \n",
      "7 8 9 10  \n"
     ]
    }
   ],
   "source": [
    "i=1\n",
    "j=1\n",
    "count=1\n",
    "while i<5:\n",
    "    j=1\n",
    "    while j<=i:\n",
    "        print(count,end=' ')\n",
    "        count=count+1\n",
    "        j=j+1\n",
    "    print(\" \")\n",
    "    i=i+1\n",
    " "
   ]
  },
  {
   "cell_type": "code",
   "execution_count": null,
   "metadata": {},
   "outputs": [],
   "source": []
  }
 ],
 "metadata": {
  "kernelspec": {
   "display_name": "Python 3",
   "language": "python",
   "name": "python3"
  },
  "language_info": {
   "codemirror_mode": {
    "name": "ipython",
    "version": 3
   },
   "file_extension": ".py",
   "mimetype": "text/x-python",
   "name": "python",
   "nbconvert_exporter": "python",
   "pygments_lexer": "ipython3",
   "version": "3.8.2"
  }
 },
 "nbformat": 4,
 "nbformat_minor": 4
}
