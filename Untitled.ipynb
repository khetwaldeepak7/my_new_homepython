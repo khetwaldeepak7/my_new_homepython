{
 "cells": [
  {
   "cell_type": "code",
   "execution_count": 28,
   "metadata": {},
   "outputs": [
    {
     "name": "stdout",
     "output_type": "stream",
     "text": [
      "the index value of array is  6\n"
     ]
    }
   ],
   "source": [
    "def example(li,n):\n",
    "    d=len(li)\n",
    "    #print(d)\n",
    "    start=0\n",
    "    last=d-1\n",
    "\n",
    "    for i in range(d):\n",
    "        mid=start+last//2\n",
    "        if(li[mid]==number):\n",
    "            return mid\n",
    "            break\n",
    "            \n",
    "        else:\n",
    "            if(li[mid]<number):\n",
    "                start=mid\n",
    "            else:\n",
    "                last=mid\n",
    "                \n",
    "                \n",
    "                \n",
    "    \n",
    "li=[1,2,3,4,5,6,7]\n",
    "number=7\n",
    "result=example(li,number)\n",
    "print(\"the index value of array is \",result)\n"
   ]
  },
  {
   "cell_type": "code",
   "execution_count": 24,
   "metadata": {},
   "outputs": [],
   "source": [
    "# leap year program\n",
    "# leap year mai jiske ending mai 0 aeyga wah 4 and 400 sey divide hona chahiyeh,ending mai 0 kaise dekhenge ,us number ko 100 sey divide kare\n",
    "#agar ending mai 0 nhi hai toh bas 4 sey divide hona chahiteh wah number"
   ]
  },
  {
   "cell_type": "code",
   "execution_count": 23,
   "metadata": {},
   "outputs": [
    {
     "name": "stdout",
     "output_type": "stream",
     "text": [
      "enter the year1992\n",
      "nice leap year\n"
     ]
    }
   ],
   "source": [
    "def fun(number):  # define kia hai call nhi kia toh bas aayega ,uppar sey\n",
    "    if(number %100==0):\n",
    "\n",
    "        if(number %4==0 and year %400==0):\n",
    "            print(\"leap year\")\n",
    "    elif(year %100!=0):\n",
    "        if(number %4==0):\n",
    "            print(\"nice leap year\")\n",
    "        \n",
    "        \n",
    "year=int(input(\"enter the year\"))\n",
    "fun(year)"
   ]
  },
  {
   "cell_type": "code",
   "execution_count": 25,
   "metadata": {},
   "outputs": [
    {
     "name": "stdout",
     "output_type": "stream",
     "text": [
      "1992\n",
      "True\n"
     ]
    }
   ],
   "source": [
    " # this is the code which posted in the hacker rank\n",
    "def is_leap(year):\n",
    "    leap = False\n",
    "    \n",
    "    # Write your logic here\n",
    "    if (year%100==0):\n",
    "        if(year%4==0 and year %400==0):\n",
    "            leap=True\n",
    "    elif(year%100!=0):\n",
    "            if(year%4==0):\n",
    "                leap=True\n",
    "    return leap\n",
    "        #if(year%4==0 and year%100==0):\n",
    "         #leap=True\n",
    "        #leap=True\n",
    "    return leap \n",
    "        \n",
    "year = int(input())\n",
    "print(is_leap(year))"
   ]
  },
  {
   "cell_type": "code",
   "execution_count": 26,
   "metadata": {},
   "outputs": [],
   "source": [
    "# taking a input in array of numpy"
   ]
  },
  {
   "cell_type": "code",
   "execution_count": null,
   "metadata": {},
   "outputs": [],
   "source": []
  },
  {
   "cell_type": "code",
   "execution_count": 39,
   "metadata": {},
   "outputs": [
    {
     "data": {
      "text/plain": [
       "array([2, 3])"
      ]
     },
     "execution_count": 39,
     "metadata": {},
     "output_type": "execute_result"
    }
   ],
   "source": [
    "numpy.transpose(arr)"
   ]
  },
  {
   "cell_type": "code",
   "execution_count": 13,
   "metadata": {},
   "outputs": [
    {
     "name": "stdout",
     "output_type": "stream",
     "text": [
      "70\n",
      "70\n",
      "70\n",
      "70\n",
      "70\n",
      "70\n",
      "70\n",
      "70\n",
      "70\n",
      "70\n",
      "70\n"
     ]
    }
   ],
   "source": [
    "a=\"F\"\n",
    "for i in range(11):\n",
    "    print(ord(\"F\"))\n",
    "\n",
    "   \n",
    "   \n",
    "    \n",
    "    "
   ]
  },
  {
   "cell_type": "code",
   "execution_count": null,
   "metadata": {},
   "outputs": [],
   "source": []
  }
 ],
 "metadata": {
  "kernelspec": {
   "display_name": "Python 3",
   "language": "python",
   "name": "python3"
  },
  "language_info": {
   "codemirror_mode": {
    "name": "ipython",
    "version": 3
   },
   "file_extension": ".py",
   "mimetype": "text/x-python",
   "name": "python",
   "nbconvert_exporter": "python",
   "pygments_lexer": "ipython3",
   "version": "3.8.2"
  }
 },
 "nbformat": 4,
 "nbformat_minor": 4
}
