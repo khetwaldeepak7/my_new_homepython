{
 "cells": [
  {
   "cell_type": "markdown",
   "metadata": {},
   "source": [
    "# filter take 2 argument one the function name and second the list ,which we are passing"
   ]
  },
  {
   "cell_type": "code",
   "execution_count": 23,
   "metadata": {},
   "outputs": [],
   "source": [
    "fun=lambda num:num%2==0\n",
    "num=[1,2,3,4,5,6,7,8]\n",
    "# function wil retrun something but we want only the list so we will mention list to it\n",
    "dk=list(filter(fun,num))    # filter take 2 argument .1 name of function and 2 is the list,sequence,or condition\n",
    "#in the filter it will take 2 argument one is the list,sequence,or manyn n 2 thing is the name of function"
   ]
  },
  {
   "cell_type": "code",
   "execution_count": 24,
   "metadata": {},
   "outputs": [
    {
     "name": "stdout",
     "output_type": "stream",
     "text": [
      "[2, 4, 6, 8]\n"
     ]
    }
   ],
   "source": [
    "print(dk)"
   ]
  },
  {
   "cell_type": "markdown",
   "metadata": {},
   "source": [
    "# in the above we had took a fun name in that we done operation"
   ]
  },
  {
   "cell_type": "code",
   "execution_count": 28,
   "metadata": {},
   "outputs": [],
   "source": [
    "n=[1,2,3,4,5,6,7,8,9,10]\n",
    "even=list(filter(lambda n:n%2==0,n))   # so as we know filter take 2 argument 1 is name of function.so directly we used a expression,and 2 argument is list"
   ]
  },
  {
   "cell_type": "code",
   "execution_count": 29,
   "metadata": {},
   "outputs": [
    {
     "name": "stdout",
     "output_type": "stream",
     "text": [
      "[2, 4, 6, 8, 10]\n"
     ]
    }
   ],
   "source": [
    "print(even)"
   ]
  },
  {
   "cell_type": "code",
   "execution_count": null,
   "metadata": {},
   "outputs": [],
   "source": []
  },
  {
   "cell_type": "code",
   "execution_count": 30,
   "metadata": {},
   "outputs": [],
   "source": [
    "# map is used for iterating purpose:;\n",
    "# map take 2 argument 1 is function,and 2 is iterabale,sequence.or list or the numberin which we have to perform operation"
   ]
  },
  {
   "cell_type": "markdown",
   "metadata": {},
   "source": [
    "# map function is perform operation on every single element of that list,tuple,or set"
   ]
  },
  {
   "cell_type": "code",
   "execution_count": 45,
   "metadata": {},
   "outputs": [
    {
     "name": "stdout",
     "output_type": "stream",
     "text": [
      "[3, 4, 5, 6, 7]\n"
     ]
    }
   ],
   "source": [
    "def function(a1):  # bas ddefine kia hai ,toh jabh takh function ko call nhi karenge tabh takh uska body execute nhi hoga\n",
    "        return a1+2\n",
    "a=[1,2,3,4,5]\n",
    "add=list(map(function,a))##--->ek ek element or number leyga list sey, n usmai function use karyega\n",
    "#------>>>>map(function(1),function(1),function(2),function(3),function(4))   # aise ek,ek karke sabhmai use hoga function\n",
    "print(add)"
   ]
  },
  {
   "cell_type": "code",
   "execution_count": null,
   "metadata": {},
   "outputs": [],
   "source": []
  },
  {
   "cell_type": "code",
   "execution_count": 59,
   "metadata": {},
   "outputs": [
    {
     "name": "stdout",
     "output_type": "stream",
     "text": [
      "[2, 4]\n"
     ]
    }
   ],
   "source": [
    "# fun=lambda a:a+2\n",
    "# differnce between map and filter\n",
    "n=[1,2,3,4,5]\n",
    "even=list(filter(lambda a:a%2==0,n))\n",
    "print(even)"
   ]
  },
  {
   "cell_type": "code",
   "execution_count": 58,
   "metadata": {},
   "outputs": [
    {
     "name": "stdout",
     "output_type": "stream",
     "text": [
      "[False, True, False, True, False]\n"
     ]
    }
   ],
   "source": [
    "n=[1,2,3,4,5]\n",
    "even=list(map(lambda a:a%2==0,n))  # map mai sabh value leyga n ek ek mai operation perform kareyga\n",
    "print(even)"
   ]
  },
  {
   "cell_type": "code",
   "execution_count": 64,
   "metadata": {},
   "outputs": [],
   "source": [
    "# now using map i will double the value \n",
    "n=[1,2,3,4,5,6]\n",
    "double=list(map(lambda num:num+2,n))  # as we know lambda take number of argument and expression"
   ]
  },
  {
   "cell_type": "code",
   "execution_count": 65,
   "metadata": {},
   "outputs": [
    {
     "name": "stdout",
     "output_type": "stream",
     "text": [
      "[3, 4, 5, 6, 7, 8]\n"
     ]
    }
   ],
   "source": [
    "print(double)"
   ]
  },
  {
   "cell_type": "code",
   "execution_count": 66,
   "metadata": {},
   "outputs": [
    {
     "name": "stdout",
     "output_type": "stream",
     "text": [
      "95\n"
     ]
    }
   ],
   "source": [
    "# # reduce :this is a module which is inside the functools \n",
    "# it take 2 argument (1) function  2)  sequence\n",
    "# reduce is always done with 2 number so while passing the the value to function we have to give 2 parameter to it\n",
    "from functools import *   # because we have to import the reduce\n",
    "def ft(a,b):\n",
    "    return a+b\n",
    "number=[1,2,3,3,4,5,56,6,7,8]\n",
    "result=reduce(ft,number)  # as we now it take 2 argument,name of function\n",
    "print(result)"
   ]
  },
  {
   "cell_type": "code",
   "execution_count": 71,
   "metadata": {},
   "outputs": [],
   "source": [
    "number=[2,3,4,5,6]\n",
    "add=reduce(lambda a,b:a+b,number)"
   ]
  },
  {
   "cell_type": "code",
   "execution_count": 72,
   "metadata": {},
   "outputs": [
    {
     "name": "stdout",
     "output_type": "stream",
     "text": [
      "20\n"
     ]
    }
   ],
   "source": [
    "print(add)"
   ]
  },
  {
   "cell_type": "code",
   "execution_count": 84,
   "metadata": {},
   "outputs": [
    {
     "name": "stdout",
     "output_type": "stream",
     "text": [
      "24\n"
     ]
    }
   ],
   "source": [
    "even=reduce(lambda a,b:a+b,number)\n",
    "number=[12,3,4,5]\n",
    "print(even)"
   ]
  },
  {
   "cell_type": "code",
   "execution_count": null,
   "metadata": {},
   "outputs": [],
   "source": []
  }
 ],
 "metadata": {
  "kernelspec": {
   "display_name": "Python 3",
   "language": "python",
   "name": "python3"
  },
  "language_info": {
   "codemirror_mode": {
    "name": "ipython",
    "version": 3
   },
   "file_extension": ".py",
   "mimetype": "text/x-python",
   "name": "python",
   "nbconvert_exporter": "python",
   "pygments_lexer": "ipython3",
   "version": "3.8.2"
  }
 },
 "nbformat": 4,
 "nbformat_minor": 4
}
