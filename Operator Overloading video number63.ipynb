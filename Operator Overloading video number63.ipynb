{
 "cells": [
  {
   "cell_type": "code",
   "execution_count": 3,
   "metadata": {},
   "outputs": [],
   "source": [
    "# how the predefine method work \n",
    "# like + sig"
   ]
  },
  {
   "cell_type": "code",
   "execution_count": 4,
   "metadata": {},
   "outputs": [
    {
     "name": "stdout",
     "output_type": "stream",
     "text": [
      "30\n"
     ]
    }
   ],
   "source": [
    "a=10\n",
    "b=20\n",
    "print(a+b)# jaise tune idhrb + method class kia ,toh yeh method pehle sey hi define hai,\n",
    "#yeh data type int hai,toh ek int class hai uske andar yeh add method hia (jismai hum argument pass kar rahey hai)\n",
    "#### class.method(argument)\n",
    "#  int.add(a,b)   # aise kaamkarta hai yeh\n",
    "#@@@@"
   ]
  },
  {
   "cell_type": "code",
   "execution_count": 15,
   "metadata": {},
   "outputs": [
    {
     "name": "stdout",
     "output_type": "stream",
     "text": [
      "30\n"
     ]
    }
   ],
   "source": [
    "# how the + method work\n",
    "print(int.__add__(a,b))   # it mean there is a int class inside which we have many method\n",
    "    # if we want to access any method  like we used for calculating\n",
    "   # so simply it is going inside the int class and (.) is used to call any method which is present inside the class"
   ]
  },
  {
   "cell_type": "code",
   "execution_count": 20,
   "metadata": {},
   "outputs": [
    {
     "name": "stdout",
     "output_type": "stream",
     "text": [
      "1020\n"
     ]
    }
   ],
   "source": [
    "a='10'\n",
    "b='20'\n",
    "c=a+b\n",
    "print(c)"
   ]
  },
  {
   "cell_type": "code",
   "execution_count": 21,
   "metadata": {},
   "outputs": [
    {
     "name": "stdout",
     "output_type": "stream",
     "text": [
      "1020\n"
     ]
    }
   ],
   "source": [
    "print(str.__add__(a,b))"
   ]
  },
  {
   "cell_type": "code",
   "execution_count": null,
   "metadata": {},
   "outputs": [],
   "source": [
    "# if we want to perform like comparing between 2 class"
   ]
  },
  {
   "cell_type": "code",
   "execution_count": 54,
   "metadata": {},
   "outputs": [
    {
     "ename": "TypeError",
     "evalue": "unsupported operand type(s) for +: 'A' and 'A'",
     "output_type": "error",
     "traceback": [
      "\u001b[1;31m---------------------------------------------------------------------------\u001b[0m",
      "\u001b[1;31mTypeError\u001b[0m                                 Traceback (most recent call last)",
      "\u001b[1;32m<ipython-input-54-1532d5109316>\u001b[0m in \u001b[0;36m<module>\u001b[1;34m\u001b[0m\n\u001b[0;32m      5\u001b[0m \u001b[0ma\u001b[0m\u001b[1;33m=\u001b[0m\u001b[0mA\u001b[0m\u001b[1;33m(\u001b[0m\u001b[1;36m2\u001b[0m\u001b[1;33m,\u001b[0m\u001b[1;36m3\u001b[0m\u001b[1;33m)\u001b[0m  \u001b[1;31m# created the object of one and\u001b[0m\u001b[1;33m\u001b[0m\u001b[1;33m\u001b[0m\u001b[0m\n\u001b[0;32m      6\u001b[0m \u001b[0mb\u001b[0m\u001b[1;33m=\u001b[0m\u001b[0mA\u001b[0m\u001b[1;33m(\u001b[0m\u001b[1;36m12\u001b[0m\u001b[1;33m,\u001b[0m\u001b[1;36m20\u001b[0m\u001b[1;33m)\u001b[0m  \u001b[1;31m# created another object\u001b[0m\u001b[1;33m\u001b[0m\u001b[1;33m\u001b[0m\u001b[0m\n\u001b[1;32m----> 7\u001b[1;33m \u001b[0mc\u001b[0m\u001b[1;33m=\u001b[0m\u001b[0ma\u001b[0m\u001b[1;33m+\u001b[0m\u001b[0mb\u001b[0m\u001b[1;33m\u001b[0m\u001b[1;33m\u001b[0m\u001b[0m\n\u001b[0m",
      "\u001b[1;31mTypeError\u001b[0m: unsupported operand type(s) for +: 'A' and 'A'"
     ]
    }
   ],
   "source": [
    "class Student:\n",
    "    def __init__(self,m1,m2):\n",
    "        self.m1=m1\n",
    "        self.m2=m2\n",
    "a=Student(2,3)  # created the object of one and\n",
    "b=Student(12,20)  # created another object \n",
    "c=a+b  # this will  not perform the addition operation,because the add method is inside the int clas\n",
    "# and here we have our own class name (A)"
   ]
  },
  {
   "cell_type": "code",
   "execution_count": 19,
   "metadata": {},
   "outputs": [
    {
     "name": "stdout",
     "output_type": "stream",
     "text": [
      "23\n"
     ]
    }
   ],
   "source": [
    "# so to perform addition between our own define classes :\n",
    "class Student:\n",
    "    def __init__(self,m1,m2):\n",
    "        self.m1=m1\n",
    "        self.m2=m2\n",
    "    def __add__(self,other):\n",
    "        m1=self.m1+other.m1  # now it came into the int form n as we know the int class has the method of addition ,so we can now perform\n",
    "        m2=self.m2+other.m2\n",
    "        c=Student(m1,m2)  # type of class is Student\n",
    "        return c\n",
    "\n",
    "    \n",
    "a=Student(2,3)  \n",
    "\n",
    "b=Student(12,20)\n",
    "#.--------->indirectly yeh int class mai jayega, and udhar add metod call kareyga\n",
    "   #---->but idhr toh humne khud ka class A bnya hai so .a class ke andar thodi add method hai\n",
    "\n",
    "c=a+b #----->>>>because here i am adding 2 object of a class     \n",
    "#______~~~~~>Student.__add__(a,b)\n",
    "\n",
    "print(c.m2)  # now we can add two classes, this is how we can perform the operator overloding\n"
   ]
  },
  {
   "cell_type": "code",
   "execution_count": null,
   "metadata": {},
   "outputs": [],
   "source": []
  },
  {
   "cell_type": "code",
   "execution_count": 22,
   "metadata": {},
   "outputs": [
    {
     "name": "stdout",
     "output_type": "stream",
     "text": [
      "20 30\n"
     ]
    }
   ],
   "source": [
    "class A:\n",
    "    def __init__(self):\n",
    "        self.m1=20\n",
    "        self.m2=30\n",
    "    def show(self):\n",
    "        print(self.m1,self.m2)\n",
    "a=A()\n",
    "a.show()# for printing purpose\n",
    "\n",
    "        \n",
    "    "
   ]
  },
  {
   "cell_type": "code",
   "execution_count": 35,
   "metadata": {},
   "outputs": [
    {
     "name": "stdout",
     "output_type": "stream",
     "text": [
      "b1 is a greater\n"
     ]
    }
   ],
   "source": [
    "class A:\n",
    "    def __init__(self,m1,m2):\n",
    "        self.m1=m1\n",
    "        self.m2=m2\n",
    "    def __add__(self,other): \n",
    "        m1=self.m1+other.m1\n",
    "        m2=self.m2+other.m2\n",
    "        result=A(m1,m2)\n",
    "        return result\n",
    "\n",
    "a=A(10,20)     #...----->>a is a reference of class A\n",
    "b=A(20,30)       #------->>>> b is a reference of class B\n",
    "result=a+b\n",
    "#a1=result.m1   #------>>but a1 is not a refernce of any class.so we can perform the any method on it\n",
    "#print(a1)\n",
    "#b1=result.m2  #--->but a1 is not a refernce of any class.so we can perform the any method on it\n",
    "#print(b1)\n",
    "if a1>b1:\n",
    "    print(\"a1 is greater\")\n",
    "    \n",
    "else:\n",
    "    print(\"b1 is a greater\")"
   ]
  },
  {
   "cell_type": "markdown",
   "metadata": {},
   "source": [
    "# performing n operator overloading "
   ]
  },
  {
   "cell_type": "code",
   "execution_count": 42,
   "metadata": {},
   "outputs": [
    {
     "name": "stdout",
     "output_type": "stream",
     "text": [
      "b is greater\n"
     ]
    }
   ],
   "source": [
    "class A:\n",
    "    def __init__(self,m1,m2):\n",
    "        self.m1=m1\n",
    "        self.m2=m2\n",
    "    def __add__(self,other): \n",
    "        m1=self.m1+other.m1\n",
    "        m2=self.m2+other.m2\n",
    "        result=A(m1,m2)\n",
    "        return result\n",
    "    def __gt__(self,other):\n",
    "    \n",
    "        r=self.m1+self.m2\n",
    "        r2=other.m1+other.m2\n",
    "    \n",
    "        if(r>r2):\n",
    "            return True\n",
    "        else:\n",
    "        \n",
    "            return False\n",
    "a=A(10,200)     #...----->>a is a reference of class A\n",
    "b=A(20,300)       #------->>>> b is a reference of class B\n",
    "result=a+b\n",
    "    \n",
    "if a > b:   #here im performing the greater than operation on the refernce object of A,\n",
    "    print(\"a is greater\")\n",
    "else:\n",
    "    print(\"b is greater\")"
   ]
  },
  {
   "cell_type": "markdown",
   "metadata": {},
   "source": [
    "# performing subtraction "
   ]
  },
  {
   "cell_type": "code",
   "execution_count": null,
   "metadata": {},
   "outputs": [],
   "source": [
    "\n",
    "class Ab:\n",
    "    def __init__(self,m1,m2):\n",
    "        self.m1=m1\n",
    "        self.m2=m2\n",
    "    def __sub__(self,b2):\n",
    "        m1=self.m1+self.m2\n",
    "        m2=b2.m1+b2.m2\n",
    "        add=Ab(m1,m2)\n",
    "        return add\n",
    "ab=Ab(100,20)\n",
    "ab2=Ab(20,30)\n",
    "add=ab-ab2  # addition will not perfrom ,beacuse add method is there inside the int class,and our classs is (AB) ,we have to override the mwthod\n",
    "\n",
    "print(add.m1)  \n",
    "print(add.m2)\n",
    "sub=add.m1-add.m2"
   ]
  },
  {
   "cell_type": "code",
   "execution_count": null,
   "metadata": {},
   "outputs": [],
   "source": []
  }
 ],
 "metadata": {
  "kernelspec": {
   "display_name": "Python 3",
   "language": "python",
   "name": "python3"
  },
  "language_info": {
   "codemirror_mode": {
    "name": "ipython",
    "version": 3
   },
   "file_extension": ".py",
   "mimetype": "text/x-python",
   "name": "python",
   "nbconvert_exporter": "python",
   "pygments_lexer": "ipython3",
   "version": "3.8.2"
  }
 },
 "nbformat": 4,
 "nbformat_minor": 4
}
