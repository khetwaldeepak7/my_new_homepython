{
 "cells": [
  {
   "cell_type": "markdown",
   "metadata": {},
   "source": [
    "# BASICALLY WE HAVE 3 TYPE OF METHOD\n",
    "# 1  INSTANCE METHOD\n",
    "# 2  CLASS METHOD\n",
    "# 3 STATIC METHOD"
   ]
  },
  {
   "cell_type": "markdown",
   "metadata": {},
   "source": [
    "# IN THE VARIABLE WE HAVE SAME,MEAN CLASS AND STATIC VARIABLE ARE SAME,BUT THIS IS NOT WITH THE METHODS"
   ]
  },
  {
   "cell_type": "code",
   "execution_count": 40,
   "metadata": {},
   "outputs": [
    {
     "data": {
      "text/plain": [
       "20.0"
      ]
     },
     "execution_count": 40,
     "metadata": {},
     "output_type": "execute_result"
    }
   ],
   "source": [
    "class Student:\n",
    "    schoolname=\"chandresh lodha\"  # it a global because,the school name will be same for all\n",
    "    \n",
    "    \n",
    "    def __init__(self,m1,m2,m3):      # taking input from the user\n",
    "        self.m1=m1   # this are the instance variable\n",
    "        self.m2=m2\n",
    "        self.m3=m3\n",
    "    # calculating the average student marks\n",
    "    def cal(self):   #instance method,because while calling this method we are passing the instance of class\n",
    "        return (self.m1+self.m2+self.m3)/3  #using return method to get the values\n",
    "       \n",
    "s1=Student(10,20,30)\n",
    "s2=Student(40,50,60)\n",
    "s1.cal()  # this is the way to call"
   ]
  },
  {
   "cell_type": "code",
   "execution_count": null,
   "metadata": {},
   "outputs": [],
   "source": []
  },
  {
   "cell_type": "code",
   "execution_count": 1,
   "metadata": {},
   "outputs": [
    {
     "name": "stdout",
     "output_type": "stream",
     "text": [
      "20\n",
      "50\n"
     ]
    }
   ],
   "source": [
    "class Student:\n",
    "    schoolname=\"chandresh lodha\"  # it a global because,the school name will be same for all\n",
    "    \n",
    "    \n",
    "    def __init__(self,m1,m2,m3):      # taking input from the user\n",
    "        self.m1=m1   # this are the instance variable\n",
    "        self.m2=m2\n",
    "        self.m3=m3\n",
    "    # calculating the average student marks\n",
    "    def cal(self,s2):   #instance method,because while calling this method we are passing the instance of class\n",
    "        totals1=self.m1+self.m2+self.m3  # adding all the values\n",
    "        totals2=s2.m1+s2.m2+s2.m3\n",
    "        av=totals1//3\n",
    "        av2=totals2//3\n",
    "        print(av)\n",
    "        print(av2)\n",
    "s1=Student(10,20,30)\n",
    "s2=Student(40,50,60)\n",
    "s1.cal(s2)  # this is the way to call"
   ]
  },
  {
   "cell_type": "markdown",
   "metadata": {},
   "source": [
    "# above we used with instance variable,so we used,self"
   ]
  },
  {
   "cell_type": "markdown",
   "metadata": {},
   "source": [
    "# but while working with class variable inside the function we will used (cls) while calling the method\n",
    "# we have to used decorator to define the class variable inside the class"
   ]
  },
  {
   "cell_type": "code",
   "execution_count": 13,
   "metadata": {},
   "outputs": [
    {
     "data": {
      "text/plain": [
       "'chandresh lodha'"
      ]
     },
     "execution_count": 13,
     "metadata": {},
     "output_type": "execute_result"
    }
   ],
   "source": [
    "class Student:\n",
    "    schoolname=\"chandresh lodha\"    # this is the class variable.because it is inside the class,not inside the function\n",
    "    @classmethod  # by this way we can used class method,it work with class variable\n",
    "    def cl(cls):\n",
    "        return cls.schoolname\n",
    "s=Student()\n",
    "Student.cl()  # so to acces the class variable in the function,used decorators"
   ]
  },
  {
   "cell_type": "code",
   "execution_count": null,
   "metadata": {},
   "outputs": [],
   "source": []
  },
  {
   "cell_type": "markdown",
   "metadata": {},
   "source": [
    "# important notes :for class and for static method we used @Decorators"
   ]
  },
  {
   "cell_type": "markdown",
   "metadata": {},
   "source": [
    "# static method:\n",
    "# the method which has nothing to do with instance variable,nothing to do with class method that time we used static method"
   ]
  },
  {
   "cell_type": "code",
   "execution_count": 51,
   "metadata": {},
   "outputs": [
    {
     "name": "stdout",
     "output_type": "stream",
     "text": [
      "this is used to print the static method\n"
     ]
    }
   ],
   "source": [
    "class Student:\n",
    "    @staticmethod    #decorators to define static method\n",
    "    def info():\n",
    "        print(\"this is used to print the static method\")\n",
    "s=Student()\n",
    "Student.info()  # this is how we called static method.\n",
    "# class name.method name"
   ]
  },
  {
   "cell_type": "code",
   "execution_count": null,
   "metadata": {},
   "outputs": [],
   "source": []
  },
  {
   "cell_type": "code",
   "execution_count": null,
   "metadata": {},
   "outputs": [],
   "source": []
  },
  {
   "cell_type": "code",
   "execution_count": null,
   "metadata": {},
   "outputs": [],
   "source": []
  },
  {
   "cell_type": "code",
   "execution_count": null,
   "metadata": {},
   "outputs": [],
   "source": []
  }
 ],
 "metadata": {
  "kernelspec": {
   "display_name": "Python 3",
   "language": "python",
   "name": "python3"
  },
  "language_info": {
   "codemirror_mode": {
    "name": "ipython",
    "version": 3
   },
   "file_extension": ".py",
   "mimetype": "text/x-python",
   "name": "python",
   "nbconvert_exporter": "python",
   "pygments_lexer": "ipython3",
   "version": "3.8.2"
  }
 },
 "nbformat": 4,
 "nbformat_minor": 4
}
