{
 "cells": [
  {
   "cell_type": "markdown",
   "metadata": {},
   "source": [
    "# types of argument in python"
   ]
  },
  {
   "cell_type": "markdown",
   "metadata": {},
   "source": [
    "# function ke andar ka method tabh takh execute nhi hota hai,jabh takh us function ko call na kare"
   ]
  },
  {
   "cell_type": "markdown",
   "metadata": {},
   "source": [
    "# actual argument   # it is the argument when we are calling the function at that time we are actually passing the values\n",
    "# formal argument    # the time when we are defining the function ,"
   ]
  },
  {
   "cell_type": "code",
   "execution_count": 15,
   "metadata": {},
   "outputs": [
    {
     "name": "stdout",
     "output_type": "stream",
     "text": [
      "12\n"
     ]
    }
   ],
   "source": [
    "def add(a1,b1):      # it is known as a formal argument ,because here i am defining a function\n",
    "    add=a+b\n",
    "    print(add)\n",
    "\n",
    "\n",
    "a=10\n",
    "b=2\n",
    "add(a,b)   # here im calling a function ,so it known as a actual argument"
   ]
  },
  {
   "cell_type": "code",
   "execution_count": null,
   "metadata": {},
   "outputs": [],
   "source": []
  },
  {
   "cell_type": "markdown",
   "metadata": {},
   "source": [
    "\n",
    "# Actual argument are 4 types\n",
    "# 1) position 2) keyword 3) default 4) variable length"
   ]
  },
  {
   "cell_type": "code",
   "execution_count": 16,
   "metadata": {},
   "outputs": [],
   "source": [
    "# for this watch youtube video number 38 of navin ready\n",
    "# also check the github code i stored in google"
   ]
  },
  {
   "cell_type": "code",
   "execution_count": 17,
   "metadata": {},
   "outputs": [],
   "source": [
    "# variable length argument"
   ]
  },
  {
   "cell_type": "code",
   "execution_count": 18,
   "metadata": {},
   "outputs": [],
   "source": [
    "# uppar ka sabh dekhleyna,\n",
    "# varibale length argument, for eg.as a developer hum hamessha user sey leyteh hai input barobar,so apen ko pta nhi hai ki user kitne input daleyga ,inside the formal argument function mai\n",
    "# for eg jaise maine aactual argument mai 3 variable pass kia hai but in the formal argument mai user bas 2 ya 3 sey jada value deyga\n",
    "# toh yeh toh error throw kaeyag.. es time par varibale length argument kaam mai aayega"
   ]
  },
  {
   "cell_type": "code",
   "execution_count": 19,
   "metadata": {},
   "outputs": [],
   "source": [
    "# actual argument mai dekho user kam sey kam 1 value toh pss kareyga hi na\n",
    "# so ek variable denge in the formal argument mai and * with one varibale denge eska,matlab yeh hoga ki abh user jitna chaheh utna valuye pass kareyga calling mai  n utna accept kar skhta haiwah defining mai"
   ]
  },
  {
   "cell_type": "code",
   "execution_count": 20,
   "metadata": {},
   "outputs": [],
   "source": [
    "# check the video from timing 7 to 9:54\n",
    "# function is helpful ,just define once,and we can call it multiple time"
   ]
  },
  {
   "cell_type": "code",
   "execution_count": 2,
   "metadata": {},
   "outputs": [],
   "source": [
    "# def functiom  # *b mean it has multiple value,that aree passed by  user\n",
    "def fun(a,*b):    # so as i had wrote before, pehle toh ek value a mai aayega, n abh user ko nhi pta kitna values baki hai so * leylar length mai wah sabh value leyleyga\n",
    "    # a mai pehla value aaya that is 1 , b mai pura tuple mean 2 sey 43 value takh pura aaya\n",
    "    print(a)  #dekho  jabh print kia a mai value aaya\n",
    "    print(b)  # dekho jabh print kia tuple aaya\n",
    "    # so fetching one by one value from the tuple ,we will use loop\n",
    "    for i in b:\n",
    "        a=a+i\n",
    "    print(a)  # here i got the additon of number\n",
    "    "
   ]
  },
  {
   "cell_type": "code",
   "execution_count": 25,
   "metadata": {},
   "outputs": [
    {
     "name": "stdout",
     "output_type": "stream",
     "text": [
      "1\n",
      "(2, 3, 43)\n",
      "49\n"
     ]
    }
   ],
   "source": [
    "# canlling a function\n",
    "fun(1,2,3,43)"
   ]
  },
  {
   "cell_type": "code",
   "execution_count": null,
   "metadata": {},
   "outputs": [],
   "source": []
  },
  {
   "cell_type": "code",
   "execution_count": 3,
   "metadata": {},
   "outputs": [
    {
     "name": "stdout",
     "output_type": "stream",
     "text": [
      "1\n",
      "(2, 3, 43, 34)\n",
      "83\n"
     ]
    }
   ],
   "source": [
    "fun(1,2,3,43,34)"
   ]
  },
  {
   "cell_type": "code",
   "execution_count": 4,
   "metadata": {},
   "outputs": [
    {
     "name": "stdout",
     "output_type": "stream",
     "text": [
      "1\n",
      "(2, 3, 43, 43, 53, 6642)\n",
      "6787\n"
     ]
    }
   ],
   "source": [
    "fun(1,2,3,43,43,53,6642)"
   ]
  },
  {
   "cell_type": "code",
   "execution_count": null,
   "metadata": {},
   "outputs": [],
   "source": []
  },
  {
   "cell_type": "code",
   "execution_count": 2,
   "metadata": {},
   "outputs": [
    {
     "name": "stdout",
     "output_type": "stream",
     "text": [
      "im making a function\n",
      "after printing above line this line will get print\n",
      "(1, 2, 3, 4, 4)\n",
      "3\n",
      "4\n"
     ]
    }
   ],
   "source": [
    "print(\"im making a function\")\n",
    "\n",
    "def dk(*a):  #yeh tabh kaam ayegaq jabbh function mai user value assignkareyga\n",
    "    print(a)\n",
    "    #length=len(a)\n",
    "    #print(length)\n",
    "    for i in range(len(a)):\n",
    "        if(a[i]==4):\n",
    "            print(i)this\n",
    "            #break\n",
    "print(\"after printing above line  line will get print\")\n",
    "dk(1,2,3,4,4)            #itne sarey argument pass kar dia hai  "
   ]
  },
  {
   "cell_type": "code",
   "execution_count": 1,
   "metadata": {},
   "outputs": [
    {
     "name": "stdout",
     "output_type": "stream",
     "text": [
      "150\n"
     ]
    }
   ],
   "source": [
    "class A:\n",
    "    def sum(self,a,*b): # simplest way\n",
    "        for i in b:\n",
    "            a=a+i\n",
    "        print(a)\n",
    "        \n",
    "    \n",
    "a=A()\n",
    "a.sum(10,20,30,40,50)"
   ]
  },
  {
   "cell_type": "code",
   "execution_count": null,
   "metadata": {},
   "outputs": [],
   "source": [
    "# complex way inside the class\n",
    "class A:\n",
    "    def su(self,*m):\n",
    "        print(m)\n",
    "        for i in range(len(m)):\n",
    "            if i==0:\n",
    "                b1=m[i]\n",
    "            else:\n",
    "                b2=m[i]\n",
    "        print(b1,b2)\n",
    "        s=b1+b2\n",
    "        print(s)\n",
    "a=A()\n",
    "a.su(2,3)"
   ]
  }
 ],
 "metadata": {
  "kernelspec": {
   "display_name": "Python 3",
   "language": "python",
   "name": "python3"
  },
  "language_info": {
   "codemirror_mode": {
    "name": "ipython",
    "version": 3
   },
   "file_extension": ".py",
   "mimetype": "text/x-python",
   "name": "python",
   "nbconvert_exporter": "python",
   "pygments_lexer": "ipython3",
   "version": "3.8.2"
  }
 },
 "nbformat": 4,
 "nbformat_minor": 4
}
