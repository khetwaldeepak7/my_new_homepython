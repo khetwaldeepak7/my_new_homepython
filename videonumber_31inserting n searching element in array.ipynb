{
 "cells": [
  {
   "cell_type": "markdown",
   "metadata": {},
   "source": [
    "# inserting values in array"
   ]
  },
  {
   "cell_type": "code",
   "execution_count": 5,
   "metadata": {},
   "outputs": [
    {
     "name": "stdout",
     "output_type": "stream",
     "text": [
      "enter the length of array4\n",
      "1\n",
      "2\n",
      "3\n",
      "4\n",
      "array('i', [1, 2, 3, 4])\n"
     ]
    }
   ],
   "source": [
    "from array import array\n",
    "a=array('i',[])   # this is the way we wll declare a array\n",
    "b=int(input(\"enter the length of array\"))\n",
    "for  i in range(b):\n",
    "    y=int(input())\n",
    "    a.append(y)\n",
    "print(a)\n"
   ]
  },
  {
   "cell_type": "markdown",
   "metadata": {},
   "source": [
    "# finding the index value of array   #manually "
   ]
  },
  {
   "cell_type": "code",
   "execution_count": 7,
   "metadata": {},
   "outputs": [
    {
     "name": "stdout",
     "output_type": "stream",
     "text": [
      "enter the length of array5\n",
      "12\n",
      "2\n",
      "5\n",
      "23\n",
      "60\n",
      "array('i', [12, 2, 5, 23, 60])\n",
      "enter the value which you want to search23\n",
      "the index value is 3\n"
     ]
    }
   ],
   "source": [
    "from array import array\n",
    "a=array('i',[])   # this is the way we wll declare a array\n",
    "b=int(input(\"enter the length of array\"))\n",
    "for  i in range(b):\n",
    "    y=int(input())\n",
    "    a.append(y)\n",
    "print(a)\n",
    "k=int(input(\"enter the value which you want to search : \"))\n",
    "count=0\n",
    "for i in a:\n",
    "    if(k==i):\n",
    "        print(\"the index value is\",+count)    # to find the index value\n",
    "        break\n",
    "    else:\n",
    "        count=count+1"
   ]
  },
  {
   "cell_type": "markdown",
   "metadata": {},
   "source": [
    "# using inbuild function,index function to find the index value "
   ]
  },
  {
   "cell_type": "code",
   "execution_count": 1,
   "metadata": {},
   "outputs": [
    {
     "name": "stdout",
     "output_type": "stream",
     "text": [
      "enter the length of array4\n",
      "12\n",
      "32\n",
      "24\n",
      "43\n",
      "array('i', [12, 32, 24, 43])\n",
      "enter the value which you want to search : 12\n",
      "0\n"
     ]
    }
   ],
   "source": [
    "from array import array\n",
    "a=array('i',[])   # this is the way we wll declare a array\n",
    "b=int(input(\"enter the length of array\"))\n",
    "for  i in range(b):\n",
    "    y=int(input())\n",
    "    a.append(y)\n",
    "print(a)\n",
    "k=int(input(\"enter the value which you want to search : \"))\n",
    "print(a.index(k))    #using this inbuild function we can get the value "
   ]
  },
  {
   "cell_type": "markdown",
   "metadata": {},
   "source": [
    "# make a array and check the even number on it. n print the number of even number"
   ]
  },
  {
   "cell_type": "code",
   "execution_count": 2,
   "metadata": {},
   "outputs": [
    {
     "name": "stdout",
     "output_type": "stream",
     "text": [
      "enter the length of array5\n",
      "enter the value 12\n",
      "enter the value 32\n",
      "enter the value 56\n",
      "enter the value 3\n",
      "enter the value 2\n",
      "array('i', [12, 32, 56, 3, 2])\n"
     ]
    }
   ],
   "source": [
    "from array import array\n",
    "arr=array('i',[])\n",
    "num=int(input(\"enter the length of array\"))\n",
    "for i in range(num):\n",
    "    value=int(input(\"enter the value \"))\n",
    "    arr.append(value)\n",
    "print(arr)"
   ]
  },
  {
   "cell_type": "code",
   "execution_count": 8,
   "metadata": {},
   "outputs": [
    {
     "name": "stdout",
     "output_type": "stream",
     "text": [
      "number of even number in list  12 1\n",
      "number of even number in list  32 2\n",
      "number of even number in list  56 3\n",
      "number of even number in list  2 4\n"
     ]
    }
   ],
   "source": [
    "count=1\n",
    "for i in arr:\n",
    "    if(i%2==0):\n",
    "        print(\"number of even number in list \",i,+count)  # ke ke baju mai dusra ouput print\n",
    "        count=count+1\n",
    "    else:\n",
    "        continue\n",
    "        "
   ]
  },
  {
   "cell_type": "code",
   "execution_count": null,
   "metadata": {},
   "outputs": [],
   "source": []
  },
  {
   "cell_type": "code",
   "execution_count": null,
   "metadata": {},
   "outputs": [],
   "source": []
  }
 ],
 "metadata": {
  "kernelspec": {
   "display_name": "Python 3",
   "language": "python",
   "name": "python3"
  },
  "language_info": {
   "codemirror_mode": {
    "name": "ipython",
    "version": 3
   },
   "file_extension": ".py",
   "mimetype": "text/x-python",
   "name": "python",
   "nbconvert_exporter": "python",
   "pygments_lexer": "ipython3",
   "version": "3.8.2"
  }
 },
 "nbformat": 4,
 "nbformat_minor": 4
}
