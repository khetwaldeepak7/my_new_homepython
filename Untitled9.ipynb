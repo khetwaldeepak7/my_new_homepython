{
 "cells": [
  {
   "cell_type": "code",
   "execution_count": 2,
   "metadata": {},
   "outputs": [
    {
     "name": "stdout",
     "output_type": "stream",
     "text": [
      "hello\n",
      "bye\n"
     ]
    }
   ],
   "source": [
    "class A:\n",
    "    def __init__(self):\n",
    "        print(\"hello\")\n",
    "class B(A):\n",
    "    def __init__(self):\n",
    "        super().__init__()  # super keyword\n",
    "        print(\"bye\")\n",
    "b=B()"
   ]
  },
  {
   "cell_type": "code",
   "execution_count": 3,
   "metadata": {},
   "outputs": [
    {
     "name": "stdout",
     "output_type": "stream",
     "text": [
      "deepak\n",
      "khetwal\n"
     ]
    }
   ],
   "source": [
    "##----------->>>>>>>>>>>       Duck typing     <<<<<<<<<<__-------------------\n",
    "##------>>benefit of ducktyping is that without inhertiance of any class ,we can call the method of that clas we want,\n",
    "#----->>but we have to take the refernce of that class object which we want in other class\n",
    "class A:\n",
    "    def m1(self):\n",
    "        print(\"deepak\")\n",
    "class B:\n",
    "    def m2(self,d1):\n",
    "        d1.m1()\n",
    "        print(\"khetwal\")\n",
    "a=A()\n",
    "b=B()\n",
    "b.m2(a)"
   ]
  },
  {
   "cell_type": "code",
   "execution_count": null,
   "metadata": {},
   "outputs": [],
   "source": []
  }
 ],
 "metadata": {
  "kernelspec": {
   "display_name": "Python 3",
   "language": "python",
   "name": "python3"
  },
  "language_info": {
   "codemirror_mode": {
    "name": "ipython",
    "version": 3
   },
   "file_extension": ".py",
   "mimetype": "text/x-python",
   "name": "python",
   "nbconvert_exporter": "python",
   "pygments_lexer": "ipython3",
   "version": "3.8.2"
  }
 },
 "nbformat": 4,
 "nbformat_minor": 4
}
