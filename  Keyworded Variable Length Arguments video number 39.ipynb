{
 "cells": [
  {
   "cell_type": "markdown",
   "metadata": {},
   "source": [
    " # KEYWORD VARIABLE LENGTH ARGUMENT\n",
    "    "
   ]
  },
  {
   "cell_type": "markdown",
   "metadata": {},
   "source": [
    "# AS WE KNOW THE VARIABLE LENGTH ARGUMENT:IN THIS ALL THE VALUE PASS AND STORE IN A SINGLE VARIBALE IN THE FORM OF TUPLE, AND THAT WE GET USING *"
   ]
  },
  {
   "cell_type": "markdown",
   "metadata": {},
   "source": [
    "# BUT WHAT WHEN WE HAVE A PARAMETER WITH KEY WORD: AT THAT TIME WE WILL USE KEYWORD VARIABLE LENGTH CONCEPT.IN THIS THE ARGUMENT WILL BE IN THE FORM OF SET"
   ]
  },
  {
   "cell_type": "code",
   "execution_count": 4,
   "metadata": {},
   "outputs": [],
   "source": [
    "# HOW TO DEFINE IT\n",
    "# one star * for the storage of key and another star * for values\n",
    " # so the key and values are stord in data"
   ]
  },
  {
   "cell_type": "code",
   "execution_count": 42,
   "metadata": {},
   "outputs": [],
   "source": [
    "def person(**data):  #fecthing value with the help of key\n",
    "   # print(name)\n",
    "   # print(data)\n",
    "  #  print(type(data))\n",
    "    for i ,j in data.items():   # i will take Key n j wil take values,n we have to call the data.items()function to fetch the value\n",
    "        print(i,j)"
   ]
  },
  {
   "cell_type": "code",
   "execution_count": 45,
   "metadata": {},
   "outputs": [
    {
     "name": "stdout",
     "output_type": "stream",
     "text": [
      "name deepak\n",
      "age 23\n",
      "city mumbai\n",
      "mob 2344502\n"
     ]
    }
   ],
   "source": [
    "person(name='deepak',age=23,city='mumbai',mob=2344502)   #once w have define a function than we can call it multiple time,we "
   ]
  },
  {
   "cell_type": "code",
   "execution_count": null,
   "metadata": {},
   "outputs": [],
   "source": []
  },
  {
   "cell_type": "code",
   "execution_count": 46,
   "metadata": {},
   "outputs": [
    {
     "name": "stdout",
     "output_type": "stream",
     "text": [
      "name deepak\n",
      "age 23\n",
      "city mumbai\n",
      "mob 2344502\n"
     ]
    }
   ],
   "source": [
    "person(name='deepak',age=23,city='mumbai',mob=2344502)# esmai key and value kepair mai function ke andar value hota hai"
   ]
  },
  {
   "cell_type": "code",
   "execution_count": null,
   "metadata": {},
   "outputs": [],
   "source": []
  },
  {
   "cell_type": "code",
   "execution_count": null,
   "metadata": {},
   "outputs": [],
   "source": []
  },
  {
   "cell_type": "markdown",
   "metadata": {},
   "source": [
    "# nested function\n",
    "# we cannot call the deepak function directly ,because the deepak function is inside the person function\n",
    "# so we have to call person function first"
   ]
  },
  {
   "cell_type": "code",
   "execution_count": 3,
   "metadata": {},
   "outputs": [
    {
     "name": "stdout",
     "output_type": "stream",
     "text": [
      "ram is a good boy\n",
      " 2 this is what i was expecting\n",
      "{'name': 'deepak', 'age': 23, 'city': 'mumbai', 'mob': 2344502}\n",
      "name deepak\n",
      "deepak\n",
      "age 23\n",
      "city mumbai\n",
      "mob 2344502\n",
      "nested function\n"
     ]
    }
   ],
   "source": [
    "#1\n",
    "print(\"ram is a good boy\")\n",
    "\n",
    "def person(**a):  # yeh idhr define kia hai,toh eska andar ka method tabh takh execute nhi hoga jabh takh esko cal na kare \n",
    "    def deepak():      # this function is define ,and the method or the body of the function does not execute until the function get calleds\n",
    "        print(\"nested function\")\n",
    "    print(a)\n",
    "    for i ,j in a.items():\n",
    "        print(i,j)\n",
    "        if(i==\"name\"):\n",
    "            print(j)\n",
    "            \n",
    "    return deepak()  # this is how to call the function withthe help of return function\n",
    "\n",
    " # 2\n",
    "print(\" 2 this is what i was expecting\" )\n",
    "# 3 idhr maine function ko call kia\n",
    "person(name='deepak',age=23,city='mumbai',mob=2344502)  # just you had called a one function only\n"
   ]
  },
  {
   "cell_type": "code",
   "execution_count": 2,
   "metadata": {},
   "outputs": [
    {
     "name": "stdout",
     "output_type": "stream",
     "text": [
      "{'name': 'deepak', 'age': 23, 'height': 5.4}\n",
      "name deepak\n",
      "age 23\n",
      "height 5.4\n"
     ]
    }
   ],
   "source": [
    "def fun(**a):  # in simple word,one 1 star for keys, and 2 * for values\n",
    "    print(a)\n",
    "    for i,j in a.items():\n",
    "        print(i,j)\n",
    "fun(name='deepak',age=23,height=5.4)# while calling function,when you are passing the value in keys-values pair"
   ]
  },
  {
   "cell_type": "code",
   "execution_count": 3,
   "metadata": {},
   "outputs": [
    {
     "name": "stdout",
     "output_type": "stream",
     "text": [
      "word found at the index number: 3\n"
     ]
    }
   ],
   "source": [
    "a=\"deepak\"\n",
    "count=0\n",
    "for i in a:\n",
    "    if(i=='p'):\n",
    "        print(\"word found at the index number:\",count)\n",
    "        count=count+1\n",
    "    else:\n",
    "        count=count+1\n",
    "    "
   ]
  },
  {
   "cell_type": "code",
   "execution_count": null,
   "metadata": {},
   "outputs": [],
   "source": []
  },
  {
   "cell_type": "code",
   "execution_count": null,
   "metadata": {},
   "outputs": [],
   "source": []
  },
  {
   "cell_type": "code",
   "execution_count": 15,
   "metadata": {},
   "outputs": [],
   "source": [
    "def m1():\n",
    "    def m2():\n",
    "        print(\"deepak \")\n",
    "    print(\"khetwal\",end=\" \")\n",
    "    return m2()"
   ]
  },
  {
   "cell_type": "code",
   "execution_count": 16,
   "metadata": {},
   "outputs": [
    {
     "name": "stdout",
     "output_type": "stream",
     "text": [
      "khetwal deepak \n"
     ]
    }
   ],
   "source": [
    "m1()"
   ]
  },
  {
   "cell_type": "code",
   "execution_count": null,
   "metadata": {},
   "outputs": [],
   "source": []
  }
 ],
 "metadata": {
  "kernelspec": {
   "display_name": "Python 3",
   "language": "python",
   "name": "python3"
  },
  "language_info": {
   "codemirror_mode": {
    "name": "ipython",
    "version": 3
   },
   "file_extension": ".py",
   "mimetype": "text/x-python",
   "name": "python",
   "nbconvert_exporter": "python",
   "pygments_lexer": "ipython3",
   "version": "3.8.2"
  }
 },
 "nbformat": 4,
 "nbformat_minor": 4
}
