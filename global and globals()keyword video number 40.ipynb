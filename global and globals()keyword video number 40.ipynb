{
 "cells": [
  {
   "cell_type": "markdown",
   "metadata": {},
   "source": [
    "# there are two type of variable\n",
    " #1 local: define inside the function,and the scope of this variable is till the function\n",
    "# 2 global  # used outside the function ,and the scope is full"
   ]
  },
  {
   "cell_type": "code",
   "execution_count": 59,
   "metadata": {},
   "outputs": [
    {
     "name": "stdout",
     "output_type": "stream",
     "text": [
      "deepak\n",
      "5\n",
      "10\n"
     ]
    }
   ],
   "source": [
    "a=10  #this call first\n",
    "print(\"deepak\")\n",
    "def fun():  #yeh baad mai call hoga,q ki esko bas define kia hai,call nhi kia hai,jabh call hoga tabh eska kaam hoga\n",
    "    a=5   #this is the local variable.it scope wil be til tthis function\n",
    "    print(a)\n",
    "fun()\n",
    "print(a)"
   ]
  },
  {
   "cell_type": "code",
   "execution_count": 6,
   "metadata": {},
   "outputs": [
    {
     "name": "stdout",
     "output_type": "stream",
     "text": [
      "5\n",
      "9\n",
      "9\n"
     ]
    }
   ],
   "source": [
    "# if we want to make the local variable to global,thanwe have to used the global keyword\n",
    "a=10\n",
    "def fun():\n",
    "    global a  # in this first we have to define that ki a is a global variable,n we cannot initiliazed the value at the same time\n",
    "    a=5 #this is the global variable.so if i chnged the variable it will effect the outside also\n",
    "    print(a)\n",
    "    a=9\n",
    "    print(a)\n",
    "fun()\n",
    "print(a)  # it a outside the function so it will print at the end"
   ]
  },
  {
   "cell_type": "code",
   "execution_count": 1,
   "metadata": {},
   "outputs": [],
   "source": [
    "# if we want  global n local varibale at same function"
   ]
  },
  {
   "cell_type": "code",
   "execution_count": 2,
   "metadata": {},
   "outputs": [],
   "source": [
    "#  mean jaise ek function mai local variable hai,but mujhko us local ko local hi rehne deyna hai but jo bhr global variable hai,usko use karna hai,n usmai changes hona cahaiyeh"
   ]
  },
  {
   "cell_type": "code",
   "execution_count": null,
   "metadata": {},
   "outputs": [],
   "source": [
    "# use of globals() function"
   ]
  },
  {
   "cell_type": "code",
   "execution_count": 9,
   "metadata": {},
   "outputs": [
    {
     "name": "stdout",
     "output_type": "stream",
     "text": [
      "1465972800\n",
      "1465972800\n",
      "it will print the local varibale value 9\n",
      "now it will print global variable 9\n",
      "20\n"
     ]
    }
   ],
   "source": [
    "a=10 # program kaise run hoga dekho.pehle idhr jauega\n",
    "print(id(a))   # pehle yeh print hoga\n",
    "def cal():# second idhar aayega but humne toh function ko bas define kia hai,call nhi ki ahi,so ;direct niche aayega,n fir \n",
    "    a=9\n",
    "    x=globals()['a']   # but outside the function bhot sare varibale ho sakhte hai,eslia humko btna padeyga ki outside ke yeh variable ko humnko function ke andar use karna hai\n",
    "    print(id(x))   #  bad mai yeh print hoga\n",
    "    x=15  #this is wrong form ,because as we change the value of x,it will create a ne addres\n",
    "    print(\"it will print the local varibale value\",a)  #because we are printing inside the function or inside the local variable\n",
    "    globals()['a']=20   #this is how we can chnge the value of global variable\n",
    "\n",
    "cal() # idhr humne function ko call kia hai so aayega, n function call hone ke baad ,directy udhr jayega jidhar function ko define kia hai\n",
    "print(a)"
   ]
  },
  {
   "cell_type": "code",
   "execution_count": null,
   "metadata": {},
   "outputs": [],
   "source": []
  },
  {
   "cell_type": "code",
   "execution_count": null,
   "metadata": {},
   "outputs": [],
   "source": []
  },
  {
   "cell_type": "code",
   "execution_count": null,
   "metadata": {},
   "outputs": [],
   "source": [
    "# to undestand the concept of global and globals()"
   ]
  },
  {
   "cell_type": "code",
   "execution_count": 46,
   "metadata": {},
   "outputs": [],
   "source": [
    "# global keyword is used to make local variable to global.means now the variable is avilable to used outside the function"
   ]
  },
  {
   "cell_type": "code",
   "execution_count": null,
   "metadata": {},
   "outputs": [],
   "source": [
    "# GLOBALS()[''] inside the square []bracket we have to define the name of varibale to whome we have to make the globly avaiable"
   ]
  },
  {
   "cell_type": "code",
   "execution_count": 49,
   "metadata": {},
   "outputs": [
    {
     "name": "stdout",
     "output_type": "stream",
     "text": [
      "30\n"
     ]
    }
   ],
   "source": [
    "def fun():\n",
    "    global a,c   # this is how we make the variable to global,,so abh esko outside the duntion v use karsakhte hai\n",
    "    a=10\n",
    "    c=20\n",
    "fun()\n",
    "d=a+c\n",
    "print(d)"
   ]
  },
  {
   "cell_type": "code",
   "execution_count": 63,
   "metadata": {},
   "outputs": [
    {
     "name": "stdout",
     "output_type": "stream",
     "text": [
      "first it will print\n",
      "110\n",
      "130\n"
     ]
    }
   ],
   "source": [
    "# GLOBALS()\n",
    "a=10\n",
    "b=20\n",
    "c=30\n",
    "print(\"first it will print\")\n",
    "def fun():\n",
    "    a=10   #,local variable\n",
    "    x=globals()['c']   # using this concept we will make global\n",
    "    #abh mai value assign karunga,but yaad rahey x ko assign nhi karskhta,warna x ka location ,ya addres change ho jayega\n",
    "    # so value kaise assign karnege yeh dekho\n",
    "    globals()['c']=100   # now globally it will chnge the file\n",
    "    c=20  #this is local \n",
    "    x=globals()['c']  # to change the value of global variable,this is how to chnage it\n",
    "    a=a+x\n",
    "    print(a)  # so abh yehi c ka value local ke lia use kia hai\n",
    "    \n",
    "fun()   # fir idhr aayega ,n idar call kia,mean esk afuntion use hoga\n",
    "d=a+b+c\n",
    "print(d)"
   ]
  },
  {
   "cell_type": "code",
   "execution_count": null,
   "metadata": {},
   "outputs": [],
   "source": []
  },
  {
   "cell_type": "code",
   "execution_count": null,
   "metadata": {},
   "outputs": [],
   "source": []
  },
  {
   "cell_type": "code",
   "execution_count": null,
   "metadata": {},
   "outputs": [],
   "source": []
  },
  {
   "cell_type": "code",
   "execution_count": null,
   "metadata": {},
   "outputs": [],
   "source": []
  },
  {
   "cell_type": "code",
   "execution_count": 10,
   "metadata": {},
   "outputs": [
    {
     "name": "stdout",
     "output_type": "stream",
     "text": [
      "hi this is\n",
      "30\n",
      "30\n",
      "230\n"
     ]
    }
   ],
   "source": [
    "a=10\n",
    "b=20\n",
    "def m1():\n",
    "    a=30\n",
    "    globals()['a']=230\n",
    "    print(c)\n",
    "    print(a)\n",
    "print(\"hi this is\")\n",
    "m1()\n",
    "print(a)"
   ]
  },
  {
   "cell_type": "code",
   "execution_count": 3,
   "metadata": {},
   "outputs": [
    {
     "name": "stdout",
     "output_type": "stream",
     "text": [
      "30\n"
     ]
    }
   ],
   "source": []
  },
  {
   "cell_type": "code",
   "execution_count": null,
   "metadata": {},
   "outputs": [],
   "source": []
  }
 ],
 "metadata": {
  "kernelspec": {
   "display_name": "Python 3",
   "language": "python",
   "name": "python3"
  },
  "language_info": {
   "codemirror_mode": {
    "name": "ipython",
    "version": 3
   },
   "file_extension": ".py",
   "mimetype": "text/x-python",
   "name": "python",
   "nbconvert_exporter": "python",
   "pygments_lexer": "ipython3",
   "version": "3.8.2"
  }
 },
 "nbformat": 4,
 "nbformat_minor": 4
}
