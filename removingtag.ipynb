{
 "cells": [
  {
   "cell_type": "code",
   "execution_count": 13,
   "metadata": {},
   "outputs": [
    {
     "name": "stdout",
     "output_type": "stream",
     "text": [
      "khetwal\n",
      "khetwal\n",
      "khetwal\n",
      "khetwal\n",
      "khetwal\n",
      "\n"
     ]
    }
   ],
   "source": [
    "23 * 'deepak'\n",
    "d=5*\"khetwal\\n\"  # to print the string multiple time\n",
    "print(d)"
   ]
  },
  {
   "cell_type": "code",
   "execution_count": 21,
   "metadata": {},
   "outputs": [
    {
     "name": "stdout",
     "output_type": "stream",
     "text": [
      "kapeed\n"
     ]
    }
   ],
   "source": [
    "d=\"deepak\"\n",
    "h=d[::-1]    # to reverse the string\n",
    "print(h)"
   ]
  },
  {
   "cell_type": "code",
   "execution_count": 25,
   "metadata": {},
   "outputs": [
    {
     "name": "stdout",
     "output_type": "stream",
     "text": [
      "deepak:\n",
      "avin\n",
      "deepak\\navin\n"
     ]
    }
   ],
   "source": [
    "# if we want to print the string as it is without checking the special character\n",
    "# that time we will use r as a raw \n",
    "a=\"deepak:\\navin\"\n",
    "print(a)   #here after slaces it took a \\n a new line characters  ,but if we want to neglect that special characters\n",
    "d=r\"deepak\\navin\"  #in the starting of the string use r as a special character\n",
    "print(d)"
   ]
  },
  {
   "cell_type": "code",
   "execution_count": null,
   "metadata": {},
   "outputs": [],
   "source": []
  },
  {
   "cell_type": "code",
   "execution_count": null,
   "metadata": {},
   "outputs": [],
   "source": []
  }
 ],
 "metadata": {
  "kernelspec": {
   "display_name": "Python 3",
   "language": "python",
   "name": "python3"
  },
  "language_info": {
   "codemirror_mode": {
    "name": "ipython",
    "version": 3
   },
   "file_extension": ".py",
   "mimetype": "text/x-python",
   "name": "python",
   "nbconvert_exporter": "python",
   "pygments_lexer": "ipython3",
   "version": "3.8.2"
  }
 },
 "nbformat": 4,
 "nbformat_minor": 4
}
