{
 "cells": [
  {
   "cell_type": "code",
   "execution_count": 8,
   "metadata": {},
   "outputs": [
    {
     "name": "stdout",
     "output_type": "stream",
     "text": [
      "2.0\n",
      "inside this block all the statment will get print\n"
     ]
    }
   ],
   "source": [
    "a=10\n",
    "v=20\n",
    "try:\n",
    "    if(a<v):\n",
    "        a,v=v,a\n",
    "    print(a/v)\n",
    "except Exception as e:\n",
    "    print(\"the number is wrong\",e)\n",
    "finally:\n",
    "    print(\"inside this block all the statment will get print\")"
   ]
  },
  {
   "cell_type": "code",
   "execution_count": 3,
   "metadata": {},
   "outputs": [
    {
     "name": "stdout",
     "output_type": "stream",
     "text": [
      "here the block wil executed\n",
      "enter the name 124243343\n",
      "124243343\n"
     ]
    }
   ],
   "source": [
    "try:\n",
    "    print(\"here the block wil executed\")\n",
    "    a=int(input(\"enter the name \"))\n",
    "    print(a)\n",
    "except Exception as e:\n",
    "    print(e)\n",
    "    "
   ]
  },
  {
   "cell_type": "code",
   "execution_count": 39,
   "metadata": {},
   "outputs": [
    {
     "name": "stdout",
     "output_type": "stream",
     "text": [
      "hello\n",
      "hithis line inside the main thread,so this line will execute any time\n",
      "\n",
      "hello\n",
      "hi\n",
      "hello\n",
      "hi\n",
      "hello\n",
      "hi\n",
      "hello\n",
      "hi\n"
     ]
    }
   ],
   "source": [
    "from threading import *\n",
    "from time import sleep\n",
    "class A(Thread):\n",
    "    def run(self):\n",
    "        for i in range(5):\n",
    "            print(\"hello\")\n",
    "            sleep (2)\n",
    "class B(Thread):\n",
    "    def run(self):\n",
    "        for i in range(5):\n",
    "            print(\"hi\")\n",
    "            sleep (2)\n",
    "a=A()\n",
    "\n",
    "b=B()\n",
    "a.start()\n",
    "sleep(1)\n",
    "b.start()\n",
    "print(\"this line inside the main thread,so this line will execute any time\")"
   ]
  },
  {
   "cell_type": "code",
   "execution_count": null,
   "metadata": {},
   "outputs": [],
   "source": [
    "# in the above main thread getting execute any time .so if we want to make to execute the main thread after the completion of \n",
    "# all thread than,usse join on the thread"
   ]
  },
  {
   "cell_type": "code",
   "execution_count": 40,
   "metadata": {},
   "outputs": [
    {
     "name": "stdout",
     "output_type": "stream",
     "text": [
      "hello\n",
      "hi\n",
      "hello\n",
      "hi\n",
      "hello\n",
      "hi\n",
      "hello\n",
      "hi\n",
      "hello\n",
      "hi\n",
      "this line inside the main thread,so this line will execute any time\n"
     ]
    }
   ],
   "source": [
    "from threading import *\n",
    "from time import sleep\n",
    "class A(Thread):\n",
    "    def run(self):\n",
    "        for i in range(5):\n",
    "            print(\"hello\")\n",
    "            sleep (2)\n",
    "class B(Thread):\n",
    "    def run(self):\n",
    "        for i in range(5):\n",
    "            print(\"hi\")\n",
    "            sleep (2)\n",
    "a=A()\n",
    "\n",
    "b=B()\n",
    "a.start()\n",
    "sleep(1)\n",
    "b.start()\n",
    "a.join()  #---->with the help of join function the main thread body get executed after all the execution\n",
    "b.join()\n",
    "print(\"this line inside the main thread,so this line will execute any time\")"
   ]
  },
  {
   "cell_type": "markdown",
   "metadata": {},
   "source": [
    "# operators opervloading"
   ]
  },
  {
   "cell_type": "code",
   "execution_count": 55,
   "metadata": {},
   "outputs": [],
   "source": [
    "class A:\n",
    "    def __init__(self,m1,m2):\n",
    "        self.m1=m1\n",
    "        self.m2=m2\n",
    "    def __add__(self,other):\n",
    "        m1=self.m1+self.m2\n",
    "        m2=other.m1+other.m2\n",
    "        #c=(m1,m2)   #---->>>if i will not use class name ahed than the program will thing it an tuple\n",
    "        c=A(m1,m2)  ##------>>>>>> so we have to mention the name of class ahead ,before the metod\n",
    "        return c\n",
    "a=A(10,20)\n",
    "b=A(30,40)\n",
    "c=a+b  #-<>    simple add int class hai jisi yeh add method hai.but idhtr toh hum class A mai add method call kar rahey haina,\n",
    "# so add method ko overloading karna padega"
   ]
  },
  {
   "cell_type": "code",
   "execution_count": 56,
   "metadata": {},
   "outputs": [],
   "source": [
    "c=c.m1+c.m2  #---->>>as we know the c.m1 in which a ,and on m2 b value is stored"
   ]
  },
  {
   "cell_type": "code",
   "execution_count": 57,
   "metadata": {},
   "outputs": [
    {
     "name": "stdout",
     "output_type": "stream",
     "text": [
      "100\n"
     ]
    }
   ],
   "source": [
    "print(c)"
   ]
  },
  {
   "cell_type": "code",
   "execution_count": null,
   "metadata": {},
   "outputs": [],
   "source": []
  },
  {
   "cell_type": "code",
   "execution_count": null,
   "metadata": {},
   "outputs": [],
   "source": []
  }
 ],
 "metadata": {
  "kernelspec": {
   "display_name": "Python 3",
   "language": "python",
   "name": "python3"
  },
  "language_info": {
   "codemirror_mode": {
    "name": "ipython",
    "version": 3
   },
   "file_extension": ".py",
   "mimetype": "text/x-python",
   "name": "python",
   "nbconvert_exporter": "python",
   "pygments_lexer": "ipython3",
   "version": "3.8.2"
  }
 },
 "nbformat": 4,
 "nbformat_minor": 4
}
