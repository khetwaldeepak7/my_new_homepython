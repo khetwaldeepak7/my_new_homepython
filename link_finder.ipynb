{
 "cells": [
  {
   "cell_type": "code",
   "execution_count": 4,
   "metadata": {},
   "outputs": [],
   "source": [
    "from html.parser import HTMLParser\n"
   ]
  },
  {
   "cell_type": "code",
   "execution_count": 7,
   "metadata": {},
   "outputs": [],
   "source": [
    "from urllib import parse\n",
    "class LinkFinder(HTMLParser):\n",
    "    def error(self,message):\n",
    "        pass\n",
    "    def __init__(self):\n",
    "         super().__init__()\n",
    "            self.base_url=base_url\n",
    "            self.base_url=page_url\n",
    "            self.links=set()\n",
    "    def  handle_starttag(self,tag,attrs):  #its will take care of starting of tags\n",
    "        if tag==\"a\"; \n",
    "        for (attributed,value) in attrs:\n",
    "            if attributed=='href':\n",
    "                url=parse.urljoin(self.base_url,value)\n",
    "                self.links.add(url)\n",
    "    def page(self):\n",
    "        return self.links\n",
    "            \n",
    "        \n",
    "finder=LinkFinder()\n",
    "            "
   ]
  },
  {
   "cell_type": "code",
   "execution_count": null,
   "metadata": {},
   "outputs": [],
   "source": []
  }
 ],
 "metadata": {
  "kernelspec": {
   "display_name": "Python 3",
   "language": "python",
   "name": "python3"
  },
  "language_info": {
   "codemirror_mode": {
    "name": "ipython",
    "version": 3
   },
   "file_extension": ".py",
   "mimetype": "text/x-python",
   "name": "python",
   "nbconvert_exporter": "python",
   "pygments_lexer": "ipython3",
   "version": "3.8.2"
  }
 },
 "nbformat": 4,
 "nbformat_minor": 4
}
