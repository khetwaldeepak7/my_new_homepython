{
 "cells": [
  {
   "cell_type": "code",
   "execution_count": 2,
   "metadata": {},
   "outputs": [
    {
     "name": "stdout",
     "output_type": "stream",
     "text": [
      "hi\n"
     ]
    }
   ],
   "source": [
    "class A:\n",
    "    def __init__(self):\n",
    "        print(\"hi\")\n",
    "class B(A):   # this is how to inheritage in python\n",
    "    def m1(self):\n",
    "        print(\"bye\")\n",
    "b=B()"
   ]
  },
  {
   "cell_type": "code",
   "execution_count": null,
   "metadata": {},
   "outputs": [],
   "source": []
  },
  {
   "cell_type": "code",
   "execution_count": 16,
   "metadata": {},
   "outputs": [
    {
     "name": "stdout",
     "output_type": "stream",
     "text": [
      "the mileage of car is20030 and the cost is300\n"
     ]
    }
   ],
   "source": [
    "class Car:\n",
    "    def __init__(self,mileage,cost):\n",
    "        self.mileage=mileage\n",
    "        self.cost=cost\n",
    "    def result(self):\n",
    "        print(f\"the mileage of car is{self.mileage} and the cost is{self.cost}\")  # using F we can use the value of variable assign to it\n",
    "class Swift(Car) :    # swift is a car toh usko car ki sabh property hoga na\n",
    "    pass   # agar kisi  v method ke andar ya kisi v class ke andar tumko kuch nhi chahiyeh so used pass inside it\n",
    "\n",
    "s=Swift(20030,300)\n",
    "s.result()"
   ]
  },
  {
   "cell_type": "code",
   "execution_count": null,
   "metadata": {},
   "outputs": [],
   "source": []
  },
  {
   "cell_type": "code",
   "execution_count": 22,
   "metadata": {},
   "outputs": [
    {
     "name": "stdout",
     "output_type": "stream",
     "text": [
      "the mileage of car is 1000 and the cost is200\n"
     ]
    }
   ],
   "source": [
    "class Car:\n",
    "    def __init__(self,mileage,cost):\n",
    "        self.mileage=mileage\n",
    "        self.cost=cost\n",
    "    def result(self):\n",
    "        print(f\"the mileage of car is {self.mileage} and the cost is{self.cost}\")  # using F we can use the value of variable assign to it\n",
    "class Swift(Car):\n",
    "    \n",
    "    def __init__(self,mileage,cost,tyre):\n",
    "        \n",
    "         # and super class ka init two argumnts dia hai ,upar so wahi variable idhar v use hoga\n",
    "            \n",
    "        super().__init__(mileage,cost)   # idhar esne super keyword sey super class ke init method ko call kia\n",
    "        \n",
    "        self.mileage=mileage\n",
    "        self.cost=cost\n",
    "        self.tyre=tyre\n",
    "        \n",
    "s=Swift(1000,200,4)   # jaise hi swift ko cALL kia uska object bana,object bnte hi usne uske constructor ko call kia,mean init ko call kia \n",
    "# yehi value donu class ke init ko jayega\n",
    "s.result()  "
   ]
  },
  {
   "cell_type": "code",
   "execution_count": null,
   "metadata": {},
   "outputs": [],
   "source": []
  },
  {
   "cell_type": "code",
   "execution_count": null,
   "metadata": {},
   "outputs": [],
   "source": []
  }
 ],
 "metadata": {
  "kernelspec": {
   "display_name": "Python 3",
   "language": "python",
   "name": "python3"
  },
  "language_info": {
   "codemirror_mode": {
    "name": "ipython",
    "version": 3
   },
   "file_extension": ".py",
   "mimetype": "text/x-python",
   "name": "python",
   "nbconvert_exporter": "python",
   "pygments_lexer": "ipython3",
   "version": "3.7.6"
  }
 },
 "nbformat": 4,
 "nbformat_minor": 4
}
