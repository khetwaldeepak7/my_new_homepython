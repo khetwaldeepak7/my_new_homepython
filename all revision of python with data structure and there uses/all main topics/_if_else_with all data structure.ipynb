{
 "cells": [
  {
   "cell_type": "markdown",
   "metadata": {},
   "source": [
    "# if with list"
   ]
  },
  {
   "cell_type": "code",
   "execution_count": 6,
   "metadata": {},
   "outputs": [
    {
     "name": "stdout",
     "output_type": "stream",
     "text": [
      "[1, 2, 'deepak', 4]\n"
     ]
    }
   ],
   "source": [
    "a=[1,2,3,4]\n",
    "\n",
    "if a[2]==3:  # checking the list values and and changing it\n",
    "    a[2]='deepak'\n",
    "#if 2 in a:\n",
    "   # print(\"present \")\n",
    "else:\n",
    "    print(\"not present\")\n",
    "print(a)"
   ]
  },
  {
   "cell_type": "markdown",
   "metadata": {},
   "source": [
    "## if with tuple,above condition is not donein a tuple because tuple is immutable"
   ]
  },
  {
   "cell_type": "code",
   "execution_count": 5,
   "metadata": {},
   "outputs": [
    {
     "name": "stdout",
     "output_type": "stream",
     "text": [
      "wrong\n"
     ]
    }
   ],
   "source": [
    "a=(1,2,4,'deepak')\n",
    "if 3 in a:\n",
    "    print(\"prsent\")\n",
    "else:\n",
    "    print(\"wrong\")"
   ]
  },
  {
   "cell_type": "code",
   "execution_count": 9,
   "metadata": {},
   "outputs": [],
   "source": [
    "# if with dictionary"
   ]
  },
  {
   "cell_type": "code",
   "execution_count": 14,
   "metadata": {},
   "outputs": [
    {
     "name": "stdout",
     "output_type": "stream",
     "text": [
      "{1: 'deepak', 2: 'google', 3: 5}\n"
     ]
    }
   ],
   "source": [
    "k={1:\"deepak\",2:\"yaho\",3:5}\n",
    "\n",
    "if k[2]==\"yaho\":  # if k ka 2 index ka value yaho hoga hai toh usko chnge karke google kar deyna\n",
    "    \n",
    "    k[2]=\"google\"\n",
    "    \n",
    "print(k)"
   ]
  }
 ],
 "metadata": {
  "kernelspec": {
   "display_name": "Python 3",
   "language": "python",
   "name": "python3"
  },
  "language_info": {
   "codemirror_mode": {
    "name": "ipython",
    "version": 3
   },
   "file_extension": ".py",
   "mimetype": "text/x-python",
   "name": "python",
   "nbconvert_exporter": "python",
   "pygments_lexer": "ipython3",
   "version": "3.7.6"
  }
 },
 "nbformat": 4,
 "nbformat_minor": 4
}
