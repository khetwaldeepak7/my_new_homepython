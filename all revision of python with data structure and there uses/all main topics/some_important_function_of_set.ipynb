{
 "cells": [
  {
   "cell_type": "code",
   "execution_count": 2,
   "metadata": {},
   "outputs": [
    {
     "name": "stdout",
     "output_type": "stream",
     "text": [
      "{1, 2, 3, 4, 'deepak'}\n"
     ]
    }
   ],
   "source": [
    "a={1,2,3,4,2,'deepak'}\n",
    "print(a)"
   ]
  },
  {
   "cell_type": "markdown",
   "metadata": {},
   "source": [
    "## to add any element in a set"
   ]
  },
  {
   "cell_type": "code",
   "execution_count": 12,
   "metadata": {},
   "outputs": [
    {
     "name": "stdout",
     "output_type": "stream",
     "text": [
      "{32, 1, 2, 234.34, 4, 43, 5334, 23, 'deepak'}\n"
     ]
    }
   ],
   "source": [
    "se={1,2,43,4,23,32,2,'deepak',234.34}\n",
    "#print(se)\n",
    "se.add(5334)   # add new element in a set,single element\n",
    "print(se)"
   ]
  },
  {
   "cell_type": "markdown",
   "metadata": {},
   "source": [
    "# to add multiple element,to pass a list of number"
   ]
  },
  {
   "cell_type": "code",
   "execution_count": 14,
   "metadata": {},
   "outputs": [
    {
     "name": "stdout",
     "output_type": "stream",
     "text": [
      "{32, 1, 2, 234.34, 4, 100, 200, 43, 300, 400, 23, 'deepak'}\n"
     ]
    }
   ],
   "source": [
    "se={1,2,43,4,23,32,2,'deepak',234.34}\n",
    "se.update([100,200,300,400])  # to add multiple elements on it\n",
    "print(se)"
   ]
  },
  {
   "cell_type": "code",
   "execution_count": null,
   "metadata": {},
   "outputs": [],
   "source": []
  }
 ],
 "metadata": {
  "kernelspec": {
   "display_name": "Python 3",
   "language": "python",
   "name": "python3"
  },
  "language_info": {
   "codemirror_mode": {
    "name": "ipython",
    "version": 3
   },
   "file_extension": ".py",
   "mimetype": "text/x-python",
   "name": "python",
   "nbconvert_exporter": "python",
   "pygments_lexer": "ipython3",
   "version": "3.7.6"
  }
 },
 "nbformat": 4,
 "nbformat_minor": 4
}
