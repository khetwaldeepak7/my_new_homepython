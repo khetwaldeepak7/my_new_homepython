{
 "cells": [
  {
   "cell_type": "markdown",
   "metadata": {},
   "source": [
    "# reverse function used for reversing the element of list and array"
   ]
  },
  {
   "cell_type": "code",
   "execution_count": 35,
   "metadata": {},
   "outputs": [
    {
     "name": "stdout",
     "output_type": "stream",
     "text": [
      "[1, 2, 4, 5, 'frros', 132.3]\n"
     ]
    }
   ],
   "source": [
    "a=[1,2,4,5,'frros',132.3]\n",
    "#a.reverse()   # reverse function only take place in the list and the array not in the numpy package array\n",
    "print(a)"
   ]
  },
  {
   "cell_type": "code",
   "execution_count": 36,
   "metadata": {},
   "outputs": [],
   "source": [
    "# to put any value in a paticular index than used insert function,mean list mai tujhko koe paticular jagah par value dalna hai tabh we will used \n",
    "# index"
   ]
  },
  {
   "cell_type": "code",
   "execution_count": 39,
   "metadata": {},
   "outputs": [],
   "source": [
    "a.insert(2,'khetwal')  # a list ke 2 index mai khetwal value assign kar do"
   ]
  },
  {
   "cell_type": "code",
   "execution_count": 40,
   "metadata": {},
   "outputs": [
    {
     "name": "stdout",
     "output_type": "stream",
     "text": [
      "[1, 2, 'khetwal', 4, 5, 'frros', 132.3]\n"
     ]
    }
   ],
   "source": [
    "print(a)  # after assigining the result of the value is,and element ek ek aage"
   ]
  },
  {
   "cell_type": "markdown",
   "metadata": {},
   "source": [
    "# perform the sorting"
   ]
  },
  {
   "cell_type": "code",
   "execution_count": 32,
   "metadata": {},
   "outputs": [
    {
     "name": "stdout",
     "output_type": "stream",
     "text": [
      "['deepak', 'hello', 'khetwal', 'world']\n"
     ]
    }
   ],
   "source": [
    "a=[\"deepak\",\"khetwal\",\"hello\",\"world\"]\n",
    "#sorted(a) # on way\n",
    "\n",
    "# ------->>>>>another way to perform the sorting <<<<<------\n",
    "\n",
    "a.sort()\n",
    "print(a)"
   ]
  },
  {
   "cell_type": "markdown",
   "metadata": {},
   "source": [
    "# to concatinate two list"
   ]
  },
  {
   "cell_type": "code",
   "execution_count": 42,
   "metadata": {},
   "outputs": [
    {
     "name": "stdout",
     "output_type": "stream",
     "text": [
      "[1, 2, 34, 'deepak', 232.2]\n"
     ]
    }
   ],
   "source": [
    "a=[1,2,34]\n",
    "b=['deepak',232.2]\n",
    "c=a+b\n",
    "print(c)"
   ]
  },
  {
   "cell_type": "markdown",
   "metadata": {},
   "source": [
    "# to print multiple time, to a paticular list,for eg idhr bas (a) variable ko 2 time print karna hai"
   ]
  },
  {
   "cell_type": "code",
   "execution_count": 47,
   "metadata": {},
   "outputs": [
    {
     "data": {
      "text/plain": [
       "[1, 2, 34, 1, 2, 34, 'deepak', 232.2]"
      ]
     },
     "execution_count": 47,
     "metadata": {},
     "output_type": "execute_result"
    }
   ],
   "source": [
    "a=[1,2,34]\n",
    "b=['deepak',232.2]\n",
    "\n",
    "a*2 + b  # so first a 2 times print hoga and uske baad 2 variable b  add karenge ending mai"
   ]
  },
  {
   "cell_type": "code",
   "execution_count": null,
   "metadata": {},
   "outputs": [],
   "source": []
  }
 ],
 "metadata": {
  "kernelspec": {
   "display_name": "Python 3",
   "language": "python",
   "name": "python3"
  },
  "language_info": {
   "codemirror_mode": {
    "name": "ipython",
    "version": 3
   },
   "file_extension": ".py",
   "mimetype": "text/x-python",
   "name": "python",
   "nbconvert_exporter": "python",
   "pygments_lexer": "ipython3",
   "version": "3.7.6"
  }
 },
 "nbformat": 4,
 "nbformat_minor": 4
}
