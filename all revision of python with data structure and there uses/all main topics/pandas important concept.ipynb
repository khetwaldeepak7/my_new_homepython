{
 "cells": [
  {
   "cell_type": "code",
   "execution_count": 3,
   "metadata": {},
   "outputs": [
    {
     "data": {
      "text/plain": [
       "0     1\n",
       "1     2\n",
       "2    43\n",
       "3     4\n",
       "4     5\n",
       "dtype: int64"
      ]
     },
     "execution_count": 3,
     "metadata": {},
     "output_type": "execute_result"
    }
   ],
   "source": [
    "import pandas as pd\n",
    "a=pd.Series([1,2,43,4,5])  # as series mai one dimentional deyga ,and as we know ki yeh index values v deyga value ske sath\n",
    "a"
   ]
  },
  {
   "cell_type": "markdown",
   "metadata": {},
   "source": [
    "## above index value was a bydefault value but if we want to chnage the index value than we can also do it"
   ]
  },
  {
   "cell_type": "code",
   "execution_count": 8,
   "metadata": {},
   "outputs": [
    {
     "data": {
      "text/plain": [
       "a     1\n",
       "b     2\n",
       "c    43\n",
       "d     4\n",
       "e     5\n",
       "dtype: int64"
      ]
     },
     "execution_count": 8,
     "metadata": {},
     "output_type": "execute_result"
    }
   ],
   "source": [
    "import pandas as pd\n",
    "a=pd.Series([1,2,43,4,5],index=['a','b','c','d','e'])    # by usinf this we can chnge the values\n",
    "a"
   ]
  },
  {
   "cell_type": "markdown",
   "metadata": {},
   "source": [
    "# pehle humne series kolist ke sath use kia tha abh hum series ko dictionary ke sath use karenge"
   ]
  },
  {
   "cell_type": "code",
   "execution_count": 12,
   "metadata": {},
   "outputs": [
    {
     "data": {
      "text/plain": [
       "1      2\n",
       "43     4\n",
       "5     10\n",
       "dtype: int64"
      ]
     },
     "execution_count": 12,
     "metadata": {},
     "output_type": "execute_result"
    }
   ],
   "source": [
    "import pandas as pd\n",
    "a=pd.Series({1:2,43:4,5:10})\n",
    "a     # with keys we have  got the values"
   ]
  },
  {
   "cell_type": "code",
   "execution_count": 15,
   "metadata": {},
   "outputs": [
    {
     "data": {
      "text/plain": [
       "0     6\n",
       "1     7\n",
       "2    48\n",
       "3     9\n",
       "4    10\n",
       "dtype: int64"
      ]
     },
     "execution_count": 15,
     "metadata": {},
     "output_type": "execute_result"
    }
   ],
   "source": [
    "import pandas as pd   # adding a scalar value\n",
    "a=pd.Series([1,2,43,4,5])\n",
    "a+5   # value addesd ,it work same as numpy but it also show only the index value"
   ]
  },
  {
   "cell_type": "code",
   "execution_count": 18,
   "metadata": {},
   "outputs": [
    {
     "name": "stdout",
     "output_type": "stream",
     "text": [
      "0    11\n",
      "1    22\n",
      "2    73\n",
      "3    44\n",
      "4    55\n",
      "dtype: int64\n"
     ]
    }
   ],
   "source": [
    "import pandas as pd\n",
    "a=pd.Series([1,2,43,4,5])\n",
    "b=pd.Series([10,20,30,40,50])\n",
    "print(a+b)  # adding directly"
   ]
  },
  {
   "cell_type": "markdown",
   "metadata": {},
   "source": [
    "## now multidimentional,  it have rows and column"
   ]
  },
  {
   "cell_type": "markdown",
   "metadata": {},
   "source": [
    "## how to create a Dataframe"
   ]
  },
  {
   "cell_type": "code",
   "execution_count": 23,
   "metadata": {},
   "outputs": [
    {
     "name": "stdout",
     "output_type": "stream",
     "text": [
      "      name  marks\n",
      "0   deepak     10\n",
      "1  khetwal     20\n"
     ]
    }
   ],
   "source": [
    "# idhar hum dictionary mai create karenge\n",
    "import pandas as pd\n",
    "a=pd.DataFrame({'name':['deepak','khetwal'],'marks':[10,20]}) # dictionary mai value lia,pehle ek key ko list mai value dia means u can say list of value\n",
    "# same fir dusre key ko list of value dia\n",
    "# name and marks are the keys and in the list we have the keys values\n",
    "print(a)  # output dekho upar keys aya n niche value as a Datafrme ban gya, rows and column mai"
   ]
  },
  {
   "cell_type": "code",
   "execution_count": null,
   "metadata": {},
   "outputs": [],
   "source": []
  },
  {
   "cell_type": "markdown",
   "metadata": {},
   "source": [
    "# some predefined inbuild function of pandas"
   ]
  },
  {
   "cell_type": "code",
   "execution_count": 1,
   "metadata": {},
   "outputs": [],
   "source": [
    "# 1)head()  -- > starting(first 5) 5 value deyga\n",
    "# 2)tail()   ----> last(last) 5 value deyga\n",
    "# 3)shape()  --- > no of rows and column\n",
    "# 4) describe()  --->> general informtion about dataset"
   ]
  },
  {
   "cell_type": "code",
   "execution_count": null,
   "metadata": {},
   "outputs": [],
   "source": [
    "# chekc the video from the time 3:40:00 to 3:50:00 takh important concept of pandas hai"
   ]
  },
  {
   "cell_type": "markdown",
   "metadata": {},
   "source": [
    "# agr kisi file  ka paticular values of rows and column chahiyeh so we will uses, \n",
    "\n",
    "# to select paticular rows and column of data files"
   ]
  },
  {
   "cell_type": "code",
   "execution_count": 1,
   "metadata": {},
   "outputs": [],
   "source": [
    "# use iloc()      # file name.iloc((1 no of rows range),(2 no of column jo chahiyeh))\n",
    "# filename.iloc(2:10,1:5)   # start rows from 2 to 9 and column 1 to 4takh  #for this concept check the video\n",
    "#pytho tutorial in hindi mai jo hai,uska timing 3:40:01 sey dekhna video to undestand the concept youtuber:grear leaner\n",
    "# esmai rows aand column ka index mention karteh hai"
   ]
  },
  {
   "cell_type": "code",
   "execution_count": 2,
   "metadata": {},
   "outputs": [],
   "source": [
    "# loc is used to extratc the number , it same as iloc but inside (loc)the  column name we have to mentioned\n",
    "#but inside this we have to mention the column name ,and tthe rows excluded values also included"
   ]
  },
  {
   "cell_type": "markdown",
   "metadata": {},
   "source": [
    "# TO remove(Drop) column from the DataFrame"
   ]
  },
  {
   "cell_type": "code",
   "execution_count": 3,
   "metadata": {},
   "outputs": [],
   "source": [
    "# agar humko dataframe mai sey kuch drop karna hai so we will use drop"
   ]
  },
  {
   "cell_type": "markdown",
   "metadata": {},
   "source": [
    "### dataframename.drop('nameofcolumnwhich u want to drop',axis=1)(axis =1 hai so it mean operation will perform on column))"
   ]
  },
  {
   "cell_type": "code",
   "execution_count": null,
   "metadata": {},
   "outputs": [],
   "source": [
    "# upar humne axis =1 kia hai because humko column drop karna hai,so upar jo name dia hai wah column ka values delete ho jayega"
   ]
  },
  {
   "cell_type": "markdown",
   "metadata": {},
   "source": [
    "# to Remove(Drop) the Rows from the dataframa"
   ]
  },
  {
   "cell_type": "code",
   "execution_count": null,
   "metadata": {},
   "outputs": [],
   "source": [
    "# to remove the rows ,use the index number which you want to remove,\n",
    "# esmai axis=0 hoga,because humko abh rows delete karna hai"
   ]
  },
  {
   "cell_type": "code",
   "execution_count": null,
   "metadata": {},
   "outputs": [],
   "source": [
    "## dataframename.drop([1,2,3..],axis=0)  # 1 it take the index number jo rows remove karna hai n,  axis =0 mean rows ka"
   ]
  }
 ],
 "metadata": {
  "kernelspec": {
   "display_name": "Python 3",
   "language": "python",
   "name": "python3"
  },
  "language_info": {
   "codemirror_mode": {
    "name": "ipython",
    "version": 3
   },
   "file_extension": ".py",
   "mimetype": "text/x-python",
   "name": "python",
   "nbconvert_exporter": "python",
   "pygments_lexer": "ipython3",
   "version": "3.7.6"
  }
 },
 "nbformat": 4,
 "nbformat_minor": 4
}
