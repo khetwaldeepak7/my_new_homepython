{
 "cells": [
  {
   "cell_type": "markdown",
   "metadata": {},
   "source": [
    "# using a lambda funtion,take 2 argument,one the value and 2 the condition"
   ]
  },
  {
   "cell_type": "code",
   "execution_count": 16,
   "metadata": {},
   "outputs": [],
   "source": [
    "g=lambda x:x+1\n",
    "x=10"
   ]
  },
  {
   "cell_type": "code",
   "execution_count": 29,
   "metadata": {},
   "outputs": [
    {
     "name": "stdout",
     "output_type": "stream",
     "text": [
      "11\n"
     ]
    }
   ],
   "source": [
    "print(g(x)) # this is how to acces the value of function acces"
   ]
  },
  {
   "cell_type": "markdown",
   "metadata": {},
   "source": [
    "## using filter,it take 2 argument,1 function and 2 value jismai filter karna hai"
   ]
  },
  {
   "cell_type": "code",
   "execution_count": 34,
   "metadata": {},
   "outputs": [
    {
     "name": "stdout",
     "output_type": "stream",
     "text": [
      "[2, 4, 6, 6, 8, 10]\n"
     ]
    }
   ],
   "source": [
    "a=[1,2,3,3,4,5,6,6,7,8,9,10]\n",
    "#1) step)  result=filter(,a)# we have to used filter on (a) mai\n",
    "\n",
    "#  FILTER US VALUE KO FUNCTION KE HISABH SEY FILTER KAR DEYGA\n",
    "\n",
    "result=list(filter(lambda x:x%2==0,a))  #agar a ke value ke ke karke lambda functionmai jayega, and dekha ki jojo value 2 sey divide ho rahe hai unko ek list mai daal do\n",
    "\n",
    "# bodmas rule --  >> pehle bracket ke andar ka ,fir baad mai bhar ka\n",
    "\n",
    "print(result)   # all value get filter ,and convert into the list"
   ]
  },
  {
   "cell_type": "markdown",
   "metadata": {},
   "source": [
    "## filter kaise conditionke hisabh sey element leyga but jabh humko haar element mai operation perform karna hoga tabhhum map use karenge"
   ]
  },
  {
   "cell_type": "markdown",
   "metadata": {},
   "source": [
    "## map list ke sabh element mai wah conditionlagayega,means list ke har paticular element mai condition use hoga"
   ]
  },
  {
   "cell_type": "code",
   "execution_count": 41,
   "metadata": {},
   "outputs": [
    {
     "name": "stdout",
     "output_type": "stream",
     "text": [
      "[3, 4, 7, 8, 8, 9, 10, 11, 12]\n"
     ]
    }
   ],
   "source": [
    "a=[1,2,5,6,6,7,8,9,10]\n",
    "\n",
    "result=list(map(lambda x:x+2,a))  #map function har ek element mai operation perform kareyga\n",
    "print(result)"
   ]
  },
  {
   "cell_type": "markdown",
   "metadata": {},
   "source": [
    "# last is reduce,,\n",
    "  ## it is inside the modules funtools\n",
    "### so first we have to import it"
   ]
  },
  {
   "cell_type": "code",
   "execution_count": 44,
   "metadata": {},
   "outputs": [
    {
     "name": "stdout",
     "output_type": "stream",
     "text": [
      "54\n"
     ]
    }
   ],
   "source": [
    "from functools import reduce\n",
    "a=[1,2,5,6,6,7,8,9,10]  # yeh kya kareyga x+y karke pure list ko add karke value deyga#\n",
    " #0,1,2,3,4,5,6,7,8,9\n",
    "    \n",
    "    # ek ek karke vvalue add kareyyga\n",
    "# 1) 1+2=3\n",
    "# 2) 3+5=8\n",
    "# 3)8+6=14 ... so on\n",
    "\n",
    "su=reduce(lambda x,y:x+y,a)     # take 2 parameter,1 function and 2 value\n",
    "print(su)"
   ]
  },
  {
   "cell_type": "code",
   "execution_count": null,
   "metadata": {},
   "outputs": [],
   "source": []
  }
 ],
 "metadata": {
  "kernelspec": {
   "display_name": "Python 3",
   "language": "python",
   "name": "python3"
  },
  "language_info": {
   "codemirror_mode": {
    "name": "ipython",
    "version": 3
   },
   "file_extension": ".py",
   "mimetype": "text/x-python",
   "name": "python",
   "nbconvert_exporter": "python",
   "pygments_lexer": "ipython3",
   "version": "3.7.6"
  }
 },
 "nbformat": 4,
 "nbformat_minor": 4
}
