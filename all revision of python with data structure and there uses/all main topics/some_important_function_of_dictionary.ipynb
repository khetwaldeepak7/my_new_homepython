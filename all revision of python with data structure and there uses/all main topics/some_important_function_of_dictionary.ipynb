{
 "cells": [
  {
   "cell_type": "markdown",
   "metadata": {},
   "source": [
    "## how to append the one dictionary to another"
   ]
  },
  {
   "cell_type": "code",
   "execution_count": 9,
   "metadata": {},
   "outputs": [
    {
     "name": "stdout",
     "output_type": "stream",
     "text": [
      "{1: 'deepak', 2: 'khetwal', 4: 'good boy'}\n"
     ]
    }
   ],
   "source": [
    "a={1:\"deepak\",2:3}\n",
    "b={2:\"khetwal\",4:\"good boy\"}\n",
    "\n",
    "# -->>>>>>>  so agar mere ko b ka value append karna hai a mai and donu ko ek hi bna hai toh <<<---\n",
    " \n",
    "#  a mai b ki values update ho jayegi\n",
    "\n",
    "a.update(b)  # mean abh b ke  value a mai update hogae\n",
    "print(a)  # we got the value ,as we know dictionary does not allowed the duplicate value,so usne 2 key of a ko hata kar b ki values assign kia"
   ]
  },
  {
   "cell_type": "code",
   "execution_count": null,
   "metadata": {},
   "outputs": [],
   "source": []
  },
  {
   "cell_type": "code",
   "execution_count": null,
   "metadata": {},
   "outputs": [],
   "source": []
  }
 ],
 "metadata": {
  "kernelspec": {
   "display_name": "Python 3",
   "language": "python",
   "name": "python3"
  },
  "language_info": {
   "codemirror_mode": {
    "name": "ipython",
    "version": 3
   },
   "file_extension": ".py",
   "mimetype": "text/x-python",
   "name": "python",
   "nbconvert_exporter": "python",
   "pygments_lexer": "ipython3",
   "version": "3.7.6"
  }
 },
 "nbformat": 4,
 "nbformat_minor": 4
}
