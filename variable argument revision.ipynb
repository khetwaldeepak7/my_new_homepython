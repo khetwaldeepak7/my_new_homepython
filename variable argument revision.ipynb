{
 "cells": [
  {
   "cell_type": "code",
   "execution_count": 12,
   "metadata": {},
   "outputs": [
    {
     "name": "stdout",
     "output_type": "stream",
     "text": [
      "<class 'tuple'>\n",
      "12\n",
      "23\n",
      "34\n",
      "2\n",
      "43\n",
      "4\n",
      "24\n",
      "4\n",
      "this is another inside function\n",
      "hi  this is the keyboard variable length\n"
     ]
    }
   ],
   "source": [
    "class DFS:\n",
    "    def __init__(self,*a):\n",
    "        def inside_function():# just define kia hai jabh takh call nhi karenge tabh takh uska undar ka body execute nhi hoga\n",
    "            def hello():# yeh ek daba hai eske andar sabh material hai jabh dabe ke chabi mileygi tabh daba khueyga ,so same name sey chabi mean dhaba khuleyga\n",
    "                print(\"hi  this is the keyboard variable length\")\n",
    "            print(\"this is another inside function\")\n",
    "            hello()\n",
    "        print(type(a))\n",
    "        for i in a:\n",
    "            print(i)\n",
    "        inside_function()\n",
    "        \n",
    "df=DFS(12,23,34,2,43,4,24,4)   \n",
    "#DFS(df,12,23,34,2,43,4,24,4)   "
   ]
  },
  {
   "cell_type": "code",
   "execution_count": null,
   "metadata": {},
   "outputs": [],
   "source": []
  }
 ],
 "metadata": {
  "kernelspec": {
   "display_name": "Python 3",
   "language": "python",
   "name": "python3"
  },
  "language_info": {
   "codemirror_mode": {
    "name": "ipython",
    "version": 3
   },
   "file_extension": ".py",
   "mimetype": "text/x-python",
   "name": "python",
   "nbconvert_exporter": "python",
   "pygments_lexer": "ipython3",
   "version": "3.8.2"
  }
 },
 "nbformat": 4,
 "nbformat_minor": 4
}
