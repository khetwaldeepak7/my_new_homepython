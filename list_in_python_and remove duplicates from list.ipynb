{
 "cells": [
  {
   "cell_type": "code",
   "execution_count": 2,
   "metadata": {},
   "outputs": [
    {
     "data": {
      "text/plain": [
       "list"
      ]
     },
     "execution_count": 2,
     "metadata": {},
     "output_type": "execute_result"
    }
   ],
   "source": [
    "a=[1,2,3,4,5]\n",
    "b=[\"deepak\",\"kehtwal\"]\n",
    "#print(array)#\n"
   ]
  },
  {
   "cell_type": "code",
   "execution_count": 8,
   "metadata": {},
   "outputs": [],
   "source": [
    "#a.pop(2)\n",
    "#print(array)"
   ]
  },
  {
   "cell_type": "code",
   "execution_count": 4,
   "metadata": {},
   "outputs": [
    {
     "name": "stdout",
     "output_type": "stream",
     "text": [
      "[1, 2, 3, 4, 10, 20, 30]\n",
      "7\n"
     ]
    },
    {
     "data": {
      "text/plain": [
       "[2, 3, 4]"
      ]
     },
     "execution_count": 4,
     "metadata": {},
     "output_type": "execute_result"
    }
   ],
   "source": [
    "s=[1,2,3,4]\n",
    "s.extend([10,20,30])\n",
    "print(s)\n",
    "print(len(s))\n",
    "s[1:4:]    # length 1 sey 3 takh hoga 4 wale ko chhod denge"
   ]
  },
  {
   "cell_type": "code",
   "execution_count": 12,
   "metadata": {},
   "outputs": [
    {
     "data": {
      "text/plain": [
       "[30, 10, 3, 1]"
      ]
     },
     "execution_count": 12,
     "metadata": {},
     "output_type": "execute_result"
    }
   ],
   "source": [
    "s[::-2] # negative slicing mai hamesha pehle index leyga uske baad dia huwe condition ke hisabh sey leyga.jise esmai 2 ka gap hai toh wah v 2 ka gap leyga\n",
    "# pehla index uske baad 1 chhod kar dusra"
   ]
  },
  {
   "cell_type": "code",
   "execution_count": 4,
   "metadata": {},
   "outputs": [
    {
     "name": "stdout",
     "output_type": "stream",
     "text": [
      "helo\n"
     ]
    }
   ],
   "source": [
    "print(\"helo\")"
   ]
  },
  {
   "cell_type": "code",
   "execution_count": 13,
   "metadata": {},
   "outputs": [
    {
     "name": "stdout",
     "output_type": "stream",
     "text": [
      "[1, 2, 3, 3, 4, [10, 'depak', 20, 309, 12]]\n"
     ]
    }
   ],
   "source": [
    "a=[1,2,3,3,4]\n",
    "#print(a)\n",
    "#a.extend([10,20,30]) # ussi list ke andar wah value add ho jayega,mean list extend ho jayega .lamba ho jayega\n",
    "a.append([10,'depak',20,309,12])  #append wah pura list daal deyga\n",
    "print(a)"
   ]
  },
  {
   "cell_type": "code",
   "execution_count": 14,
   "metadata": {},
   "outputs": [
    {
     "data": {
      "text/plain": [
       "6"
      ]
     },
     "execution_count": 14,
     "metadata": {},
     "output_type": "execute_result"
    }
   ],
   "source": [
    "len(a)  #lenght of a list is 6 it means in append it will add whole list togther"
   ]
  },
  {
   "cell_type": "code",
   "execution_count": 30,
   "metadata": {},
   "outputs": [
    {
     "name": "stdout",
     "output_type": "stream",
     "text": [
      "3\n",
      "2\n",
      "1\n",
      "@\n",
      "t\n",
      "f\n",
      "i\n",
      "w\n",
      "s\n",
      "i\n",
      "l\n",
      "l\n",
      "e\n",
      "t\n",
      "n\n",
      "i\n"
     ]
    }
   ],
   "source": [
    "a=\"intelliswift@123\"\n",
    "b=len(a)\n",
    "d=b-1\n",
    "for i in range(b):\n",
    "    #print(d)\n",
    "    for j in a[d]:\n",
    "        print(a[d])\n",
    "    #print(j)\n",
    "        d=d-1\n",
    "    "
   ]
  },
  {
   "cell_type": "code",
   "execution_count": 4,
   "metadata": {},
   "outputs": [
    {
     "name": "stdout",
     "output_type": "stream",
     "text": [
      "['3', '2', '1', '@', 't', 'f', 'i', 'w', 's', 'i', 'l', 'l', 'e', 't', 'n', 'i']\n"
     ]
    }
   ],
   "source": [
    "a=\"intelliswift@123\"\n",
    "b=len(a)\n",
    "ak=[]\n",
    "d=b-1\n",
    "for i in range(b):\n",
    "    #print(d)\n",
    "    for j in a[d]:\n",
    "       # print(a[d])\n",
    "    #print(j)\n",
    "        ak.append(j)\n",
    "        d=d-1\n",
    "print(ak)"
   ]
  },
  {
   "cell_type": "code",
   "execution_count": null,
   "metadata": {},
   "outputs": [],
   "source": []
  },
  {
   "cell_type": "code",
   "execution_count": 2,
   "metadata": {},
   "outputs": [
    {
     "name": "stdout",
     "output_type": "stream",
     "text": [
      "['6', '5', '4', '3', '2', '1']\n"
     ]
    }
   ],
   "source": [
    "a=\"123456\"\n",
    "b=len(a)\n",
    "ak=[]\n",
    "d=b-1\n",
    "for i in range(b):\n",
    "    #print(d)\n",
    "    for j in a[d]:\n",
    "       # print(a[d])\n",
    "    #print(j)\n",
    "        ak.append(j)\n",
    "        d=d-1\n",
    "print(ak)"
   ]
  },
  {
   "cell_type": "code",
   "execution_count": 2,
   "metadata": {},
   "outputs": [
    {
     "data": {
      "text/plain": [
       "4"
      ]
     },
     "execution_count": 2,
     "metadata": {},
     "output_type": "execute_result"
    }
   ],
   "source": [
    "a=[1,2,3,4]\n",
    "len(a)   # the length start from 1"
   ]
  },
  {
   "cell_type": "markdown",
   "metadata": {},
   "source": [
    "# performing sort function in list"
   ]
  },
  {
   "cell_type": "code",
   "execution_count": 1,
   "metadata": {},
   "outputs": [
    {
     "data": {
      "text/plain": [
       "[2, 3, 12, 90]"
      ]
     },
     "execution_count": 1,
     "metadata": {},
     "output_type": "execute_result"
    }
   ],
   "source": [
    "tu=[12,2,90,3]\n",
    "sorted(tu)"
   ]
  },
  {
   "cell_type": "markdown",
   "metadata": {},
   "source": [
    "# #     how to check the elelment present in list or not  using (in)"
   ]
  },
  {
   "cell_type": "markdown",
   "metadata": {},
   "source": [
    "# in kya karyega agar tune usko list,tuple,set kuch v dia ho wah according to condition check kareyga,jaise for loop mai check karta hai"
   ]
  },
  {
   "cell_type": "code",
   "execution_count": 3,
   "metadata": {},
   "outputs": [
    {
     "name": "stdout",
     "output_type": "stream",
     "text": [
      "yes prsent\n"
     ]
    }
   ],
   "source": [
    "a=[1,2,3,4]\n",
    "if 1 in a:    ##------->>>if 1 is present in a;or not\n",
    "    print(\"yes prsent\")"
   ]
  },
  {
   "cell_type": "markdown",
   "metadata": {},
   "source": [
    "# how to remove duplicate from list\n",
    "# first convert list to dictionary or set\n",
    "# but problem with set is the element of set are changes,automatically,as we know the set doesnot have a fix index number"
   ]
  },
  {
   "cell_type": "code",
   "execution_count": 7,
   "metadata": {},
   "outputs": [
    {
     "name": "stdout",
     "output_type": "stream",
     "text": [
      "[1, 2, 3, 4, 5]\n"
     ]
    }
   ],
   "source": [
    "a=[1,2,3,4,5,2,3,4]\n",
    "b=set(a)  # ======>>>> first we will convert it into the set and \n",
    "a=list(b)  #-->>>  after converting into the the set again we will convert it into list\n",
    "print(a)"
   ]
  },
  {
   "cell_type": "code",
   "execution_count": 13,
   "metadata": {},
   "outputs": [],
   "source": [
    "def m1(li):\n",
    "    return(set(li))  # returning the value of list in set format,mean convert list to (set) using set function\n",
    "a=[1,2,3,4,5,2,3,4]\n",
    "k=m1(a)  # passing a list into the function\n"
   ]
  },
  {
   "cell_type": "code",
   "execution_count": 16,
   "metadata": {},
   "outputs": [
    {
     "data": {
      "text/plain": [
       "[1, 2, 3, 4, 5]"
      ]
     },
     "execution_count": 16,
     "metadata": {},
     "output_type": "execute_result"
    }
   ],
   "source": [
    "list(k)"
   ]
  },
  {
   "cell_type": "markdown",
   "metadata": {},
   "source": [
    "# big problem is converting into set ,in set the index number of element will be changes"
   ]
  },
  {
   "cell_type": "code",
   "execution_count": 18,
   "metadata": {},
   "outputs": [
    {
     "data": {
      "text/plain": [
       "['khetwal', 'deepak']"
      ]
     },
     "execution_count": 18,
     "metadata": {},
     "output_type": "execute_result"
    }
   ],
   "source": [
    "a=['deepak','khetwal','deepak']\n",
    "b=set(a)\n",
    "list(b)"
   ]
  },
  {
   "cell_type": "markdown",
   "metadata": {},
   "source": [
    "#  so instead of converting it into set we wil convert it into dict"
   ]
  },
  {
   "cell_type": "code",
   "execution_count": 23,
   "metadata": {},
   "outputs": [
    {
     "name": "stdout",
     "output_type": "stream",
     "text": [
      "{'deepak': None, 'khetwal': None}\n"
     ]
    }
   ],
   "source": [
    "a=['deepak','khetwal','deepak']\n",
    "kl=dict.fromkeys(a)   # so using dictionary function w will convert list to dictionary,\n",
    "#---->>inside the dictionary function there is method know as fromkeys.using this method we wil get out in the dictionary format\n",
    "print(kl)"
   ]
  },
  {
   "cell_type": "markdown",
   "metadata": {},
   "source": [
    "# i got dictionary now i will convert dictionary to list"
   ]
  },
  {
   "cell_type": "code",
   "execution_count": 26,
   "metadata": {},
   "outputs": [
    {
     "data": {
      "text/plain": [
       "['deepak', 'khetwal']"
      ]
     },
     "execution_count": 26,
     "metadata": {},
     "output_type": "execute_result"
    }
   ],
   "source": [
    "list(kl)   # so all the duplicated removes"
   ]
  },
  {
   "cell_type": "code",
   "execution_count": null,
   "metadata": {},
   "outputs": [],
   "source": []
  }
 ],
 "metadata": {
  "kernelspec": {
   "display_name": "Python 3",
   "language": "python",
   "name": "python3"
  },
  "language_info": {
   "codemirror_mode": {
    "name": "ipython",
    "version": 3
   },
   "file_extension": ".py",
   "mimetype": "text/x-python",
   "name": "python",
   "nbconvert_exporter": "python",
   "pygments_lexer": "ipython3",
   "version": "3.8.2"
  }
 },
 "nbformat": 4,
 "nbformat_minor": 4
}
