{
 "cells": [
  {
   "cell_type": "markdown",
   "metadata": {},
   "source": [
    "# multidimentional array"
   ]
  },
  {
   "cell_type": "code",
   "execution_count": 21,
   "metadata": {},
   "outputs": [],
   "source": [
    "from numpy import *\n",
    "a=array([\n",
    "    [1,2,3],    # 1 dimentiona \n",
    "        [3,4,5]   # 2 dimentional\n",
    "])\n"
   ]
  },
  {
   "cell_type": "code",
   "execution_count": 24,
   "metadata": {},
   "outputs": [
    {
     "name": "stdout",
     "output_type": "stream",
     "text": [
      "[[1 2 3]\n",
      " [3 4 5]]\n",
      "number of dimension of array is: 2\n"
     ]
    }
   ],
   "source": [
    "print(a)\n",
    "print(\"number of dimension of array is:\",a.ndim)   # to get to know the type of dimenstion of a array.call afunction ndim"
   ]
  },
  {
   "cell_type": "markdown",
   "metadata": {},
   "source": [
    "# SOME FUNCTION IN THIS ARE GIVEN BELOW"
   ]
  },
  {
   "cell_type": "code",
   "execution_count": 15,
   "metadata": {},
   "outputs": [
    {
     "name": "stdout",
     "output_type": "stream",
     "text": [
      "int32\n"
     ]
    }
   ],
   "source": [
    "# TO GET TO KNOW WHICH DATA TYPE WE ARE WORKING WITH\n",
    "print(a.dtype)   # by using this function we will get to know the data type of a array.dtype itself it say as a data type"
   ]
  },
  {
   "cell_type": "code",
   "execution_count": 16,
   "metadata": {},
   "outputs": [
    {
     "name": "stdout",
     "output_type": "stream",
     "text": [
      "2\n"
     ]
    }
   ],
   "source": [
    "print(a.ndim)  # dimention of a array"
   ]
  },
  {
   "cell_type": "markdown",
   "metadata": {},
   "source": [
    "# if we want to know the number of rows and column in a array than use this function"
   ]
  },
  {
   "cell_type": "code",
   "execution_count": 20,
   "metadata": {},
   "outputs": [
    {
     "name": "stdout",
     "output_type": "stream",
     "text": [
      "(2, 3)\n"
     ]
    }
   ],
   "source": [
    "print(a.shape)  #it will tell number of rows and column"
   ]
  },
  {
   "cell_type": "markdown",
   "metadata": {},
   "source": [
    "# using size it wil give total size of array"
   ]
  },
  {
   "cell_type": "code",
   "execution_count": 23,
   "metadata": {},
   "outputs": [
    {
     "data": {
      "text/plain": [
       "6"
      ]
     },
     "execution_count": 23,
     "metadata": {},
     "output_type": "execute_result"
    }
   ],
   "source": [
    "a.size    # so total size of array is"
   ]
  },
  {
   "cell_type": "markdown",
   "metadata": {},
   "source": [
    "# important concept"
   ]
  },
  {
   "cell_type": "markdown",
   "metadata": {},
   "source": [
    "# how to convert multidimentional array to singal dimentional array"
   ]
  },
  {
   "cell_type": "code",
   "execution_count": 35,
   "metadata": {},
   "outputs": [],
   "source": [
    "# by using the function name called flatten()\n",
    "from numpy import *\n",
    "z=array([\n",
    "    [1,2,3,4],\n",
    "    [5,6,7,8],\n",
    "    \n",
    "])"
   ]
  },
  {
   "cell_type": "code",
   "execution_count": 41,
   "metadata": {},
   "outputs": [
    {
     "data": {
      "text/plain": [
       "(2, 4)"
      ]
     },
     "execution_count": 41,
     "metadata": {},
     "output_type": "execute_result"
    }
   ],
   "source": [
    "z.shape  # no of rows and column\n"
   ]
  },
  {
   "cell_type": "code",
   "execution_count": 43,
   "metadata": {},
   "outputs": [
    {
     "data": {
      "text/plain": [
       "array([1, 2, 3, 4, 5, 6, 7, 8])"
      ]
     },
     "execution_count": 43,
     "metadata": {},
     "output_type": "execute_result"
    }
   ],
   "source": [
    "z.flatten()  s   # by using this function the array of multidimentional will get to singal"
   ]
  },
  {
   "cell_type": "markdown",
   "metadata": {},
   "source": [
    "#  how to convert multidimentional array to single dimentional array"
   ]
  },
  {
   "cell_type": "code",
   "execution_count": 25,
   "metadata": {},
   "outputs": [
    {
     "data": {
      "text/plain": [
       "12"
      ]
     },
     "execution_count": 25,
     "metadata": {},
     "output_type": "execute_result"
    }
   ],
   "source": [
    "from numpy import *\n",
    "singal=array([\n",
    "    [1,2,3,4,5,11],\n",
    "    [6,7,8,9,10,12]\n",
    "])\n",
    "singal.size  # esse number of element pta chal jayega ,us hisbah sey reshape method sey row and column decide kar leyna"
   ]
  },
  {
   "cell_type": "code",
   "execution_count": 59,
   "metadata": {},
   "outputs": [
    {
     "name": "stdout",
     "output_type": "stream",
     "text": [
      "[ 1  2  3  4  5 11  6  7  8  9 10 12]\n"
     ]
    }
   ],
   "source": [
    "singal1=singal.flatten()   #multidimentional ko singal mai convert kia\n",
    "print(singal1)"
   ]
  },
  {
   "cell_type": "markdown",
   "metadata": {},
   "source": [
    "# now the singal dimentional array is stored in singal 1 ,so now i wil call a function reshape to convert that singal dimentional array to multidimentional array"
   ]
  },
  {
   "cell_type": "code",
   "execution_count": 63,
   "metadata": {},
   "outputs": [
    {
     "name": "stdout",
     "output_type": "stream",
     "text": [
      "[[ 1  2  3  4]\n",
      " [ 5 11  6  7]\n",
      " [ 8  9 10 12]]\n"
     ]
    }
   ],
   "source": [
    "multi=singal1.reshape(3,4)    # in re shape we have to mention the number of rows and column\n",
    "print(multi)"
   ]
  },
  {
   "cell_type": "code",
   "execution_count": 64,
   "metadata": {},
   "outputs": [],
   "source": [
    "# if we want than we can performone more way"
   ]
  },
  {
   "cell_type": "code",
   "execution_count": 73,
   "metadata": {},
   "outputs": [],
   "source": [
    "multi1=multi.reshape(2,3,2)#  here it is telling as the 2 dimentional array with 3 rows and 2 column\n"
   ]
  },
  {
   "cell_type": "code",
   "execution_count": 74,
   "metadata": {},
   "outputs": [
    {
     "name": "stdout",
     "output_type": "stream",
     "text": [
      "[[[ 1  2]\n",
      "  [ 3  4]\n",
      "  [ 5 11]]\n",
      "\n",
      " [[ 6  7]\n",
      "  [ 8  9]\n",
      "  [10 12]]]\n"
     ]
    }
   ],
   "source": [
    "print(multi1)"
   ]
  },
  {
   "cell_type": "markdown",
   "metadata": {},
   "source": [
    "# how to convert dimentional array to matrix  "
   ]
  },
  {
   "cell_type": "code",
   "execution_count": 75,
   "metadata": {},
   "outputs": [],
   "source": [
    "from numpy import *\n",
    "z=array([\n",
    "    [1,2,3],\n",
    "    [4,5,6]\n",
    "])"
   ]
  },
  {
   "cell_type": "code",
   "execution_count": 82,
   "metadata": {},
   "outputs": [
    {
     "name": "stdout",
     "output_type": "stream",
     "text": [
      "[[1 2 3]\n",
      " [4 5 6]]\n"
     ]
    },
    {
     "data": {
      "text/plain": [
       "numpy.ndarray"
      ]
     },
     "execution_count": 82,
     "metadata": {},
     "output_type": "execute_result"
    }
   ],
   "source": [
    "print(z)  #\n",
    "type(z)\n"
   ]
  },
  {
   "cell_type": "markdown",
   "metadata": {},
   "source": [
    "# to convert into matrix use the function call.matrix"
   ]
  },
  {
   "cell_type": "code",
   "execution_count": 83,
   "metadata": {},
   "outputs": [],
   "source": [
    "# to convert into matrix use the function call.matrix\n",
    "mat=matrix(z)"
   ]
  },
  {
   "cell_type": "code",
   "execution_count": 85,
   "metadata": {},
   "outputs": [
    {
     "name": "stdout",
     "output_type": "stream",
     "text": [
      "[[1 2 3]\n",
      " [4 5 6]]\n"
     ]
    },
    {
     "data": {
      "text/plain": [
       "numpy.matrix"
      ]
     },
     "execution_count": 85,
     "metadata": {},
     "output_type": "execute_result"
    }
   ],
   "source": [
    "print(mat)\n",
    "type(mat) # checking the type of it"
   ]
  },
  {
   "cell_type": "markdown",
   "metadata": {},
   "source": [
    "# now after converting it into matrix we can perform many matrix(mathmatical operation)"
   ]
  },
  {
   "cell_type": "markdown",
   "metadata": {},
   "source": [
    "# we can take matrix value from the user"
   ]
  },
  {
   "cell_type": "code",
   "execution_count": 92,
   "metadata": {},
   "outputs": [],
   "source": [
    "from numpy import *\n",
    "gk=matrix('1 ,2 ,3 ,4;5 ,6 ,7 ,8 ')  # this is the way by which we can take input from the user.. to make a separate we use ; semicolon"
   ]
  },
  {
   "cell_type": "code",
   "execution_count": 93,
   "metadata": {},
   "outputs": [
    {
     "name": "stdout",
     "output_type": "stream",
     "text": [
      "[[1 2 3 4]\n",
      " [5 6 7 8]]\n"
     ]
    }
   ],
   "source": [
    "print(gk)"
   ]
  },
  {
   "cell_type": "code",
   "execution_count": 94,
   "metadata": {},
   "outputs": [],
   "source": [
    "#converting this matrix into  3 rows and 3 colum\n",
    "gk=matrix('1,2,3;4,5,6;7,8,9')"
   ]
  },
  {
   "cell_type": "code",
   "execution_count": 95,
   "metadata": {},
   "outputs": [
    {
     "name": "stdout",
     "output_type": "stream",
     "text": [
      "[[1 2 3]\n",
      " [4 5 6]\n",
      " [7 8 9]]\n"
     ]
    }
   ],
   "source": [
    "print(gk)"
   ]
  },
  {
   "cell_type": "code",
   "execution_count": 104,
   "metadata": {},
   "outputs": [],
   "source": [
    "#to get all the diagonal element of matrix\n"
   ]
  },
  {
   "cell_type": "code",
   "execution_count": 106,
   "metadata": {},
   "outputs": [
    {
     "name": "stdout",
     "output_type": "stream",
     "text": [
      "[[1 5 9]]\n"
     ]
    }
   ],
   "source": [
    "print(gk.diagonal())"
   ]
  },
  {
   "cell_type": "code",
   "execution_count": 109,
   "metadata": {},
   "outputs": [
    {
     "name": "stdout",
     "output_type": "stream",
     "text": [
      "[1 5 9]\n"
     ]
    }
   ],
   "source": [
    "print(diagonal(gk))"
   ]
  },
  {
   "cell_type": "code",
   "execution_count": 120,
   "metadata": {},
   "outputs": [],
   "source": [
    "from numpy import *\n",
    "a=array([\n",
    "    [1,2,3],   # it will consider whole '[]' as a 0\n",
    "    [4,5,6]    # it will consider whole '[]' as a 1\n",
    "])"
   ]
  },
  {
   "cell_type": "code",
   "execution_count": 121,
   "metadata": {},
   "outputs": [
    {
     "name": "stdout",
     "output_type": "stream",
     "text": [
      "[[1 2 3]\n",
      " [4 5 6]]\n"
     ]
    }
   ],
   "source": [
    "print(a)"
   ]
  },
  {
   "cell_type": "code",
   "execution_count": 122,
   "metadata": {},
   "outputs": [
    {
     "name": "stdout",
     "output_type": "stream",
     "text": [
      "0\n",
      "1\n"
     ]
    }
   ],
   "source": [
    "for i in range(len(a)):\n",
    "    print(i)"
   ]
  },
  {
   "cell_type": "markdown",
   "metadata": {},
   "source": [
    "# multiplication of matrix take place only agar pehle(1) table ka column=2 table ka rows ho tabhi possible hai"
   ]
  },
  {
   "cell_type": "code",
   "execution_count": 1,
   "metadata": {},
   "outputs": [
    {
     "name": "stdout",
     "output_type": "stream",
     "text": [
      "[84, 90, 96]\n",
      "[201, 216, 231]\n",
      "[318, 342, 366]\n"
     ]
    }
   ],
   "source": [
    "\n",
    "X = [[1,2,3], # 0 rows \n",
    "    [4,5,6],  # 1 rows\n",
    "    [7,8,9]]    # here 3*3   ------>>>>>>>eska columna niche wale ke row ke barabr hai\n",
    "\n",
    "\n",
    "# huko pta hai multiplication kaisa hota hia,multiplication tabhi possible hai 1 ka column 2 ke rows ke barabar ho\n",
    "\n",
    "#------------>>multiplication kaise jata hai humko pta hai,1 rows of 1 ka 1 column ko multiply kareyga\n",
    "#---- eska pattern aisa hoga    --------o \n",
    "#                                           \n",
    "#\n",
    "# \n",
    "Y = [[10,11,12],  \n",
    "      [13,14,15],  \n",
    "      [16,17,18]]    # yeh v 3*3 ka matrix hai ----->>>>>> eska 3 rows hai   -----so condition satisfied huwa\n",
    " \n",
    "result = [[0,0,0],  \n",
    "               [0,0,0],  \n",
    "              [0,0,0]] \n",
    "\n",
    "for i in range(len(X)): \n",
    "    \n",
    "    #print(i)# len of x define the number of rows\n",
    "    \n",
    "    for j in range(len(Y[0])):    #  this is used when we dont have sme number of rows and column in both table\n",
    "    \n",
    "        for k in range(len(Y)):  #row column*rows column  #as we know ki pehle wale ka column increment hoga, and second wale ka rows\n",
    "            \n",
    "            result[i][j] += X[i][k] * Y[k][j]  \n",
    "            \n",
    "            # firts []  decide the rows n [] second column\n",
    "# =====>>>  esmai result ke set mai pehle set mai 0 row ke 0 column mai values assign hoga--->> i=0 and j=0== x[i=0 rows ka][k=0 column]*y[k=0 columnka ,j=rows]  ##   first iteration mai jabh takh k ki value puri nhi hpgi tabh takh,k ki value hoen ke baaad j ka satisfied hoga \n",
    "#-->>>  abhi i=0 hi hai but k=1 ho gya toh x[i=0 row ka ][k=1 pehle column value]  and y ka[k=1 rows,y=0 column]       \n",
    "            \n",
    "for r in result:  \n",
    "     print(r)"
   ]
  },
  {
   "cell_type": "code",
   "execution_count": 3,
   "metadata": {},
   "outputs": [
    {
     "name": "stdout",
     "output_type": "stream",
     "text": [
      "[27 36]\n",
      "[19 25]\n"
     ]
    }
   ],
   "source": [
    "# it is used when we dont have a same number of rows andcolumn in both table\n",
    "from numpy import *\n",
    "a=array([\n",
    "\t[2,3,4],     # jaise idhar A table mai 2 rows and 3 column hai,\n",
    "\t[1,2,3]])\n",
    "b=array([\n",
    "\t[1,2],    # and eska 3 rows and 2 column hai\n",
    "\t[3,4],\n",
    "\t[4,5]])\n",
    "re=array([\n",
    "\t[0,0],\n",
    "\t[0,0]])\n",
    "for i in range(len(a)):\n",
    "\tfor j in range(len(b[0])):  # so donu table ka rows and column alah hai eslia y[0] dalna \n",
    "\t\tfor k in range(len(b)):\n",
    "\t\t\tre[i][j]+=a[i][k]*b[k][j]\n",
    "for l in re:\n",
    "\tprint(l)"
   ]
  },
  {
   "cell_type": "code",
   "execution_count": null,
   "metadata": {},
   "outputs": [],
   "source": []
  },
  {
   "cell_type": "code",
   "execution_count": 4,
   "metadata": {},
   "outputs": [
    {
     "data": {
      "text/plain": [
       "3"
      ]
     },
     "execution_count": 4,
     "metadata": {},
     "output_type": "execute_result"
    }
   ],
   "source": [
    "import numpy\n",
    "a=numpy.array([\n",
    "    [[1,2,3],[4,5,6]],\n",
    "    [[7,8,9],[10,11,12]]\n",
    "])\n",
    "a.ndim  # 3 dimenstion "
   ]
  },
  {
   "cell_type": "code",
   "execution_count": 18,
   "metadata": {},
   "outputs": [
    {
     "name": "stdout",
     "output_type": "stream",
     "text": [
      "[ 1  2  3  4  5  6  7  8  9 10 11 12]\n"
     ]
    },
    {
     "data": {
      "text/plain": [
       "array([[ 1,  2,  3,  4,  5,  6],\n",
       "       [ 7,  8,  9, 10, 11, 12]])"
      ]
     },
     "execution_count": 18,
     "metadata": {},
     "output_type": "execute_result"
    }
   ],
   "source": [
    "d=a.flatten()\n",
    "print(d)\n",
    "d.reshape(2,6)   # 2 rows and 6 column"
   ]
  },
  {
   "cell_type": "code",
   "execution_count": 12,
   "metadata": {},
   "outputs": [
    {
     "name": "stdout",
     "output_type": "stream",
     "text": [
      "[1 2 3 4 2 3 4 5]\n"
     ]
    },
    {
     "data": {
      "text/plain": [
       "array([[1, 2, 3, 4],\n",
       "       [2, 3, 4, 5]])"
      ]
     },
     "execution_count": 12,
     "metadata": {},
     "output_type": "execute_result"
    }
   ],
   "source": [
    "from numpy import *\n",
    "a=array([\n",
    "    [1,2,3,4],\n",
    "    [2,3,4,5]\n",
    "])\n",
    "d=a.flatten()\n",
    "print(d)\n",
    "d.reshape(2,4)  # we made it into 2 rows and 4 column"
   ]
  },
  {
   "cell_type": "code",
   "execution_count": null,
   "metadata": {},
   "outputs": [],
   "source": []
  },
  {
   "cell_type": "markdown",
   "metadata": {},
   "source": [
    "# simple way to do a matrix multiplication"
   ]
  },
  {
   "cell_type": "code",
   "execution_count": 13,
   "metadata": {},
   "outputs": [
    {
     "name": "stdout",
     "output_type": "stream",
     "text": [
      "[36, 39]\n",
      "[105, 114]\n"
     ]
    }
   ],
   "source": [
    "X = [[1,2],  \n",
    "    [4,5]]        \n",
    "y=[[1,3],\n",
    "   [2,5]]\n",
    "z=[[0,0],\n",
    "  [0,0]] \n",
    "for i in range(len(X)):\n",
    "    for j in range(len(y)):\n",
    "        for k in range(len(y)):   # multiplication mai 1 X ka column increment hoga, q ki hum multiplilaction mai ulta l mai kareteh hai,\n",
    "            # (so pehle ka Column increment hoga es lia k as as columna) and [dusre ka rows increment leyga  ,to k as a rows hoga]\n",
    "            z[i][j]= z[i][j]+X[i][k] * Y[k][j]\n",
    "for r in z:  \n",
    "     print(r)"
   ]
  },
  {
   "cell_type": "code",
   "execution_count": null,
   "metadata": {},
   "outputs": [],
   "source": []
  },
  {
   "cell_type": "code",
   "execution_count": null,
   "metadata": {},
   "outputs": [],
   "source": []
  },
  {
   "cell_type": "code",
   "execution_count": 12,
   "metadata": {},
   "outputs": [],
   "source": [
    "from numpy import *\n",
    "bd=array([\n",
    "    [12,3,4],\n",
    "    [6,7,8]\n",
    "])\n"
   ]
  },
  {
   "cell_type": "code",
   "execution_count": 9,
   "metadata": {},
   "outputs": [
    {
     "name": "stdout",
     "output_type": "stream",
     "text": [
      "2\n"
     ]
    }
   ],
   "source": [
    "print(bd.ndim)   # bd is a array inside which the ndim method for finding the dimension"
   ]
  },
  {
   "cell_type": "code",
   "execution_count": 10,
   "metadata": {},
   "outputs": [
    {
     "name": "stdout",
     "output_type": "stream",
     "text": [
      "(2, 3)\n"
     ]
    }
   ],
   "source": [
    "#mn hnumpy.method(jo shape finr kareyga ki number of rows and column hoga)\n",
    "print(bd.shape)"
   ]
  },
  {
   "cell_type": "code",
   "execution_count": 17,
   "metadata": {
    "collapsed": true
   },
   "outputs": [],
   "source": [
    "import numpy\n",
    "bd=numpy.asarray([\n",
    "    [1,2,3],\n",
    "    [5,6,7]\n",
    "]) \n",
    "m=numpy.matrix(bd)# inside the numpy matrix there is a method call the matrix,so this is how we will call the method inside the class"
   ]
  },
  {
   "cell_type": "code",
   "execution_count": 18,
   "metadata": {},
   "outputs": [
    {
     "name": "stdout",
     "output_type": "stream",
     "text": [
      "[[1 2 3]\n",
      " [5 6 7]]\n"
     ]
    }
   ],
   "source": [
    "print(m)"
   ]
  },
  {
   "cell_type": "code",
   "execution_count": 19,
   "metadata": {},
   "outputs": [
    {
     "data": {
      "text/plain": [
       "numpy.matrix"
      ]
     },
     "execution_count": 19,
     "metadata": {},
     "output_type": "execute_result"
    }
   ],
   "source": [
    "type(m)"
   ]
  },
  {
   "cell_type": "code",
   "execution_count": 20,
   "metadata": {},
   "outputs": [
    {
     "data": {
      "text/plain": [
       "numpy.ndarray"
      ]
     },
     "execution_count": 20,
     "metadata": {},
     "output_type": "execute_result"
    }
   ],
   "source": [
    "type(bd)"
   ]
  },
  {
   "cell_type": "code",
   "execution_count": null,
   "metadata": {},
   "outputs": [],
   "source": [
    "\n"
   ]
  },
  {
   "cell_type": "code",
   "execution_count": null,
   "metadata": {},
   "outputs": [],
   "source": []
  },
  {
   "cell_type": "code",
   "execution_count": null,
   "metadata": {},
   "outputs": [],
   "source": []
  },
  {
   "cell_type": "code",
   "execution_count": 1,
   "metadata": {},
   "outputs": [],
   "source": [
    "from numpy import *\n",
    "a=array([\n",
    "    [1,2,3],\n",
    "    [3,4,5]\n",
    "])"
   ]
  },
  {
   "cell_type": "code",
   "execution_count": 2,
   "metadata": {},
   "outputs": [
    {
     "name": "stdout",
     "output_type": "stream",
     "text": [
      "[[1 2 3]\n",
      " [3 4 5]]\n"
     ]
    },
    {
     "data": {
      "text/plain": [
       "2"
      ]
     },
     "execution_count": 2,
     "metadata": {},
     "output_type": "execute_result"
    }
   ],
   "source": [
    "print(a)\n",
    "a.ndim"
   ]
  },
  {
   "cell_type": "code",
   "execution_count": 3,
   "metadata": {},
   "outputs": [],
   "source": [
    "f=a.flatten()"
   ]
  },
  {
   "cell_type": "code",
   "execution_count": 4,
   "metadata": {},
   "outputs": [
    {
     "name": "stdout",
     "output_type": "stream",
     "text": [
      "[1 2 3 3 4 5]\n"
     ]
    }
   ],
   "source": [
    "print(f)"
   ]
  },
  {
   "cell_type": "code",
   "execution_count": 5,
   "metadata": {},
   "outputs": [
    {
     "data": {
      "text/plain": [
       "array([[1, 2, 3],\n",
       "       [3, 4, 5]])"
      ]
     },
     "execution_count": 5,
     "metadata": {},
     "output_type": "execute_result"
    }
   ],
   "source": [
    "f.reshape(2,3)"
   ]
  },
  {
   "cell_type": "code",
   "execution_count": null,
   "metadata": {},
   "outputs": [],
   "source": []
  },
  {
   "cell_type": "code",
   "execution_count": null,
   "metadata": {},
   "outputs": [],
   "source": []
  },
  {
   "cell_type": "code",
   "execution_count": null,
   "metadata": {},
   "outputs": [],
   "source": []
  },
  {
   "cell_type": "code",
   "execution_count": null,
   "metadata": {},
   "outputs": [],
   "source": []
  },
  {
   "cell_type": "code",
   "execution_count": null,
   "metadata": {},
   "outputs": [],
   "source": []
  },
  {
   "cell_type": "code",
   "execution_count": null,
   "metadata": {},
   "outputs": [],
   "source": []
  },
  {
   "cell_type": "code",
   "execution_count": null,
   "metadata": {},
   "outputs": [],
   "source": []
  },
  {
   "cell_type": "code",
   "execution_count": null,
   "metadata": {},
   "outputs": [],
   "source": []
  }
 ],
 "metadata": {
  "kernelspec": {
   "display_name": "Python 3",
   "language": "python",
   "name": "python3"
  },
  "language_info": {
   "codemirror_mode": {
    "name": "ipython",
    "version": 3
   },
   "file_extension": ".py",
   "mimetype": "text/x-python",
   "name": "python",
   "nbconvert_exporter": "python",
   "pygments_lexer": "ipython3",
   "version": "3.7.6"
  }
 },
 "nbformat": 4,
 "nbformat_minor": 4
}
