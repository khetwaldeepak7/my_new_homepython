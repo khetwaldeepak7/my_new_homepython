{
 "cells": [
  {
   "cell_type": "code",
   "execution_count": 1,
   "metadata": {},
   "outputs": [],
   "source": [
    "#taking argument in function\n",
    "# function argument\n",
    "#1) mutable\n",
    "#2) immutable"
   ]
  },
  {
   "cell_type": "code",
   "execution_count": 3,
   "metadata": {},
   "outputs": [
    {
     "name": "stdout",
     "output_type": "stream",
     "text": [
      "5\n"
     ]
    }
   ],
   "source": [
    " # simple example\n",
    "def update(a):  # here i ccept the value \n",
    "    a=5\n",
    "    print(a)\n",
    "update(10)   # here im passing a value 10 to the function\n",
    "\n"
   ]
  },
  {
   "cell_type": "code",
   "execution_count": 1,
   "metadata": {},
   "outputs": [
    {
     "name": "stdout",
     "output_type": "stream",
     "text": [
      "first it will print 10\n",
      "5\n",
      "10\n"
     ]
    }
   ],
   "source": [
    "# another way\n",
    "def update(a):  # here i accept the value \n",
    "    a=5\n",
    "    print(a)  # inside the function it will take the value of a\n",
    "a=10\n",
    "print(\"first it will print\",a)\n",
    "update(a)   # here it will take the value of a \n",
    "print(a)   # and print the value\n"
   ]
  },
  {
   "cell_type": "markdown",
   "metadata": {},
   "source": [
    "# IN PYTHON WE DONT HAVE THE CONCEPT OF PASS BY VALUE AND PASS BY REFERENCE"
   ]
  },
  {
   "cell_type": "code",
   "execution_count": 14,
   "metadata": {},
   "outputs": [],
   "source": [
    "# because python mai addres value ke base mai store hota hai.agar do variable ko same value hai toh,donu variable ka addres same hoga"
   ]
  },
  {
   "cell_type": "code",
   "execution_count": 17,
   "metadata": {},
   "outputs": [
    {
     "name": "stdout",
     "output_type": "stream",
     "text": [
      "258406464\n",
      "258406464\n",
      "5\n",
      "258406384\n",
      "10\n"
     ]
    }
   ],
   "source": [
    "def update(a):  #\n",
    "    \n",
    "    print(id(a))   #here the  the value of a is still 10 ,as we have pass 10 while calling the value.so the addres wil be same\n",
    "    a=5     #here i changed the value of (a) so the address will also changed\n",
    "    print(a)  # inside the function it will take the value of a\n",
    "    print(id(a))  # it addrres wil be different\n",
    "a=10\n",
    "print(id(a)) # sabhse pehle yeh call huwa n print huwa  # here the addres will be same as above\n",
    "update(a)   # here it will take the value of a \n",
    "print(a) "
   ]
  },
  {
   "cell_type": "markdown",
   "metadata": {},
   "source": [
    "# if somebody ask for passing value in function what we used,either pass by value or pass by reference\n",
    "# the answer is none of these,we neither use pass by value nor pass by refernce"
   ]
  },
  {
   "cell_type": "code",
   "execution_count": null,
   "metadata": {},
   "outputs": [],
   "source": []
  },
  {
   "cell_type": "markdown",
   "metadata": {},
   "source": [
    "# when  we have  MUTABLE DATA TYPE like list .than if we changes the value it effect all,but the location will be sAME"
   ]
  },
  {
   "cell_type": "code",
   "execution_count": 1,
   "metadata": {},
   "outputs": [],
   "source": [
    "def fun(li):   # lis mai jo function calling ke time value pass kia hai .wah sabh value li mai aa gya......\n",
    "    print(id(li))     #3)   third it will called\n",
    "    #here i will change the one value of list,and it wil effect  the whole list\n",
    "    li[1]='deepak'\n",
    "    print(id(li))\n",
    "    "
   ]
  },
  {
   "cell_type": "code",
   "execution_count": 2,
   "metadata": {},
   "outputs": [
    {
     "name": "stdout",
     "output_type": "stream",
     "text": [
      "53490792\n",
      "53490792\n",
      "53490792\n",
      "[1, 'deepak', 3, 4]\n"
     ]
    }
   ],
   "source": [
    "lis=[1,2,3,4]\n",
    "print(id(lis))                        #############     1)  first print statement\n",
    "fun(lis)       # calling a function    ##############    2) than this will called\n",
    "print(lis)     # i made change in the list where i had define it,so list is mutable it will make changes on whole list"
   ]
  },
  {
   "cell_type": "code",
   "execution_count": null,
   "metadata": {},
   "outputs": [],
   "source": []
  },
  {
   "cell_type": "code",
   "execution_count": null,
   "metadata": {},
   "outputs": [],
   "source": []
  },
  {
   "cell_type": "code",
   "execution_count": null,
   "metadata": {},
   "outputs": [],
   "source": []
  },
  {
   "cell_type": "code",
   "execution_count": null,
   "metadata": {},
   "outputs": [],
   "source": []
  },
  {
   "cell_type": "code",
   "execution_count": null,
   "metadata": {},
   "outputs": [],
   "source": []
  },
  {
   "cell_type": "code",
   "execution_count": null,
   "metadata": {},
   "outputs": [],
   "source": []
  },
  {
   "cell_type": "code",
   "execution_count": null,
   "metadata": {},
   "outputs": [],
   "source": []
  },
  {
   "cell_type": "code",
   "execution_count": 2,
   "metadata": {},
   "outputs": [],
   "source": []
  },
  {
   "cell_type": "code",
   "execution_count": null,
   "metadata": {},
   "outputs": [],
   "source": [
    "\n"
   ]
  },
  {
   "cell_type": "code",
   "execution_count": null,
   "metadata": {},
   "outputs": [],
   "source": []
  },
  {
   "cell_type": "code",
   "execution_count": null,
   "metadata": {},
   "outputs": [],
   "source": []
  },
  {
   "cell_type": "code",
   "execution_count": null,
   "metadata": {},
   "outputs": [],
   "source": []
  },
  {
   "cell_type": "code",
   "execution_count": null,
   "metadata": {},
   "outputs": [],
   "source": []
  },
  {
   "cell_type": "code",
   "execution_count": null,
   "metadata": {},
   "outputs": [],
   "source": []
  }
 ],
 "metadata": {
  "kernelspec": {
   "display_name": "Python 3",
   "language": "python",
   "name": "python3"
  },
  "language_info": {
   "codemirror_mode": {
    "name": "ipython",
    "version": 3
   },
   "file_extension": ".py",
   "mimetype": "text/x-python",
   "name": "python",
   "nbconvert_exporter": "python",
   "pygments_lexer": "ipython3",
   "version": "3.8.2"
  }
 },
 "nbformat": 4,
 "nbformat_minor": 4
}
