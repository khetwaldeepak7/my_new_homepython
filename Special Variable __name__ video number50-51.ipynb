{
 "cells": [
  {
   "cell_type": "markdown",
   "metadata": {},
   "source": [
    "# the value of __name__ is main.as we know the program always.execute from the main,"
   ]
  },
  {
   "cell_type": "code",
   "execution_count": 10,
   "metadata": {},
   "outputs": [
    {
     "name": "stdout",
     "output_type": "stream",
     "text": [
      "this will get print first\n",
      "rocker\n",
      "hello\n"
     ]
    }
   ],
   "source": [
    "def m1():\n",
    "    print(\"hello\")\n",
    "def m2():\n",
    "    print(\"rocker\")\n",
    "    return m1()    # with the help of return function i will make a call to the function from inside\n",
    "print(\"this will get print first\")\n",
    "m2()"
   ]
  },
  {
   "cell_type": "code",
   "execution_count": null,
   "metadata": {},
   "outputs": [],
   "source": []
  },
  {
   "cell_type": "code",
   "execution_count": 12,
   "metadata": {},
   "outputs": [
    {
     "name": "stdout",
     "output_type": "stream",
     "text": [
      "this will get print first\n",
      "rocker\n",
      "hello\n"
     ]
    }
   ],
   "source": [
    "def m1():\n",
    "    print(\"hello\")\n",
    "def m2():\n",
    "    print(\"rocker\")\n",
    "    m1()    # without the help of return function i will make a call to the function from inside\n",
    "print(\"this will get print first\")\n",
    "m2()"
   ]
  },
  {
   "cell_type": "code",
   "execution_count": null,
   "metadata": {},
   "outputs": [],
   "source": []
  },
  {
   "cell_type": "code",
   "execution_count": null,
   "metadata": {},
   "outputs": [],
   "source": []
  },
  {
   "cell_type": "code",
   "execution_count": null,
   "metadata": {},
   "outputs": [],
   "source": []
  },
  {
   "cell_type": "code",
   "execution_count": null,
   "metadata": {},
   "outputs": [],
   "source": []
  }
 ],
 "metadata": {
  "kernelspec": {
   "display_name": "Python 3",
   "language": "python",
   "name": "python3"
  },
  "language_info": {
   "codemirror_mode": {
    "name": "ipython",
    "version": 3
   },
   "file_extension": ".py",
   "mimetype": "text/x-python",
   "name": "python",
   "nbconvert_exporter": "python",
   "pygments_lexer": "ipython3",
   "version": "3.8.2"
  }
 },
 "nbformat": 4,
 "nbformat_minor": 4
}
