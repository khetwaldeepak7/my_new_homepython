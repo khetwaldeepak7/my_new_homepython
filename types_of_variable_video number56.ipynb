{
 "cells": [
  {
   "cell_type": "code",
   "execution_count": 1,
   "metadata": {},
   "outputs": [],
   "source": [
    "# let create a objct of class"
   ]
  },
  {
   "cell_type": "code",
   "execution_count": 22,
   "metadata": {},
   "outputs": [],
   "source": [
    "# to check the local and global variable"
   ]
  },
  {
   "cell_type": "code",
   "execution_count": 30,
   "metadata": {},
   "outputs": [
    {
     "name": "stdout",
     "output_type": "stream",
     "text": [
      "dk 24\n",
      "deepak 24\n"
     ]
    }
   ],
   "source": [
    "class Deepak:\n",
    "    def __init__(self):\n",
    "        self.name=\"deepak\"    # these are the instance variabel ,because they are called inside the functioni\n",
    "        self.age=24\n",
    "d=Deepak()\n",
    "d1=Deepak()\n",
    "d.name=\"dk\"\n",
    "print(d.name,d.age)\n",
    "print(d1.name,d1.age)"
   ]
  },
  {
   "cell_type": "code",
   "execution_count": 26,
   "metadata": {},
   "outputs": [],
   "source": [
    "# to declare a class variable "
   ]
  },
  {
   "cell_type": "code",
   "execution_count": 32,
   "metadata": {},
   "outputs": [
    {
     "name": "stdout",
     "output_type": "stream",
     "text": [
      "dk 24 3\n",
      "deepak 24 3\n"
     ]
    }
   ],
   "source": [
    "class Deepak:\n",
    "   \n",
    "    wheels=4  \n",
    "    \n",
    "    # make a class variable.because as we know this will remain common for all car\n",
    "    # as we know car has 4 wheels.so we will make wheels a class variable\n",
    "    \n",
    "    def __init__(self):\n",
    "        self.name=\"deepak\"      # the name n color will change for everycar so we will make it insatnace variable\n",
    "          \n",
    "        self.age=24\n",
    "        \n",
    "d=Deepak()\n",
    "d1=Deepak()\n",
    "d.name=\"dk\"   # changing the values\n",
    "\n",
    "#but to change the value of class varibale,we have to used class name.variable name\n",
    "#class name.variable.because the class variable is inside the class\n",
    "# and it will reflect al\n",
    "#@@@@@@@@@@@@@@@@@@@@@@@@@\n",
    "Deepak.wheels=3  # after changing got the output\n",
    "#############################\n",
    "print(d.name,d.age,d.wheels)  # this is the way we can acces the wheels\n",
    "\n",
    "print(d1.name,d1.age,d1.wheels)"
   ]
  },
  {
   "cell_type": "code",
   "execution_count": null,
   "metadata": {},
   "outputs": [],
   "source": []
  },
  {
   "cell_type": "code",
   "execution_count": 4,
   "metadata": {},
   "outputs": [
    {
     "name": "stdout",
     "output_type": "stream",
     "text": [
      "enter first car speed :100\n",
      "enter second car speed :100\n",
      "both car having a same speed \n"
     ]
    }
   ],
   "source": [
    "class Car:\n",
    "    def __init__(self,speed):\n",
    "        self.speed=speed  # self is nothing but the reference of the class Car.mean object of car\n",
    "        self.color=\"blue\"\n",
    "        self.compant=\"bmv\"  # this are the instance variable ,because they are called inside the function or method\n",
    "    def compared(self,c2object):\n",
    "        if(self.speed==c2object.speed):\n",
    "            return True\n",
    "        else:\n",
    "            return False\n",
    "        \n",
    "s1=int(input(\"enter first car speed :\"))\n",
    "s2=int(input(\"enter second car speed :\"))\n",
    "c=Car(s1)\n",
    "c2=Car(s2)\n",
    "\n",
    "\n",
    "Car.compared(c,c2)\n",
    "if c.compared(c2):  # we are comparing here c with c2 ,so C is the self and C2 is the c2objevt as i had mentioned in the formal arg\n",
    "    print(\"both car having a same speed \")\n",
    "else:\n",
    "    print(\"both car having a different speed\")\n"
   ]
  },
  {
   "cell_type": "code",
   "execution_count": null,
   "metadata": {},
   "outputs": [],
   "source": []
  },
  {
   "cell_type": "code",
   "execution_count": null,
   "metadata": {},
   "outputs": [],
   "source": []
  },
  {
   "cell_type": "code",
   "execution_count": 1,
   "metadata": {},
   "outputs": [],
   "source": [
    "class Student:\n",
    "    def __init__(self,m1,m2,m3):      # taking input from the user\n",
    "        self.m1=m1\n",
    "        self.m2=m2\n",
    "        self.m3=m3\n",
    "    def compared(self,s2):\n",
    "        totals1=self.m1+self.m2+self.m3  # adding all the values\n",
    "        totals2=s2.m1+s2.m2+s2.m3\n",
    "\n",
    "        if(totals1>totals2):\n",
    "            return True\n",
    "        else:\n",
    "            return False\n",
    "\n",
    "s1=Student(10,20,30)\n",
    "s2=Student(40,50,60)\n"
   ]
  },
  {
   "cell_type": "code",
   "execution_count": 2,
   "metadata": {},
   "outputs": [
    {
     "name": "stdout",
     "output_type": "stream",
     "text": [
      "10 20 30\n",
      "40 50 60\n",
      "s1 have the higest marks\n"
     ]
    }
   ],
   "source": [
    "print(s1.m1,s1.m2,s1.m3)\n",
    "print(s2.m1,s2.m2,s2.m3)\n",
    "if s1.compared(s2):\n",
    "    print(\"s2 have a higest marks\") \n",
    "else:\n",
    "    print(\"s1 have the higest marks\")"
   ]
  },
  {
   "cell_type": "code",
   "execution_count": 5,
   "metadata": {},
   "outputs": [
    {
     "name": "stdout",
     "output_type": "stream",
     "text": [
      "hello\n",
      "10 100\n"
     ]
    }
   ],
   "source": [
    "class A:\n",
    "    def __init__(self):\n",
    "        self.m1=10\n",
    "        self.m2=100\n",
    "        print(\"hello\")\n",
    "        print(self.m1,self.m2)   # this is how to print,using self\n",
    "a=A()    # init method get call automatically"
   ]
  },
  {
   "cell_type": "code",
   "execution_count": null,
   "metadata": {},
   "outputs": [],
   "source": []
  },
  {
   "cell_type": "code",
   "execution_count": null,
   "metadata": {},
   "outputs": [],
   "source": []
  },
  {
   "cell_type": "code",
   "execution_count": null,
   "metadata": {},
   "outputs": [],
   "source": []
  },
  {
   "cell_type": "code",
   "execution_count": null,
   "metadata": {},
   "outputs": [],
   "source": []
  },
  {
   "cell_type": "code",
   "execution_count": null,
   "metadata": {},
   "outputs": [],
   "source": []
  },
  {
   "cell_type": "code",
   "execution_count": null,
   "metadata": {},
   "outputs": [],
   "source": []
  },
  {
   "cell_type": "code",
   "execution_count": null,
   "metadata": {},
   "outputs": [],
   "source": []
  },
  {
   "cell_type": "code",
   "execution_count": null,
   "metadata": {},
   "outputs": [],
   "source": []
  },
  {
   "cell_type": "code",
   "execution_count": null,
   "metadata": {},
   "outputs": [],
   "source": []
  },
  {
   "cell_type": "code",
   "execution_count": null,
   "metadata": {},
   "outputs": [],
   "source": []
  },
  {
   "cell_type": "code",
   "execution_count": null,
   "metadata": {},
   "outputs": [],
   "source": []
  },
  {
   "cell_type": "code",
   "execution_count": null,
   "metadata": {},
   "outputs": [],
   "source": []
  },
  {
   "cell_type": "code",
   "execution_count": 14,
   "metadata": {},
   "outputs": [
    {
     "name": "stdout",
     "output_type": "stream",
     "text": [
      "70\n"
     ]
    }
   ],
   "source": [
    "print(sub)"
   ]
  },
  {
   "cell_type": "code",
   "execution_count": null,
   "metadata": {},
   "outputs": [],
   "source": []
  }
 ],
 "metadata": {
  "kernelspec": {
   "display_name": "Python 3",
   "language": "python",
   "name": "python3"
  },
  "language_info": {
   "codemirror_mode": {
    "name": "ipython",
    "version": 3
   },
   "file_extension": ".py",
   "mimetype": "text/x-python",
   "name": "python",
   "nbconvert_exporter": "python",
   "pygments_lexer": "ipython3",
   "version": "3.8.2"
  }
 },
 "nbformat": 4,
 "nbformat_minor": 4
}
