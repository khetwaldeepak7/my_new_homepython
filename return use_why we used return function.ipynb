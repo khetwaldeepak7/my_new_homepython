{
 "cells": [
  {
   "cell_type": "markdown",
   "metadata": {},
   "source": [
    "# as main thing about return is,that it will break a function,and come out from the function"
   ]
  },
  {
   "cell_type": "code",
   "execution_count": 2,
   "metadata": {},
   "outputs": [
    {
     "name": "stdout",
     "output_type": "stream",
     "text": [
      "5\n"
     ]
    }
   ],
   "source": [
    "def a():\n",
    "    return 5   # --->the work of return is ,jo uske pass hai jaise idhr 5 hai.toh wah value wah return bhejdeyga,jidhr function ko call kia hai\n",
    "a=a()\n",
    "print(a)"
   ]
  },
  {
   "cell_type": "code",
   "execution_count": 3,
   "metadata": {},
   "outputs": [],
   "source": [
    "def a(c,d):\n",
    "    g=c+d\n",
    "    return g   #---->>abh return mai g hai,toh g mai jo v value hoga wah function ko pass kardeyga,jidhr usfunction ko cal kia haui\n",
    "#--->as we know return ka matlabreturn karne ka value jo v usmai hai,idhr g mai c+d ka value hai so g ka value return kareyga\n",
    "\n",
    "result=a(10,20)"
   ]
  },
  {
   "cell_type": "code",
   "execution_count": 4,
   "metadata": {},
   "outputs": [
    {
     "name": "stdout",
     "output_type": "stream",
     "text": [
      "30\n"
     ]
    }
   ],
   "source": [
    "print(result)   #===>got the result"
   ]
  },
  {
   "cell_type": "code",
   "execution_count": null,
   "metadata": {},
   "outputs": [],
   "source": []
  }
 ],
 "metadata": {
  "kernelspec": {
   "display_name": "Python 3",
   "language": "python",
   "name": "python3"
  },
  "language_info": {
   "codemirror_mode": {
    "name": "ipython",
    "version": 3
   },
   "file_extension": ".py",
   "mimetype": "text/x-python",
   "name": "python",
   "nbconvert_exporter": "python",
   "pygments_lexer": "ipython3",
   "version": "3.8.2"
  }
 },
 "nbformat": 4,
 "nbformat_minor": 4
}
