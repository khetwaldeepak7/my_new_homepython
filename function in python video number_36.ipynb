{
 "cells": [
  {
   "cell_type": "markdown",
   "metadata": {},
   "source": [
    "# why function :when we have a large project we divide that project into small,small task,so it will be easy to change any thing if needed,"
   ]
  },
  {
   "cell_type": "markdown",
   "metadata": {},
   "source": [
    "# function is helpful,like: we have a big project so we can create many function.and each function will perform certain job: \n",
    "# like hey function this is ydo your job .you have to this"
   ]
  },
  {
   "cell_type": "code",
   "execution_count": 2,
   "metadata": {},
   "outputs": [],
   "source": [
    "# we can create our own function,:\n",
    "#1 define a function,and write all the code what u want to perform in this function\n",
    "#2 calling a function"
   ]
  },
  {
   "cell_type": "markdown",
   "metadata": {},
   "source": [
    "# using function,it helpfull.once write a statement inside it,and call it multiple time.we don't have to write code again n again"
   ]
  },
  {
   "cell_type": "code",
   "execution_count": 3,
   "metadata": {},
   "outputs": [
    {
     "name": "stdout",
     "output_type": "stream",
     "text": [
      "  30\n",
      "hello good morning\n"
     ]
    }
   ],
   "source": [
    "# defining a function  #,jabh takh function ko call nhi karenge tabh takh uske andarka koe v method execute nhi hoga\n",
    "def greeks():           # using this we are defining the function\n",
    "    print(\"hello\",end=\" \")\n",
    "    print(\"good morning\")\n",
    "a=10+20\n",
    "print(\" \",+a)\n",
    "greeks()   # here we are calling  a function\n",
    "    "
   ]
  },
  {
   "cell_type": "markdown",
   "metadata": {},
   "source": [
    "# once we have define a function we can call it multiple time"
   ]
  },
  {
   "cell_type": "code",
   "execution_count": 7,
   "metadata": {},
   "outputs": [
    {
     "name": "stdout",
     "output_type": "stream",
     "text": [
      "hello good morning\n",
      "hello good morning\n"
     ]
    }
   ],
   "source": [
    "greeks()\n",
    "greeks()"
   ]
  },
  {
   "cell_type": "code",
   "execution_count": 13,
   "metadata": {},
   "outputs": [],
   "source": [
    "def add(a,b):\n",
    "    c=a+b\n",
    "    return c     # return function always return the value to where it function is called"
   ]
  },
  {
   "cell_type": "code",
   "execution_count": 15,
   "metadata": {},
   "outputs": [
    {
     "name": "stdout",
     "output_type": "stream",
     "text": [
      "hello good morning\n",
      "9\n"
     ]
    }
   ],
   "source": [
    "result=add(5,4)\n",
    "greeks()\n",
    "print(result)"
   ]
  },
  {
   "cell_type": "markdown",
   "metadata": {},
   "source": [
    "# when we are returning more than one value"
   ]
  },
  {
   "cell_type": "code",
   "execution_count": 21,
   "metadata": {},
   "outputs": [
    {
     "name": "stdout",
     "output_type": "stream",
     "text": [
      "9 1\n"
     ]
    }
   ],
   "source": [
    "def add_sub(a,b):\n",
    "    c=a+b\n",
    "    sub=a-b\n",
    "    return c,sub          #here we are returning 2 result to the function where we had called it\n",
    "result,result1=add_sub(5,4)  # we are returning 2 value so we have to accept the result n for accpeting we have to use 2 variable\n",
    "print(result,result1)\n"
   ]
  },
  {
   "cell_type": "markdown",
   "metadata": {},
   "source": [
    "# how to call a function with the help of return method"
   ]
  },
  {
   "cell_type": "code",
   "execution_count": 2,
   "metadata": {},
   "outputs": [
    {
     "name": "stdout",
     "output_type": "stream",
     "text": [
      "this will get print first\n",
      "rocker\n",
      "hello\n"
     ]
    }
   ],
   "source": [
    "def m1():\n",
    "    print(\"hello\")\n",
    "def m2():\n",
    "    print(\"rocker\")\n",
    "    return m1()    # with the help of return function i will make a call to the function from inside to m1\n",
    "print(\"this will get print first\")\n",
    "m2()  # i made call to m2 method"
   ]
  },
  {
   "cell_type": "code",
   "execution_count": null,
   "metadata": {},
   "outputs": [],
   "source": []
  }
 ],
 "metadata": {
  "kernelspec": {
   "display_name": "Python 3",
   "language": "python",
   "name": "python3"
  },
  "language_info": {
   "codemirror_mode": {
    "name": "ipython",
    "version": 3
   },
   "file_extension": ".py",
   "mimetype": "text/x-python",
   "name": "python",
   "nbconvert_exporter": "python",
   "pygments_lexer": "ipython3",
   "version": "3.8.2"
  }
 },
 "nbformat": 4,
 "nbformat_minor": 4
}
